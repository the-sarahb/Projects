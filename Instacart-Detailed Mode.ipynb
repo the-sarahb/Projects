{
 "cells": [
  {
   "cell_type": "markdown",
   "metadata": {},
   "source": [
    "# Instacart - Online Grocery Shopping\n",
    "### Recommender Systems"
   ]
  },
  {
   "cell_type": "markdown",
   "metadata": {},
   "source": [
    "The instacart Online Grocery Shopping Dataset will be used for this project. The data can be found at the below link:\n",
    "<br>\n",
    "<br>\n",
    "“The Instacart Online Grocery Shopping Dataset 2017”, Accessed from https://www.instacart.com/datasets/grocery-shopping-2017"
   ]
  },
  {
   "cell_type": "markdown",
   "metadata": {},
   "source": [
    "### Data"
   ]
  },
  {
   "cell_type": "markdown",
   "metadata": {},
   "source": [
    "The Instacart data is as follow:\n",
    "\n",
    "`orders` (3.4m rows, 206k users):\n",
    "* `order_id`: order identifier\n",
    "* `user_id`: customer identifier\n",
    "* `eval_set`: which evaluation set this order belongs in (see `SET` described below)\n",
    "* `order_number`: the order sequence number for this user (1 = first, n = nth)\n",
    "* `order_dow`: the day of the week the order was placed on (0 = Sunday)\n",
    "* `order_hour_of_day`: the hour of the day the order was placed on\n",
    "* `days_since_prior`: days since the last order, capped at 30 (with NAs for `order_number` = 1)\n",
    "\n",
    "`products` (50k rows):\n",
    "* `product_id`: product identifier\n",
    "* `product_name`: name of the product\n",
    "* `aisle_id`: foreign key\n",
    "* `department_id`: foreign key\n",
    "\n",
    "`aisles` (134 rows):\n",
    "* `aisle_id`: aisle identifier\n",
    "* `aisle`: the name of the aisle\n",
    "\n",
    "`deptartments` (21 rows):\n",
    "* `department_id`: department identifier\n",
    "* `department`: the name of the department\n",
    "\n",
    "`order_products_prior` (30m+ rows):\n",
    "This set includes orders prior to the users' most recent order\n",
    "* `order_id`: foreign key\n",
    "* `product_id`: foreign key\n",
    "* `add_to_cart_order`: order in which each product was added to cart\n",
    "* `reordered`: 1 if this product has been ordered by this user in the past, 0 otherwise\n",
    "\n",
    "`order_products_train` (30m+ rows):\n",
    "This set will be used to test our recommender model\n",
    "* `order_id`: foreign key\n",
    "* `product_id`: foreign key\n",
    "* `add_to_cart_order`: order in which each product was added to cart\n",
    "* `reordered`: 1 if this product has been ordered by this user in the past, 0 otherwise\n"
   ]
  },
  {
   "cell_type": "code",
   "execution_count": 1,
   "metadata": {
    "collapsed": true
   },
   "outputs": [],
   "source": [
    "# import packages needed\n",
    "import pandas as pd\n",
    "import numpy as np\n",
    "import seaborn as sns\n",
    "import matplotlib.pyplot as plt\n",
    "%matplotlib inline\n",
    "\n",
    "# set max printout options for pandas:\n",
    "pd.options.display.max_columns = 50\n",
    "pd.options.display.max_colwidth = 300\n",
    "\n",
    "from matplotlib.ticker import FuncFormatter"
   ]
  },
  {
   "cell_type": "code",
   "execution_count": 2,
   "metadata": {
    "collapsed": true
   },
   "outputs": [],
   "source": [
    "# Load in the data from the different files\n",
    "orders = pd.read_csv('Data/instacart_2017_05_01/orders.csv', header =0)\n",
    "products = pd.read_csv('Data/instacart_2017_05_01/products.csv', header = 0) \n",
    "aisles = pd.read_csv('Data/instacart_2017_05_01/aisles.csv', header = 0) \n",
    "departments = pd.read_csv('Data/instacart_2017_05_01/departments.csv', header = 0)\n",
    "order_products_prior = pd.read_csv('Data/instacart_2017_05_01/order_products__prior.csv', header = 0) \n",
    "order_products_train = pd.read_csv('Data/instacart_2017_05_01/order_products__train.csv', header = 0) "
   ]
  },
  {
   "cell_type": "code",
   "execution_count": 3,
   "metadata": {},
   "outputs": [
    {
     "data": {
      "text/plain": [
       "(3421083,)"
      ]
     },
     "execution_count": 3,
     "metadata": {},
     "output_type": "execute_result"
    }
   ],
   "source": [
    "orders['order_id'].unique().shape"
   ]
  },
  {
   "cell_type": "code",
   "execution_count": 4,
   "metadata": {},
   "outputs": [
    {
     "data": {
      "text/plain": [
       "(49688,)"
      ]
     },
     "execution_count": 4,
     "metadata": {},
     "output_type": "execute_result"
    }
   ],
   "source": [
    "products['product_id'].unique().shape"
   ]
  },
  {
   "cell_type": "code",
   "execution_count": 5,
   "metadata": {},
   "outputs": [
    {
     "data": {
      "text/plain": [
       "(21,)"
      ]
     },
     "execution_count": 5,
     "metadata": {},
     "output_type": "execute_result"
    }
   ],
   "source": [
    "departments['department_id'].unique().shape"
   ]
  },
  {
   "cell_type": "code",
   "execution_count": 6,
   "metadata": {},
   "outputs": [
    {
     "data": {
      "text/plain": [
       "(206209,)"
      ]
     },
     "execution_count": 6,
     "metadata": {},
     "output_type": "execute_result"
    }
   ],
   "source": [
    "orders['user_id'].unique().shape"
   ]
  },
  {
   "cell_type": "code",
   "execution_count": 7,
   "metadata": {},
   "outputs": [
    {
     "data": {
      "text/html": [
       "<div>\n",
       "<style>\n",
       "    .dataframe thead tr:only-child th {\n",
       "        text-align: right;\n",
       "    }\n",
       "\n",
       "    .dataframe thead th {\n",
       "        text-align: left;\n",
       "    }\n",
       "\n",
       "    .dataframe tbody tr th {\n",
       "        vertical-align: top;\n",
       "    }\n",
       "</style>\n",
       "<table border=\"1\" class=\"dataframe\">\n",
       "  <thead>\n",
       "    <tr style=\"text-align: right;\">\n",
       "      <th></th>\n",
       "      <th>order_id</th>\n",
       "      <th>user_id</th>\n",
       "      <th>eval_set</th>\n",
       "      <th>order_number</th>\n",
       "      <th>order_dow</th>\n",
       "      <th>order_hour_of_day</th>\n",
       "      <th>days_since_prior_order</th>\n",
       "    </tr>\n",
       "  </thead>\n",
       "  <tbody>\n",
       "    <tr>\n",
       "      <th>0</th>\n",
       "      <td>2539329</td>\n",
       "      <td>1</td>\n",
       "      <td>prior</td>\n",
       "      <td>1</td>\n",
       "      <td>2</td>\n",
       "      <td>8</td>\n",
       "      <td>NaN</td>\n",
       "    </tr>\n",
       "    <tr>\n",
       "      <th>1</th>\n",
       "      <td>2398795</td>\n",
       "      <td>1</td>\n",
       "      <td>prior</td>\n",
       "      <td>2</td>\n",
       "      <td>3</td>\n",
       "      <td>7</td>\n",
       "      <td>15.0</td>\n",
       "    </tr>\n",
       "    <tr>\n",
       "      <th>2</th>\n",
       "      <td>473747</td>\n",
       "      <td>1</td>\n",
       "      <td>prior</td>\n",
       "      <td>3</td>\n",
       "      <td>3</td>\n",
       "      <td>12</td>\n",
       "      <td>21.0</td>\n",
       "    </tr>\n",
       "  </tbody>\n",
       "</table>\n",
       "</div>"
      ],
      "text/plain": [
       "   order_id  user_id eval_set  order_number  order_dow  order_hour_of_day  \\\n",
       "0   2539329        1    prior             1          2                  8   \n",
       "1   2398795        1    prior             2          3                  7   \n",
       "2    473747        1    prior             3          3                 12   \n",
       "\n",
       "   days_since_prior_order  \n",
       "0                     NaN  \n",
       "1                    15.0  \n",
       "2                    21.0  "
      ]
     },
     "execution_count": 7,
     "metadata": {},
     "output_type": "execute_result"
    }
   ],
   "source": [
    "orders.head(3)"
   ]
  },
  {
   "cell_type": "code",
   "execution_count": 8,
   "metadata": {},
   "outputs": [
    {
     "data": {
      "text/html": [
       "<div>\n",
       "<style>\n",
       "    .dataframe thead tr:only-child th {\n",
       "        text-align: right;\n",
       "    }\n",
       "\n",
       "    .dataframe thead th {\n",
       "        text-align: left;\n",
       "    }\n",
       "\n",
       "    .dataframe tbody tr th {\n",
       "        vertical-align: top;\n",
       "    }\n",
       "</style>\n",
       "<table border=\"1\" class=\"dataframe\">\n",
       "  <thead>\n",
       "    <tr style=\"text-align: right;\">\n",
       "      <th></th>\n",
       "      <th>product_id</th>\n",
       "      <th>product_name</th>\n",
       "      <th>aisle_id</th>\n",
       "      <th>department_id</th>\n",
       "    </tr>\n",
       "  </thead>\n",
       "  <tbody>\n",
       "    <tr>\n",
       "      <th>0</th>\n",
       "      <td>1</td>\n",
       "      <td>Chocolate Sandwich Cookies</td>\n",
       "      <td>61</td>\n",
       "      <td>19</td>\n",
       "    </tr>\n",
       "    <tr>\n",
       "      <th>1</th>\n",
       "      <td>2</td>\n",
       "      <td>All-Seasons Salt</td>\n",
       "      <td>104</td>\n",
       "      <td>13</td>\n",
       "    </tr>\n",
       "    <tr>\n",
       "      <th>2</th>\n",
       "      <td>3</td>\n",
       "      <td>Robust Golden Unsweetened Oolong Tea</td>\n",
       "      <td>94</td>\n",
       "      <td>7</td>\n",
       "    </tr>\n",
       "  </tbody>\n",
       "</table>\n",
       "</div>"
      ],
      "text/plain": [
       "   product_id                          product_name  aisle_id  department_id\n",
       "0           1            Chocolate Sandwich Cookies        61             19\n",
       "1           2                      All-Seasons Salt       104             13\n",
       "2           3  Robust Golden Unsweetened Oolong Tea        94              7"
      ]
     },
     "execution_count": 8,
     "metadata": {},
     "output_type": "execute_result"
    }
   ],
   "source": [
    "products.head(3)"
   ]
  },
  {
   "cell_type": "code",
   "execution_count": 9,
   "metadata": {},
   "outputs": [
    {
     "data": {
      "text/html": [
       "<div>\n",
       "<style>\n",
       "    .dataframe thead tr:only-child th {\n",
       "        text-align: right;\n",
       "    }\n",
       "\n",
       "    .dataframe thead th {\n",
       "        text-align: left;\n",
       "    }\n",
       "\n",
       "    .dataframe tbody tr th {\n",
       "        vertical-align: top;\n",
       "    }\n",
       "</style>\n",
       "<table border=\"1\" class=\"dataframe\">\n",
       "  <thead>\n",
       "    <tr style=\"text-align: right;\">\n",
       "      <th></th>\n",
       "      <th>department_id</th>\n",
       "      <th>department</th>\n",
       "    </tr>\n",
       "  </thead>\n",
       "  <tbody>\n",
       "    <tr>\n",
       "      <th>0</th>\n",
       "      <td>1</td>\n",
       "      <td>frozen</td>\n",
       "    </tr>\n",
       "    <tr>\n",
       "      <th>1</th>\n",
       "      <td>2</td>\n",
       "      <td>other</td>\n",
       "    </tr>\n",
       "    <tr>\n",
       "      <th>2</th>\n",
       "      <td>3</td>\n",
       "      <td>bakery</td>\n",
       "    </tr>\n",
       "  </tbody>\n",
       "</table>\n",
       "</div>"
      ],
      "text/plain": [
       "   department_id department\n",
       "0              1     frozen\n",
       "1              2      other\n",
       "2              3     bakery"
      ]
     },
     "execution_count": 9,
     "metadata": {},
     "output_type": "execute_result"
    }
   ],
   "source": [
    "departments.head(3)"
   ]
  },
  {
   "cell_type": "code",
   "execution_count": 10,
   "metadata": {},
   "outputs": [
    {
     "data": {
      "text/html": [
       "<div>\n",
       "<style>\n",
       "    .dataframe thead tr:only-child th {\n",
       "        text-align: right;\n",
       "    }\n",
       "\n",
       "    .dataframe thead th {\n",
       "        text-align: left;\n",
       "    }\n",
       "\n",
       "    .dataframe tbody tr th {\n",
       "        vertical-align: top;\n",
       "    }\n",
       "</style>\n",
       "<table border=\"1\" class=\"dataframe\">\n",
       "  <thead>\n",
       "    <tr style=\"text-align: right;\">\n",
       "      <th></th>\n",
       "      <th>order_id</th>\n",
       "      <th>product_id</th>\n",
       "      <th>add_to_cart_order</th>\n",
       "      <th>reordered</th>\n",
       "    </tr>\n",
       "  </thead>\n",
       "  <tbody>\n",
       "    <tr>\n",
       "      <th>0</th>\n",
       "      <td>2</td>\n",
       "      <td>33120</td>\n",
       "      <td>1</td>\n",
       "      <td>1</td>\n",
       "    </tr>\n",
       "    <tr>\n",
       "      <th>1</th>\n",
       "      <td>2</td>\n",
       "      <td>28985</td>\n",
       "      <td>2</td>\n",
       "      <td>1</td>\n",
       "    </tr>\n",
       "    <tr>\n",
       "      <th>2</th>\n",
       "      <td>2</td>\n",
       "      <td>9327</td>\n",
       "      <td>3</td>\n",
       "      <td>0</td>\n",
       "    </tr>\n",
       "  </tbody>\n",
       "</table>\n",
       "</div>"
      ],
      "text/plain": [
       "   order_id  product_id  add_to_cart_order  reordered\n",
       "0         2       33120                  1          1\n",
       "1         2       28985                  2          1\n",
       "2         2        9327                  3          0"
      ]
     },
     "execution_count": 10,
     "metadata": {},
     "output_type": "execute_result"
    }
   ],
   "source": [
    "order_products_prior.head(3)"
   ]
  },
  {
   "cell_type": "markdown",
   "metadata": {},
   "source": [
    "### Data Analysis"
   ]
  },
  {
   "cell_type": "markdown",
   "metadata": {},
   "source": [
    "### Top Ordered Products"
   ]
  },
  {
   "cell_type": "markdown",
   "metadata": {},
   "source": [
    "#### Top Ordered Products overall - What are the best selling items?"
   ]
  },
  {
   "cell_type": "markdown",
   "metadata": {},
   "source": [
    "Below, we can see the most ordered products. We can also see that most of these products are from the produce section. "
   ]
  },
  {
   "cell_type": "code",
   "execution_count": 11,
   "metadata": {
    "scrolled": false
   },
   "outputs": [
    {
     "data": {
      "text/html": [
       "<div>\n",
       "<style>\n",
       "    .dataframe thead tr:only-child th {\n",
       "        text-align: right;\n",
       "    }\n",
       "\n",
       "    .dataframe thead th {\n",
       "        text-align: left;\n",
       "    }\n",
       "\n",
       "    .dataframe tbody tr th {\n",
       "        vertical-align: top;\n",
       "    }\n",
       "</style>\n",
       "<table border=\"1\" class=\"dataframe\">\n",
       "  <thead>\n",
       "    <tr style=\"text-align: right;\">\n",
       "      <th></th>\n",
       "      <th>count</th>\n",
       "      <th>product_name</th>\n",
       "      <th>department</th>\n",
       "    </tr>\n",
       "  </thead>\n",
       "  <tbody>\n",
       "    <tr>\n",
       "      <th>0</th>\n",
       "      <td>472565</td>\n",
       "      <td>Banana</td>\n",
       "      <td>produce</td>\n",
       "    </tr>\n",
       "    <tr>\n",
       "      <th>1</th>\n",
       "      <td>379450</td>\n",
       "      <td>Bag of Organic Bananas</td>\n",
       "      <td>produce</td>\n",
       "    </tr>\n",
       "    <tr>\n",
       "      <th>2</th>\n",
       "      <td>264683</td>\n",
       "      <td>Organic Strawberries</td>\n",
       "      <td>produce</td>\n",
       "    </tr>\n",
       "    <tr>\n",
       "      <th>3</th>\n",
       "      <td>241921</td>\n",
       "      <td>Organic Baby Spinach</td>\n",
       "      <td>produce</td>\n",
       "    </tr>\n",
       "    <tr>\n",
       "      <th>4</th>\n",
       "      <td>213584</td>\n",
       "      <td>Organic Hass Avocado</td>\n",
       "      <td>produce</td>\n",
       "    </tr>\n",
       "    <tr>\n",
       "      <th>5</th>\n",
       "      <td>176815</td>\n",
       "      <td>Organic Avocado</td>\n",
       "      <td>produce</td>\n",
       "    </tr>\n",
       "    <tr>\n",
       "      <th>6</th>\n",
       "      <td>152657</td>\n",
       "      <td>Large Lemon</td>\n",
       "      <td>produce</td>\n",
       "    </tr>\n",
       "    <tr>\n",
       "      <th>7</th>\n",
       "      <td>142951</td>\n",
       "      <td>Strawberries</td>\n",
       "      <td>produce</td>\n",
       "    </tr>\n",
       "    <tr>\n",
       "      <th>8</th>\n",
       "      <td>140627</td>\n",
       "      <td>Limes</td>\n",
       "      <td>produce</td>\n",
       "    </tr>\n",
       "    <tr>\n",
       "      <th>9</th>\n",
       "      <td>137905</td>\n",
       "      <td>Organic Whole Milk</td>\n",
       "      <td>dairy eggs</td>\n",
       "    </tr>\n",
       "  </tbody>\n",
       "</table>\n",
       "</div>"
      ],
      "text/plain": [
       "    count            product_name  department\n",
       "0  472565                  Banana     produce\n",
       "1  379450  Bag of Organic Bananas     produce\n",
       "2  264683    Organic Strawberries     produce\n",
       "3  241921    Organic Baby Spinach     produce\n",
       "4  213584    Organic Hass Avocado     produce\n",
       "5  176815         Organic Avocado     produce\n",
       "6  152657             Large Lemon     produce\n",
       "7  142951            Strawberries     produce\n",
       "8  140627                   Limes     produce\n",
       "9  137905      Organic Whole Milk  dairy eggs"
      ]
     },
     "execution_count": 11,
     "metadata": {},
     "output_type": "execute_result"
    }
   ],
   "source": [
    "s = order_products_prior['product_id'].value_counts().sort_values(ascending = False).head(10)\n",
    "((pd.DataFrame({'product_id':s.index,'count':s.values})).merge(products, how = 'inner', left_on = 'product_id',\n",
    "                                                             right_on = 'product_id')).merge(departments,\n",
    "                                                            how = 'inner', left_on = 'department_id', \n",
    "                                                            right_on = 'department_id')[\n",
    "    ['count','product_name','department']\n",
    "]"
   ]
  },
  {
   "cell_type": "code",
   "execution_count": 12,
   "metadata": {},
   "outputs": [
    {
     "data": {
      "image/png": "[encoded data removed]",
      "text/plain": [
       "<matplotlib.figure.Figure at 0x1027ab2d0>"
      ]
     },
     "metadata": {},
     "output_type": "display_data"
    }
   ],
   "source": [
    "s = order_products_prior['product_id'].value_counts().sort_values(ascending = False).head(10)\n",
    "((pd.DataFrame({'product_id':s.index,'count':s.values})).merge(products, how = 'inner', left_on = 'product_id',\n",
    "                                                             right_on = 'product_id')).merge(departments,\n",
    "                                                            how = 'inner', left_on = 'department_id', \n",
    "                                                            right_on = 'department_id')[['product_name','count']\n",
    "].plot(kind = 'bar', x = 'product_name', y = 'count', colormap = 'GnBu_r', title = 'Top Ordered Products',\n",
    "      fontsize = 11, width = .8);"
   ]
  },
  {
   "cell_type": "markdown",
   "metadata": {},
   "source": [
    "#### Top Ordered Products per Department in the Top 3 Selling Departments - What are the best selling items per department?"
   ]
  },
  {
   "cell_type": "code",
   "execution_count": 13,
   "metadata": {
    "collapsed": true
   },
   "outputs": [],
   "source": [
    "# Joining Orders, Products and Departments into a single Dataframe\n",
    "s = order_products_prior['product_id'].value_counts().sort_values(ascending = False)\n",
    "df = ((pd.DataFrame({'product_id':s.index,'count':s.values})).merge(products, how = 'inner', left_on = 'product_id',\n",
    "                                                             right_on = 'product_id')).merge(departments,\n",
    "                                                            how = 'inner', left_on = 'department_id', \n",
    "                                                            right_on = 'department_id')[\n",
    "    ['count','product_name','department']]"
   ]
  },
  {
   "cell_type": "code",
   "execution_count": 14,
   "metadata": {},
   "outputs": [
    {
     "data": {
      "text/plain": [
       "array(['produce', 'dairy eggs', 'beverages'], dtype=object)"
      ]
     },
     "execution_count": 14,
     "metadata": {},
     "output_type": "execute_result"
    }
   ],
   "source": [
    "# Top 3 Departments\n",
    "df['department'].unique()[:3]"
   ]
  },
  {
   "cell_type": "code",
   "execution_count": 15,
   "metadata": {},
   "outputs": [
    {
     "data": {
      "text/plain": [
       "array(['produce', 'dairy eggs', 'beverages', 'deli', 'bakery', 'frozen',\n",
       "       'meat seafood', 'pantry', 'canned goods', 'household', 'breakfast',\n",
       "       'snacks', 'dry goods pasta', 'international', 'bulk', 'babies',\n",
       "       'missing', 'alcohol', 'personal care', 'other', 'pets'], dtype=object)"
      ]
     },
     "execution_count": 15,
     "metadata": {},
     "output_type": "execute_result"
    }
   ],
   "source": [
    "df['department'].unique()"
   ]
  },
  {
   "cell_type": "code",
   "execution_count": 16,
   "metadata": {
    "collapsed": true
   },
   "outputs": [],
   "source": [
    "# Function to get Top Products for a specific Department\n",
    "def top_department(department):\n",
    "    return df[df['department']== department].head(3)"
   ]
  },
  {
   "cell_type": "markdown",
   "metadata": {},
   "source": [
    "Below, we can see the most ordered products per the top 3 departments. "
   ]
  },
  {
   "cell_type": "code",
   "execution_count": 17,
   "metadata": {
    "scrolled": false
   },
   "outputs": [
    {
     "data": {
      "text/html": [
       "<div>\n",
       "<style>\n",
       "    .dataframe thead tr:only-child th {\n",
       "        text-align: right;\n",
       "    }\n",
       "\n",
       "    .dataframe thead th {\n",
       "        text-align: left;\n",
       "    }\n",
       "\n",
       "    .dataframe tbody tr th {\n",
       "        vertical-align: top;\n",
       "    }\n",
       "</style>\n",
       "<table border=\"1\" class=\"dataframe\">\n",
       "  <thead>\n",
       "    <tr style=\"text-align: right;\">\n",
       "      <th></th>\n",
       "      <th>count</th>\n",
       "      <th>product_name</th>\n",
       "      <th>department</th>\n",
       "    </tr>\n",
       "  </thead>\n",
       "  <tbody>\n",
       "    <tr>\n",
       "      <th>0</th>\n",
       "      <td>472565</td>\n",
       "      <td>Banana</td>\n",
       "      <td>produce</td>\n",
       "    </tr>\n",
       "    <tr>\n",
       "      <th>1</th>\n",
       "      <td>379450</td>\n",
       "      <td>Bag of Organic Bananas</td>\n",
       "      <td>produce</td>\n",
       "    </tr>\n",
       "    <tr>\n",
       "      <th>2</th>\n",
       "      <td>264683</td>\n",
       "      <td>Organic Strawberries</td>\n",
       "      <td>produce</td>\n",
       "    </tr>\n",
       "    <tr>\n",
       "      <th>1684</th>\n",
       "      <td>137905</td>\n",
       "      <td>Organic Whole Milk</td>\n",
       "      <td>dairy eggs</td>\n",
       "    </tr>\n",
       "    <tr>\n",
       "      <th>1685</th>\n",
       "      <td>76360</td>\n",
       "      <td>Organic Half &amp; Half</td>\n",
       "      <td>dairy eggs</td>\n",
       "    </tr>\n",
       "    <tr>\n",
       "      <th>1686</th>\n",
       "      <td>69217</td>\n",
       "      <td>Half &amp; Half</td>\n",
       "      <td>dairy eggs</td>\n",
       "    </tr>\n",
       "    <tr>\n",
       "      <th>5132</th>\n",
       "      <td>75886</td>\n",
       "      <td>Sparkling Water Grapefruit</td>\n",
       "      <td>beverages</td>\n",
       "    </tr>\n",
       "    <tr>\n",
       "      <th>5133</th>\n",
       "      <td>56087</td>\n",
       "      <td>Spring Water</td>\n",
       "      <td>beverages</td>\n",
       "    </tr>\n",
       "    <tr>\n",
       "      <th>5134</th>\n",
       "      <td>46546</td>\n",
       "      <td>Lime Sparkling Water</td>\n",
       "      <td>beverages</td>\n",
       "    </tr>\n",
       "  </tbody>\n",
       "</table>\n",
       "</div>"
      ],
      "text/plain": [
       "       count                product_name  department\n",
       "0     472565                      Banana     produce\n",
       "1     379450      Bag of Organic Bananas     produce\n",
       "2     264683        Organic Strawberries     produce\n",
       "1684  137905          Organic Whole Milk  dairy eggs\n",
       "1685   76360         Organic Half & Half  dairy eggs\n",
       "1686   69217                 Half & Half  dairy eggs\n",
       "5132   75886  Sparkling Water Grapefruit   beverages\n",
       "5133   56087                Spring Water   beverages\n",
       "5134   46546        Lime Sparkling Water   beverages"
      ]
     },
     "execution_count": 17,
     "metadata": {},
     "output_type": "execute_result"
    }
   ],
   "source": [
    "df2 = pd.DataFrame()\n",
    "for department in df['department'].unique()[:3]:\n",
    "    data = top_department(department)\n",
    "    df2 = pd.concat([df2,data],axis = 0)\n",
    "df2"
   ]
  },
  {
   "cell_type": "code",
   "execution_count": 18,
   "metadata": {},
   "outputs": [
    {
     "data": {
      "image/png": "[encoded data removed]",
      "text/plain": [
       "<matplotlib.figure.Figure at 0x1027ab350>"
      ]
     },
     "metadata": {},
     "output_type": "display_data"
    }
   ],
   "source": [
    "fig, (ax1, ax2, ax3) = plt.subplots(1, 3, sharey=True)\n",
    "plt.xlabel = ''\n",
    "\n",
    "i = 1\n",
    "for department in df['department'].unique()[:3]:\n",
    "    if i == 1:\n",
    "        ax = ax1\n",
    "        colormap = 'Accent'\n",
    "    if i == 2:\n",
    "        ax = ax2\n",
    "        colormap = 'Pastel1'\n",
    "    if i == 3:\n",
    "        ax = ax3\n",
    "        colormap = 'copper'\n",
    "    title = department\n",
    "    df2[df2['department']==department].plot(kind = 'bar', x = 'product_name', y = 'count', ax = ax, figsize = (14,4),\n",
    "                                            fontsize = 12, title = title, colormap = colormap, rot = 45)\n",
    "    i = i + 1\n",
    "    \n",
    "ax1.set_xlabel('')\n",
    "ax2.set_xlabel('')\n",
    "ax3.set_xlabel('');\n",
    "# Try to fix the horizontal alignment to right to move the xticks to the left"
   ]
  },
  {
   "cell_type": "code",
   "execution_count": 19,
   "metadata": {
    "scrolled": false
   },
   "outputs": [
    {
     "data": {
      "text/html": [
       "<div>\n",
       "<style>\n",
       "    .dataframe thead tr:only-child th {\n",
       "        text-align: right;\n",
       "    }\n",
       "\n",
       "    .dataframe thead th {\n",
       "        text-align: left;\n",
       "    }\n",
       "\n",
       "    .dataframe tbody tr th {\n",
       "        vertical-align: top;\n",
       "    }\n",
       "</style>\n",
       "<table border=\"1\" class=\"dataframe\">\n",
       "  <thead>\n",
       "    <tr style=\"text-align: right;\">\n",
       "      <th></th>\n",
       "      <th>count</th>\n",
       "      <th>product_name</th>\n",
       "      <th>department</th>\n",
       "    </tr>\n",
       "  </thead>\n",
       "  <tbody>\n",
       "    <tr>\n",
       "      <th>41594</th>\n",
       "      <td>5941</td>\n",
       "      <td>Lavender Hand Soap</td>\n",
       "      <td>personal care</td>\n",
       "    </tr>\n",
       "    <tr>\n",
       "      <th>41595</th>\n",
       "      <td>4951</td>\n",
       "      <td>Lemon Verbena Hand Soap</td>\n",
       "      <td>personal care</td>\n",
       "    </tr>\n",
       "    <tr>\n",
       "      <th>41596</th>\n",
       "      <td>4228</td>\n",
       "      <td>Premium Epsom Salt</td>\n",
       "      <td>personal care</td>\n",
       "    </tr>\n",
       "  </tbody>\n",
       "</table>\n",
       "</div>"
      ],
      "text/plain": [
       "       count             product_name     department\n",
       "41594   5941       Lavender Hand Soap  personal care\n",
       "41595   4951  Lemon Verbena Hand Soap  personal care\n",
       "41596   4228       Premium Epsom Salt  personal care"
      ]
     },
     "execution_count": 19,
     "metadata": {},
     "output_type": "execute_result"
    }
   ],
   "source": [
    "# Top Selling items in Personal Care\n",
    "top_department('personal care')"
   ]
  },
  {
   "cell_type": "code",
   "execution_count": 20,
   "metadata": {
    "scrolled": true
   },
   "outputs": [
    {
     "data": {
      "text/html": [
       "<div>\n",
       "<style>\n",
       "    .dataframe thead tr:only-child th {\n",
       "        text-align: right;\n",
       "    }\n",
       "\n",
       "    .dataframe thead th {\n",
       "        text-align: left;\n",
       "    }\n",
       "\n",
       "    .dataframe tbody tr th {\n",
       "        vertical-align: top;\n",
       "    }\n",
       "</style>\n",
       "<table border=\"1\" class=\"dataframe\">\n",
       "  <thead>\n",
       "    <tr style=\"text-align: right;\">\n",
       "      <th></th>\n",
       "      <th>count</th>\n",
       "      <th>product_name</th>\n",
       "      <th>department</th>\n",
       "    </tr>\n",
       "  </thead>\n",
       "  <tbody>\n",
       "    <tr>\n",
       "      <th>1684</th>\n",
       "      <td>137905</td>\n",
       "      <td>Organic Whole Milk</td>\n",
       "      <td>dairy eggs</td>\n",
       "    </tr>\n",
       "    <tr>\n",
       "      <th>1685</th>\n",
       "      <td>76360</td>\n",
       "      <td>Organic Half &amp; Half</td>\n",
       "      <td>dairy eggs</td>\n",
       "    </tr>\n",
       "    <tr>\n",
       "      <th>1686</th>\n",
       "      <td>69217</td>\n",
       "      <td>Half &amp; Half</td>\n",
       "      <td>dairy eggs</td>\n",
       "    </tr>\n",
       "  </tbody>\n",
       "</table>\n",
       "</div>"
      ],
      "text/plain": [
       "       count         product_name  department\n",
       "1684  137905   Organic Whole Milk  dairy eggs\n",
       "1685   76360  Organic Half & Half  dairy eggs\n",
       "1686   69217          Half & Half  dairy eggs"
      ]
     },
     "execution_count": 20,
     "metadata": {},
     "output_type": "execute_result"
    }
   ],
   "source": [
    "# Top Selling items in Dairy Eggs\n",
    "top_department('dairy eggs')"
   ]
  },
  {
   "cell_type": "code",
   "execution_count": 21,
   "metadata": {},
   "outputs": [
    {
     "data": {
      "text/html": [
       "<div>\n",
       "<style>\n",
       "    .dataframe thead tr:only-child th {\n",
       "        text-align: right;\n",
       "    }\n",
       "\n",
       "    .dataframe thead th {\n",
       "        text-align: left;\n",
       "    }\n",
       "\n",
       "    .dataframe tbody tr th {\n",
       "        vertical-align: top;\n",
       "    }\n",
       "</style>\n",
       "<table border=\"1\" class=\"dataframe\">\n",
       "  <thead>\n",
       "    <tr style=\"text-align: right;\">\n",
       "      <th></th>\n",
       "      <th>count</th>\n",
       "      <th>product_name</th>\n",
       "      <th>department</th>\n",
       "    </tr>\n",
       "  </thead>\n",
       "  <tbody>\n",
       "    <tr>\n",
       "      <th>40540</th>\n",
       "      <td>8246</td>\n",
       "      <td>Sauvignon Blanc</td>\n",
       "      <td>alcohol</td>\n",
       "    </tr>\n",
       "    <tr>\n",
       "      <th>40541</th>\n",
       "      <td>6153</td>\n",
       "      <td>Chardonnay</td>\n",
       "      <td>alcohol</td>\n",
       "    </tr>\n",
       "    <tr>\n",
       "      <th>40542</th>\n",
       "      <td>6115</td>\n",
       "      <td>Cabernet Sauvignon</td>\n",
       "      <td>alcohol</td>\n",
       "    </tr>\n",
       "  </tbody>\n",
       "</table>\n",
       "</div>"
      ],
      "text/plain": [
       "       count        product_name department\n",
       "40540   8246     Sauvignon Blanc    alcohol\n",
       "40541   6153          Chardonnay    alcohol\n",
       "40542   6115  Cabernet Sauvignon    alcohol"
      ]
     },
     "execution_count": 21,
     "metadata": {},
     "output_type": "execute_result"
    }
   ],
   "source": [
    "# Top Selling items in Alcohol\n",
    "top_department('alcohol')"
   ]
  },
  {
   "cell_type": "markdown",
   "metadata": {},
   "source": [
    "### Order Frequency"
   ]
  },
  {
   "cell_type": "markdown",
   "metadata": {},
   "source": [
    "#### Frequency of orders - How long do customers usually wait to place another order?"
   ]
  },
  {
   "cell_type": "markdown",
   "metadata": {},
   "source": [
    "As seen in graph below, there is a spike at 7 days and at 30 days. So most re-orders happen either weekly or monthly."
   ]
  },
  {
   "cell_type": "code",
   "execution_count": 22,
   "metadata": {},
   "outputs": [
    {
     "data": {
      "image/png": "[encoded data removed]",
      "text/plain": [
       "<matplotlib.figure.Figure at 0x10dab6d50>"
      ]
     },
     "metadata": {},
     "output_type": "display_data"
    }
   ],
   "source": [
    "fig, ax = plt.subplots(1,1);\n",
    "orders['days_since_prior_order'].value_counts().sort_index().plot(kind = 'bar', width = 0.8, figsize = (10,4), \n",
    "                                                                  grid = False, \n",
    "                                                                 use_index = False, rot = 0);\n",
    "\n",
    "for label in ax.get_xticklabels()[1:5]:\n",
    "    label.set_visible(False)\n",
    "for label in ax.get_xticklabels()[6:10]:\n",
    "    label.set_visible(False)\n",
    "for label in ax.get_xticklabels()[11:15]:\n",
    "    label.set_visible(False)\n",
    "for label in ax.get_xticklabels()[16:20]:\n",
    "    label.set_visible(False)\n",
    "for label in ax.get_xticklabels()[21:25]:\n",
    "    label.set_visible(False)\n",
    "for label in ax.get_xticklabels()[26:30]:\n",
    "    label.set_visible(False)"
   ]
  },
  {
   "cell_type": "markdown",
   "metadata": {},
   "source": [
    "### Order Size"
   ]
  },
  {
   "cell_type": "markdown",
   "metadata": {},
   "source": [
    "#### How many items are usually on an order?"
   ]
  },
  {
   "cell_type": "markdown",
   "metadata": {},
   "source": [
    "The graph below shows that most orders will usually have around 5 to 10 items."
   ]
  },
  {
   "cell_type": "code",
   "execution_count": 23,
   "metadata": {},
   "outputs": [
    {
     "data": {
      "image/png": "[encoded data removed]",
      "text/plain": [
       "<matplotlib.figure.Figure at 0x10ea70b90>"
      ]
     },
     "metadata": {},
     "output_type": "display_data"
    }
   ],
   "source": [
    "s2 = order_products_prior.groupby('order_id')['add_to_cart_order'].max().value_counts().sort_index()\n",
    "fig, ax2 = plt.subplots(1,1)\n",
    "(s2[0:80]).plot(kind = 'bar', x = 'lines',y='count', width = 0.8, figsize = (10,5), rot = 0, \n",
    "                title = 'Number of Items per Order', fontsize = 10, colormap = 'Accent');\n",
    "for label in ax2.get_xticklabels()[1:19]:\n",
    "    label.set_visible(False)\n",
    "for label in ax2.get_xticklabels()[20:39]:\n",
    "    label.set_visible(False)\n",
    "for label in ax2.get_xticklabels()[40:59]:\n",
    "    label.set_visible(False)\n",
    "for label in ax2.get_xticklabels()[60:79]:\n",
    "    label.set_visible(False)"
   ]
  },
  {
   "cell_type": "markdown",
   "metadata": {},
   "source": [
    "### Product Reorder Rates"
   ]
  },
  {
   "cell_type": "markdown",
   "metadata": {},
   "source": [
    "What percent of order lines are being reordered by customers? If products are being reordered, then it might be useful to predict which products customers are likely to buy on their next purchase. This will allow for better recommendations to improve the customer experience."
   ]
  },
  {
   "cell_type": "markdown",
   "metadata": {},
   "source": [
    "How many orders had reordered items?<br>\n",
    "How many order lines/items were reordered?<br>\n",
    "<br>\n",
    "About 93% of orders had a least one (1) reoredered item, and about 63% of order line items were reordered. <br>\n",
    "A very large portion of non-first time orders were reorders. In this case it might be worth it to add some recommendation algorithms for customers likely to reorder."
   ]
  },
  {
   "cell_type": "code",
   "execution_count": 24,
   "metadata": {
    "scrolled": true
   },
   "outputs": [
    {
     "data": {
      "text/plain": [
       "93.94070127448553"
      ]
     },
     "execution_count": 24,
     "metadata": {},
     "output_type": "execute_result"
    }
   ],
   "source": [
    "# A = Count number of orders where reordered items >= 1 / Total orders\n",
    "# Exclude first time orders\n",
    "\n",
    "df4 = pd.DataFrame(order_products_prior.groupby('order_id')['reordered'].sum())\n",
    "(((df4[(df4['reordered']>= 1)&\n",
    "       (df4.index.isin(orders[orders['order_number']>1]['order_id'].values)\n",
    "                              )]).shape[0])/float(\n",
    "    ((order_products_prior[order_products_prior['order_id'].isin(orders[orders['order_number']>1]['order_id'\n",
    "                                                    ].values)]['order_id'].unique()).shape[0])))*100"
   ]
  },
  {
   "cell_type": "code",
   "execution_count": 25,
   "metadata": {},
   "outputs": [
    {
     "data": {
      "text/plain": [
       "63.006557986529444"
      ]
     },
     "execution_count": 25,
     "metadata": {},
     "output_type": "execute_result"
    }
   ],
   "source": [
    "# Count number of lines where reordered = 1\n",
    "# Exclude first time orders\n",
    "(((order_products_prior[(order_products_prior['reordered']>= 1)&\n",
    "       (order_products_prior['order_id'].isin(orders[orders['order_number']>1]['order_id'].values)\n",
    "                              )]).shape[0])/float(\n",
    "    ((order_products_prior[order_products_prior['order_id'].isin(orders[orders['order_number']>1]['order_id'].values)]\n",
    "                                                   ).shape[0])))*100"
   ]
  },
  {
   "cell_type": "markdown",
   "metadata": {},
   "source": [
    "Let's also look at the customer level. What percent of customers have reordered at least once?<br>\n",
    "What percent has reordered at least twice?<br>\n",
    "<br>\n",
    "It looks like about 98% of customers have reordered at least once, and 96% have reordered at least twice."
   ]
  },
  {
   "cell_type": "code",
   "execution_count": 26,
   "metadata": {},
   "outputs": [
    {
     "data": {
      "text/plain": [
       "98.52334282208827"
      ]
     },
     "execution_count": 26,
     "metadata": {},
     "output_type": "execute_result"
    }
   ],
   "source": [
    "df5 = order_products_prior.merge(orders[['order_id','user_id']], \n",
    "                                      how = 'inner', left_on = 'order_id', right_on = 'order_id')\n",
    "df5 = pd.DataFrame(df5.groupby('user_id')['reordered'].sum())\n",
    "(((df5[(df5['reordered']>= 1)&\n",
    "       (df5.index.isin(orders[orders['order_number']>1]['user_id'].values)\n",
    "                              )]).shape[0])/float(\n",
    "    (((orders[orders['order_number']>1]['user_id'].unique()).shape[0]))))*100"
   ]
  },
  {
   "cell_type": "code",
   "execution_count": 27,
   "metadata": {},
   "outputs": [
    {
     "data": {
      "text/plain": [
       "96.1713601249218"
      ]
     },
     "execution_count": 27,
     "metadata": {},
     "output_type": "execute_result"
    }
   ],
   "source": [
    "df5 = order_products_prior.merge(orders[['order_id','user_id']], \n",
    "                                      how = 'inner', left_on = 'order_id', right_on = 'order_id')\n",
    "df5 = pd.DataFrame(df5.groupby('user_id')['reordered'].sum())\n",
    "(((df5[(df5['reordered']>= 2)&\n",
    "       (df5.index.isin(orders[orders['order_number']>1]['user_id'].values)\n",
    "                              )]).shape[0])/float((orders[orders['order_number']>1]['user_id'].unique(\n",
    "                                )).shape[0]))*100"
   ]
  },
  {
   "cell_type": "markdown",
   "metadata": {},
   "source": [
    "What is the reorder percent per department?<br>\n",
    "The top 3 departments with the highest percentage of reordered products are Dairy eggs, Beverages and Produce, with Personal Care having the lowest percentage."
   ]
  },
  {
   "cell_type": "code",
   "execution_count": 28,
   "metadata": {
    "collapsed": true,
    "scrolled": true
   },
   "outputs": [],
   "source": [
    "# Join orders, products and departments to get department with reordered column\n",
    "df6 = order_products_prior.merge(orders[['order_id','user_id']], \n",
    "                                      how = 'inner', left_on = 'order_id', right_on = 'order_id').merge(\n",
    "                                        products[['product_id','department_id']], how = 'inner',\n",
    "                                        left_on = 'product_id', right_on = 'product_id').merge(\n",
    "                                        departments, left_on ='department_id', right_on = 'department_id')\n",
    "# Filter out the first time orders\n",
    "df6 = df6[df6['order_id'].isin(orders[orders['order_number']>1]['order_id'].values)]\n",
    "\n",
    "# Group by department then count the number of reorders divided by the number of order lines in each department\n",
    "# Count where reoredered = 1 and divide by count of all order lines in department\n",
    "df7 = pd.DataFrame()\n",
    "df7['sum'] = df6.groupby('department')['reordered'].sum()\n",
    "df7['count'] = df6.groupby('department')['reordered'].count()\n",
    "df7['dep_reorders'] = df7['sum']/df7['count']\n",
    "df7 = df7.sort_values('dep_reorders', ascending = False)\n"
   ]
  },
  {
   "cell_type": "code",
   "execution_count": 29,
   "metadata": {},
   "outputs": [
    {
     "data": {
      "text/plain": [
       "department\n",
       "dairy eggs      0.713881\n",
       "beverages       0.696882\n",
       "produce         0.692611\n",
       "bakery          0.671229\n",
       "deli            0.651138\n",
       "pets            0.644998\n",
       "alcohol         0.621320\n",
       "snacks          0.612557\n",
       "babies          0.611412\n",
       "meat seafood    0.608319\n",
       "Name: dep_reorders, dtype: float64"
      ]
     },
     "execution_count": 29,
     "metadata": {},
     "output_type": "execute_result"
    }
   ],
   "source": [
    "df7['dep_reorders'].head(10)"
   ]
  },
  {
   "cell_type": "code",
   "execution_count": 30,
   "metadata": {},
   "outputs": [
    {
     "data": {
      "image/png": "[encoded data removed]",
      "text/plain": [
       "<matplotlib.figure.Figure at 0x10ea91550>"
      ]
     },
     "metadata": {},
     "output_type": "display_data"
    }
   ],
   "source": [
    "df8 = df7.plot(kind = 'bar', x = df7.index, y = 'dep_reorders', \n",
    "                        title = 'Percent of reorders per Department', \n",
    "                         colormap = 'Accent', figsize = (10,6), ylim = (0,.8), fontsize = 12, rot = 70, width = 0.8,\n",
    "                          position = 0.0)\n",
    "df8.yaxis.set_major_formatter(FuncFormatter(lambda y, _: '{:.0%}'.format(y)));"
   ]
  },
  {
   "cell_type": "markdown",
   "metadata": {},
   "source": [
    "Which products are reordered the most?<br>\n",
    "Looking only at items that were ordered 200 times or more, below are the top reordered items. Also below are the least reordered items which are mostly spices which is not surprising since spices tend to last longer."
   ]
  },
  {
   "cell_type": "code",
   "execution_count": 31,
   "metadata": {
    "scrolled": true
   },
   "outputs": [
    {
     "data": {
      "text/html": [
       "<div>\n",
       "<style>\n",
       "    .dataframe thead tr:only-child th {\n",
       "        text-align: right;\n",
       "    }\n",
       "\n",
       "    .dataframe thead th {\n",
       "        text-align: left;\n",
       "    }\n",
       "\n",
       "    .dataframe tbody tr th {\n",
       "        vertical-align: top;\n",
       "    }\n",
       "</style>\n",
       "<table border=\"1\" class=\"dataframe\">\n",
       "  <thead>\n",
       "    <tr style=\"text-align: right;\">\n",
       "      <th></th>\n",
       "      <th>product_name</th>\n",
       "      <th>product_reorders</th>\n",
       "    </tr>\n",
       "  </thead>\n",
       "  <tbody>\n",
       "    <tr>\n",
       "      <th>0</th>\n",
       "      <td>Lo-Carb Energy Drink</td>\n",
       "      <td>0.902935</td>\n",
       "    </tr>\n",
       "    <tr>\n",
       "      <th>1</th>\n",
       "      <td>Organic Reduced Fat Milk</td>\n",
       "      <td>0.899997</td>\n",
       "    </tr>\n",
       "    <tr>\n",
       "      <th>2</th>\n",
       "      <td>Banana</td>\n",
       "      <td>0.899732</td>\n",
       "    </tr>\n",
       "    <tr>\n",
       "      <th>3</th>\n",
       "      <td>Organic Low Fat Milk</td>\n",
       "      <td>0.899336</td>\n",
       "    </tr>\n",
       "    <tr>\n",
       "      <th>4</th>\n",
       "      <td>Ultra-Purified Water</td>\n",
       "      <td>0.898031</td>\n",
       "    </tr>\n",
       "  </tbody>\n",
       "</table>\n",
       "</div>"
      ],
      "text/plain": [
       "               product_name  product_reorders\n",
       "0      Lo-Carb Energy Drink          0.902935\n",
       "1  Organic Reduced Fat Milk          0.899997\n",
       "2                    Banana          0.899732\n",
       "3      Organic Low Fat Milk          0.899336\n",
       "4      Ultra-Purified Water          0.898031"
      ]
     },
     "execution_count": 31,
     "metadata": {},
     "output_type": "execute_result"
    }
   ],
   "source": [
    "# Use the joined dataframe df6 from above\n",
    "df10 = pd.DataFrame()\n",
    "df10['reorder_sum'] = df6.groupby('product_id')['reordered'].sum()\n",
    "df10 = df10[df10['reorder_sum']>200]\n",
    "\n",
    "# Filter products that were reordered less than 40 times\n",
    "df6 = df6[(df6['order_id'].isin(orders[orders['order_number']>1]['order_id'].values))&(\n",
    "            df6['product_id'].isin(df10.index.values))]\n",
    "\n",
    "# Group by product then count the number of reorders divided by the number of order lines for each product\n",
    "# Count where reoredered = 1 and divide by count of all order lines in department\n",
    "df9 = pd.DataFrame()\n",
    "df9['sum'] = df6.groupby('product_id')['reordered'].sum()\n",
    "df9['count'] = df6.groupby('product_id')['reordered'].count()\n",
    "df9['product_reorders'] = df9['sum']/df9['count']\n",
    "df9 = df9.sort_values('product_reorders', ascending = False)\n",
    "df11 = df9.merge(products, left_on = df9.index.values, right_on = 'product_id')[['product_name','product_reorders']]\n",
    "df11.head()"
   ]
  },
  {
   "cell_type": "code",
   "execution_count": 32,
   "metadata": {},
   "outputs": [
    {
     "data": {
      "text/html": [
       "<div>\n",
       "<style>\n",
       "    .dataframe thead tr:only-child th {\n",
       "        text-align: right;\n",
       "    }\n",
       "\n",
       "    .dataframe thead th {\n",
       "        text-align: left;\n",
       "    }\n",
       "\n",
       "    .dataframe tbody tr th {\n",
       "        vertical-align: top;\n",
       "    }\n",
       "</style>\n",
       "<table border=\"1\" class=\"dataframe\">\n",
       "  <thead>\n",
       "    <tr style=\"text-align: right;\">\n",
       "      <th></th>\n",
       "      <th>product_name</th>\n",
       "      <th>product_reorders</th>\n",
       "    </tr>\n",
       "  </thead>\n",
       "  <tbody>\n",
       "    <tr>\n",
       "      <th>9142</th>\n",
       "      <td>Chili Powder</td>\n",
       "      <td>0.122098</td>\n",
       "    </tr>\n",
       "    <tr>\n",
       "      <th>9143</th>\n",
       "      <td>Onion Powder</td>\n",
       "      <td>0.105619</td>\n",
       "    </tr>\n",
       "    <tr>\n",
       "      <th>9144</th>\n",
       "      <td>Baking Powder</td>\n",
       "      <td>0.096645</td>\n",
       "    </tr>\n",
       "    <tr>\n",
       "      <th>9145</th>\n",
       "      <td>Bay Leaves</td>\n",
       "      <td>0.084116</td>\n",
       "    </tr>\n",
       "    <tr>\n",
       "      <th>9146</th>\n",
       "      <td>Paprika</td>\n",
       "      <td>0.083302</td>\n",
       "    </tr>\n",
       "  </tbody>\n",
       "</table>\n",
       "</div>"
      ],
      "text/plain": [
       "       product_name  product_reorders\n",
       "9142   Chili Powder          0.122098\n",
       "9143   Onion Powder          0.105619\n",
       "9144  Baking Powder          0.096645\n",
       "9145     Bay Leaves          0.084116\n",
       "9146        Paprika          0.083302"
      ]
     },
     "execution_count": 32,
     "metadata": {},
     "output_type": "execute_result"
    }
   ],
   "source": [
    "df11.tail()"
   ]
  },
  {
   "cell_type": "markdown",
   "metadata": {},
   "source": [
    "Calculating the probability customers will re-order specific items."
   ]
  },
  {
   "cell_type": "code",
   "execution_count": 33,
   "metadata": {
    "collapsed": true
   },
   "outputs": [],
   "source": [
    "df12 = order_products_prior.merge(orders, left_on = 'order_id', right_on = 'order_id')"
   ]
  },
  {
   "cell_type": "code",
   "execution_count": 34,
   "metadata": {
    "collapsed": true
   },
   "outputs": [],
   "source": [
    "# Use the joined dataframe df6 from above\n",
    "df13 = pd.DataFrame()\n",
    "# Find the first order of each item for a user\n",
    "df13['first_order'] = df12.groupby(['user_id','product_id'])['order_number'].min()\n",
    "# Find the last order of the user\n",
    "df13 = df13.merge(pd.DataFrame(df12.groupby(['user_id'])['order_number'].max()), \n",
    "           left_index = True, right_index = True, how = 'left')\n",
    "# Find the number of orders made by user for which the user could have reordered the item\n",
    "df13['num_orders'] = df13['order_number']- df13['first_order']\n",
    "# Find the number of reorders for the item\n",
    "df13['reorder_sum'] = df12.groupby(['user_id','product_id'])['reordered'].sum()\n",
    "# Remove products that were ordered on the last order (since we will not know if that product was reordered)\n",
    "df13 = df13[df13['first_order']!= df13['order_number']]\n",
    "# Calculate the percentage of reorder\n",
    "df13['reorder_percent'] = df13['reorder_sum']/df13['num_orders']\n"
   ]
  },
  {
   "cell_type": "code",
   "execution_count": 35,
   "metadata": {
    "scrolled": true
   },
   "outputs": [
    {
     "data": {
      "text/html": [
       "<div>\n",
       "<style>\n",
       "    .dataframe thead tr:only-child th {\n",
       "        text-align: right;\n",
       "    }\n",
       "\n",
       "    .dataframe thead th {\n",
       "        text-align: left;\n",
       "    }\n",
       "\n",
       "    .dataframe tbody tr th {\n",
       "        vertical-align: top;\n",
       "    }\n",
       "</style>\n",
       "<table border=\"1\" class=\"dataframe\">\n",
       "  <thead>\n",
       "    <tr style=\"text-align: right;\">\n",
       "      <th></th>\n",
       "      <th>product_name</th>\n",
       "      <th>reorder_percent</th>\n",
       "    </tr>\n",
       "  </thead>\n",
       "  <tbody>\n",
       "    <tr>\n",
       "      <th>4672</th>\n",
       "      <td>Lo-Carb Energy Drink</td>\n",
       "      <td>0.429457</td>\n",
       "    </tr>\n",
       "    <tr>\n",
       "      <th>10558</th>\n",
       "      <td>Bananas</td>\n",
       "      <td>0.429274</td>\n",
       "    </tr>\n",
       "    <tr>\n",
       "      <th>5600</th>\n",
       "      <td>Organic Low Fat Milk</td>\n",
       "      <td>0.414616</td>\n",
       "    </tr>\n",
       "    <tr>\n",
       "      <th>6617</th>\n",
       "      <td>Banana</td>\n",
       "      <td>0.392647</td>\n",
       "    </tr>\n",
       "    <tr>\n",
       "      <th>2302</th>\n",
       "      <td>Thyme Hummos</td>\n",
       "      <td>0.383577</td>\n",
       "    </tr>\n",
       "  </tbody>\n",
       "</table>\n",
       "</div>"
      ],
      "text/plain": [
       "               product_name  reorder_percent\n",
       "4672   Lo-Carb Energy Drink         0.429457\n",
       "10558               Bananas         0.429274\n",
       "5600   Organic Low Fat Milk         0.414616\n",
       "6617                 Banana         0.392647\n",
       "2302           Thyme Hummos         0.383577"
      ]
     },
     "execution_count": 35,
     "metadata": {},
     "output_type": "execute_result"
    }
   ],
   "source": [
    "# Group the above dataframe by the product_id and calculate the average percentage of reorders# \n",
    "df14 = (pd.DataFrame(df13.groupby(level = 1)['reorder_percent'].mean()))\n",
    "# Group the above dataframe by the product_id and calculate the total number of reorders\n",
    "df14['reorder_sum'] = df13.groupby(level = 1)['reorder_sum'].sum()\n",
    "# Filter out products that was ordered less than 100 times\n",
    "df14 = df14[df14['reorder_sum']>100]\n",
    "# Merge to get the product names\n",
    "df15 = df14.merge(products, left_on = df14.index.values, right_on = 'product_id')\n",
    "df15.sort_values('reorder_percent', ascending = False)[['product_name','reorder_percent']].head()\n"
   ]
  },
  {
   "cell_type": "code",
   "execution_count": 36,
   "metadata": {},
   "outputs": [
    {
     "data": {
      "text/html": [
       "<div>\n",
       "<style>\n",
       "    .dataframe thead tr:only-child th {\n",
       "        text-align: right;\n",
       "    }\n",
       "\n",
       "    .dataframe thead th {\n",
       "        text-align: left;\n",
       "    }\n",
       "\n",
       "    .dataframe tbody tr th {\n",
       "        vertical-align: top;\n",
       "    }\n",
       "</style>\n",
       "<table border=\"1\" class=\"dataframe\">\n",
       "  <thead>\n",
       "    <tr style=\"text-align: right;\">\n",
       "      <th></th>\n",
       "      <th>product_name</th>\n",
       "      <th>reorder_percent</th>\n",
       "    </tr>\n",
       "  </thead>\n",
       "  <tbody>\n",
       "    <tr>\n",
       "      <th>2990</th>\n",
       "      <td>Seasoning Paprika</td>\n",
       "      <td>0.006586</td>\n",
       "    </tr>\n",
       "    <tr>\n",
       "      <th>643</th>\n",
       "      <td>Cayenne Pepper</td>\n",
       "      <td>0.006462</td>\n",
       "    </tr>\n",
       "    <tr>\n",
       "      <th>4714</th>\n",
       "      <td>Premium Fish Sauce</td>\n",
       "      <td>0.006266</td>\n",
       "    </tr>\n",
       "    <tr>\n",
       "      <th>2194</th>\n",
       "      <td>Ground Ginger</td>\n",
       "      <td>0.005834</td>\n",
       "    </tr>\n",
       "    <tr>\n",
       "      <th>1482</th>\n",
       "      <td>Sesame Seed</td>\n",
       "      <td>0.005463</td>\n",
       "    </tr>\n",
       "  </tbody>\n",
       "</table>\n",
       "</div>"
      ],
      "text/plain": [
       "            product_name  reorder_percent\n",
       "2990   Seasoning Paprika         0.006586\n",
       "643       Cayenne Pepper         0.006462\n",
       "4714  Premium Fish Sauce         0.006266\n",
       "2194       Ground Ginger         0.005834\n",
       "1482         Sesame Seed         0.005463"
      ]
     },
     "execution_count": 36,
     "metadata": {},
     "output_type": "execute_result"
    }
   ],
   "source": [
    "df15.sort_values('reorder_percent', ascending = False)[['product_name','reorder_percent']].tail()"
   ]
  },
  {
   "cell_type": "markdown",
   "metadata": {},
   "source": [
    "### Distribution of Departments by Product Sales Volume"
   ]
  },
  {
   "cell_type": "code",
   "execution_count": 37,
   "metadata": {},
   "outputs": [
    {
     "data": {
      "image/png": "[encoded data removed]",
      "text/plain": [
       "<matplotlib.figure.Figure at 0x10d7e8f10>"
      ]
     },
     "metadata": {},
     "output_type": "display_data"
    }
   ],
   "source": [
    "import matplotlib.pyplot as plt\n",
    "import squarify\n",
    "\n",
    "fig = plt.figure(figsize=(60,8))\n",
    "ax = fig.add_subplot(111, aspect=\"equal\")\n",
    "\n",
    "\n",
    "s20 = df.groupby('department')['count'].sum()\n",
    "df20 = pd.DataFrame({'department':s20.index, 'count':s20.values})\n",
    "ax = squarify.plot(sizes=df20['count'], label=df20['department'], alpha=.5, color = ['green',\n",
    "                                                'red','orange','blue','yellow','purple','black','gray','pink','brown'])\n",
    "plt.axis('off')\n",
    "plt.show()"
   ]
  },
  {
   "cell_type": "markdown",
   "metadata": {},
   "source": [
    "### Products ordered together"
   ]
  },
  {
   "cell_type": "markdown",
   "metadata": {},
   "source": [
    "What products are usually ordered together? This can be used to recommend products to customers when buying a specific item that is likely to be bought along with another item."
   ]
  },
  {
   "cell_type": "code",
   "execution_count": 38,
   "metadata": {
    "collapsed": true
   },
   "outputs": [],
   "source": [
    "from mlxtend.frequent_patterns import apriori\n",
    "from mlxtend.frequent_patterns import association_rules\n",
    "from mlxtend.preprocessing import OnehotTransactions"
   ]
  },
  {
   "cell_type": "markdown",
   "metadata": {},
   "source": [
    "Let's find the most frequent ordered sets of items from a sample of orders. The most ordered sets of items contain Bananas which is not suprising as Bananas are the most ordered product."
   ]
  },
  {
   "cell_type": "code",
   "execution_count": 39,
   "metadata": {
    "collapsed": true
   },
   "outputs": [],
   "source": [
    "# Joining orders and products\n",
    "df30 = order_products_prior.merge(products, how = 'inner', left_on = 'product_id', right_on = 'product_id')"
   ]
  },
  {
   "cell_type": "code",
   "execution_count": 41,
   "metadata": {},
   "outputs": [],
   "source": [
    "# Group by order id and get all products on an order into a single list\n",
    "s30 = df30.sort_values('product_name').groupby('order_id')['product_name'].agg(lambda x: list(x))"
   ]
  },
  {
   "cell_type": "code",
   "execution_count": 42,
   "metadata": {
    "collapsed": true
   },
   "outputs": [],
   "source": [
    "# Initiate OnehotTransactions to fit and transform the dataset for affinity\n",
    "oht = OnehotTransactions()"
   ]
  },
  {
   "cell_type": "code",
   "execution_count": 47,
   "metadata": {
    "collapsed": true
   },
   "outputs": [],
   "source": [
    "# Fit and Transform a sample of 50,000 orders\n",
    "sample30 = s30.sample(n = 50000)\n",
    "oht_ary = oht.fit(sample30.values).transform(sample30.values)"
   ]
  },
  {
   "cell_type": "code",
   "execution_count": 48,
   "metadata": {
    "collapsed": true
   },
   "outputs": [],
   "source": [
    "# Transfor the results into a dataframe\n",
    "df32 = pd.DataFrame(oht_ary, columns=oht.columns_)"
   ]
  },
  {
   "cell_type": "code",
   "execution_count": 52,
   "metadata": {},
   "outputs": [
    {
     "data": {
      "text/html": [
       "<div>\n",
       "<style>\n",
       "    .dataframe thead tr:only-child th {\n",
       "        text-align: right;\n",
       "    }\n",
       "\n",
       "    .dataframe thead th {\n",
       "        text-align: left;\n",
       "    }\n",
       "\n",
       "    .dataframe tbody tr th {\n",
       "        vertical-align: top;\n",
       "    }\n",
       "</style>\n",
       "<table border=\"1\" class=\"dataframe\">\n",
       "  <thead>\n",
       "    <tr style=\"text-align: right;\">\n",
       "      <th></th>\n",
       "      <th>support</th>\n",
       "      <th>itemsets</th>\n",
       "      <th>length</th>\n",
       "    </tr>\n",
       "  </thead>\n",
       "  <tbody>\n",
       "    <tr>\n",
       "      <th>105</th>\n",
       "      <td>0.01894</td>\n",
       "      <td>[Bag of Organic Bananas, Organic Strawberries]</td>\n",
       "      <td>2</td>\n",
       "    </tr>\n",
       "    <tr>\n",
       "      <th>103</th>\n",
       "      <td>0.01864</td>\n",
       "      <td>[Bag of Organic Bananas, Organic Hass Avocado]</td>\n",
       "      <td>2</td>\n",
       "    </tr>\n",
       "    <tr>\n",
       "      <th>110</th>\n",
       "      <td>0.01730</td>\n",
       "      <td>[Banana, Organic Strawberries]</td>\n",
       "      <td>2</td>\n",
       "    </tr>\n",
       "    <tr>\n",
       "      <th>107</th>\n",
       "      <td>0.01574</td>\n",
       "      <td>[Banana, Organic Avocado]</td>\n",
       "      <td>2</td>\n",
       "    </tr>\n",
       "    <tr>\n",
       "      <th>108</th>\n",
       "      <td>0.01548</td>\n",
       "      <td>[Banana, Organic Baby Spinach]</td>\n",
       "      <td>2</td>\n",
       "    </tr>\n",
       "    <tr>\n",
       "      <th>102</th>\n",
       "      <td>0.01524</td>\n",
       "      <td>[Bag of Organic Bananas, Organic Baby Spinach]</td>\n",
       "      <td>2</td>\n",
       "    </tr>\n",
       "    <tr>\n",
       "      <th>112</th>\n",
       "      <td>0.01260</td>\n",
       "      <td>[Banana, Strawberries]</td>\n",
       "      <td>2</td>\n",
       "    </tr>\n",
       "    <tr>\n",
       "      <th>115</th>\n",
       "      <td>0.01250</td>\n",
       "      <td>[Organic Hass Avocado, Organic Strawberries]</td>\n",
       "      <td>2</td>\n",
       "    </tr>\n",
       "    <tr>\n",
       "      <th>104</th>\n",
       "      <td>0.01230</td>\n",
       "      <td>[Bag of Organic Bananas, Organic Raspberries]</td>\n",
       "      <td>2</td>\n",
       "    </tr>\n",
       "    <tr>\n",
       "      <th>106</th>\n",
       "      <td>0.01222</td>\n",
       "      <td>[Banana, Large Lemon]</td>\n",
       "      <td>2</td>\n",
       "    </tr>\n",
       "    <tr>\n",
       "      <th>114</th>\n",
       "      <td>0.01118</td>\n",
       "      <td>[Organic Baby Spinach, Organic Strawberries]</td>\n",
       "      <td>2</td>\n",
       "    </tr>\n",
       "    <tr>\n",
       "      <th>113</th>\n",
       "      <td>0.01088</td>\n",
       "      <td>[Organic Baby Spinach, Organic Hass Avocado]</td>\n",
       "      <td>2</td>\n",
       "    </tr>\n",
       "    <tr>\n",
       "      <th>111</th>\n",
       "      <td>0.01038</td>\n",
       "      <td>[Banana, Organic Whole Milk]</td>\n",
       "      <td>2</td>\n",
       "    </tr>\n",
       "    <tr>\n",
       "      <th>109</th>\n",
       "      <td>0.01034</td>\n",
       "      <td>[Banana, Organic Hass Avocado]</td>\n",
       "      <td>2</td>\n",
       "    </tr>\n",
       "    <tr>\n",
       "      <th>116</th>\n",
       "      <td>0.01004</td>\n",
       "      <td>[Organic Raspberries, Organic Strawberries]</td>\n",
       "      <td>2</td>\n",
       "    </tr>\n",
       "  </tbody>\n",
       "</table>\n",
       "</div>"
      ],
      "text/plain": [
       "     support                                        itemsets  length\n",
       "105  0.01894  [Bag of Organic Bananas, Organic Strawberries]       2\n",
       "103  0.01864  [Bag of Organic Bananas, Organic Hass Avocado]       2\n",
       "110  0.01730                  [Banana, Organic Strawberries]       2\n",
       "107  0.01574                       [Banana, Organic Avocado]       2\n",
       "108  0.01548                  [Banana, Organic Baby Spinach]       2\n",
       "102  0.01524  [Bag of Organic Bananas, Organic Baby Spinach]       2\n",
       "112  0.01260                          [Banana, Strawberries]       2\n",
       "115  0.01250    [Organic Hass Avocado, Organic Strawberries]       2\n",
       "104  0.01230   [Bag of Organic Bananas, Organic Raspberries]       2\n",
       "106  0.01222                           [Banana, Large Lemon]       2\n",
       "114  0.01118    [Organic Baby Spinach, Organic Strawberries]       2\n",
       "113  0.01088    [Organic Baby Spinach, Organic Hass Avocado]       2\n",
       "111  0.01038                    [Banana, Organic Whole Milk]       2\n",
       "109  0.01034                  [Banana, Organic Hass Avocado]       2\n",
       "116  0.01004     [Organic Raspberries, Organic Strawberries]       2"
      ]
     },
     "execution_count": 52,
     "metadata": {},
     "output_type": "execute_result"
    }
   ],
   "source": [
    "# Get the frequent ordered sets of items\n",
    "frequent_itemsets = apriori(df32, min_support=0.01, use_colnames=True)\n",
    "frequent_itemsets['length'] = frequent_itemsets['itemsets'].apply(lambda x: len(x))\n",
    "frequent_itemsets[frequent_itemsets['length']> 1].sort_values('support', ascending = False)"
   ]
  },
  {
   "cell_type": "markdown",
   "metadata": {},
   "source": [
    "Looking at orders containing bananas. "
   ]
  },
  {
   "cell_type": "code",
   "execution_count": 53,
   "metadata": {
    "collapsed": true
   },
   "outputs": [],
   "source": [
    "orders_set = df30[df30['product_name'].isin(['Banana'])]['order_id'].unique()"
   ]
  },
  {
   "cell_type": "code",
   "execution_count": 54,
   "metadata": {
    "collapsed": true
   },
   "outputs": [],
   "source": [
    "df33 = df30[df30['order_id'].isin(orders_set)]"
   ]
  },
  {
   "cell_type": "code",
   "execution_count": 55,
   "metadata": {
    "collapsed": true
   },
   "outputs": [],
   "source": [
    "s33 = df33.sort_values('product_name').groupby('order_id')['product_name'].agg(lambda x: list(x))"
   ]
  },
  {
   "cell_type": "code",
   "execution_count": 56,
   "metadata": {
    "collapsed": true
   },
   "outputs": [],
   "source": [
    "sample33 = s33.sample(n = 20000)\n",
    "oht_ary2 = oht.fit(sample33.values).transform(sample33.values)"
   ]
  },
  {
   "cell_type": "code",
   "execution_count": 57,
   "metadata": {
    "collapsed": true
   },
   "outputs": [],
   "source": [
    "df34 = pd.DataFrame(oht_ary2, columns=oht.columns_)"
   ]
  },
  {
   "cell_type": "code",
   "execution_count": 58,
   "metadata": {},
   "outputs": [
    {
     "data": {
      "text/html": [
       "<div>\n",
       "<style>\n",
       "    .dataframe thead tr:only-child th {\n",
       "        text-align: right;\n",
       "    }\n",
       "\n",
       "    .dataframe thead th {\n",
       "        text-align: left;\n",
       "    }\n",
       "\n",
       "    .dataframe tbody tr th {\n",
       "        vertical-align: top;\n",
       "    }\n",
       "</style>\n",
       "<table border=\"1\" class=\"dataframe\">\n",
       "  <thead>\n",
       "    <tr style=\"text-align: right;\">\n",
       "      <th></th>\n",
       "      <th>support</th>\n",
       "      <th>itemsets</th>\n",
       "      <th>length</th>\n",
       "    </tr>\n",
       "  </thead>\n",
       "  <tbody>\n",
       "    <tr>\n",
       "      <th>6</th>\n",
       "      <td>0.11820</td>\n",
       "      <td>[Banana, Organic Strawberries]</td>\n",
       "      <td>2</td>\n",
       "    </tr>\n",
       "    <tr>\n",
       "      <th>4</th>\n",
       "      <td>0.11305</td>\n",
       "      <td>[Banana, Organic Avocado]</td>\n",
       "      <td>2</td>\n",
       "    </tr>\n",
       "    <tr>\n",
       "      <th>5</th>\n",
       "      <td>0.10680</td>\n",
       "      <td>[Banana, Organic Baby Spinach]</td>\n",
       "      <td>2</td>\n",
       "    </tr>\n",
       "  </tbody>\n",
       "</table>\n",
       "</div>"
      ],
      "text/plain": [
       "   support                        itemsets  length\n",
       "6  0.11820  [Banana, Organic Strawberries]       2\n",
       "4  0.11305       [Banana, Organic Avocado]       2\n",
       "5  0.10680  [Banana, Organic Baby Spinach]       2"
      ]
     },
     "execution_count": 58,
     "metadata": {},
     "output_type": "execute_result"
    }
   ],
   "source": [
    "frequent_itemsets2 = apriori(df34, min_support=0.1, use_colnames=True)\n",
    "frequent_itemsets2['length'] = frequent_itemsets2['itemsets'].apply(lambda x: len(x))\n",
    "frequent_itemsets2[frequent_itemsets2['length']> 1].sort_values('support', ascending = False)"
   ]
  },
  {
   "cell_type": "markdown",
   "metadata": {},
   "source": [
    "Looking at orders containing 'Eggs'. The majority of customers who buy Eggs will also buy Onions, and Tomatoes."
   ]
  },
  {
   "cell_type": "code",
   "execution_count": 59,
   "metadata": {
    "collapsed": true
   },
   "outputs": [],
   "source": [
    "orders_set2 = df30[df30['product_name'].isin(['Eggs'])]['order_id'].unique()"
   ]
  },
  {
   "cell_type": "code",
   "execution_count": 60,
   "metadata": {
    "collapsed": true
   },
   "outputs": [],
   "source": [
    "df35 = df30[df30['order_id'].isin(orders_set2)]"
   ]
  },
  {
   "cell_type": "code",
   "execution_count": 61,
   "metadata": {
    "collapsed": true
   },
   "outputs": [],
   "source": [
    "s35 = df35.sort_values('product_name').groupby('order_id')['product_name'].agg(lambda x: list(x))"
   ]
  },
  {
   "cell_type": "code",
   "execution_count": 62,
   "metadata": {
    "collapsed": true
   },
   "outputs": [],
   "source": [
    "#sample35 = s35.sample(n = 20000)\n",
    "oht_ary3 = oht.fit(s35.values).transform(s35.values)"
   ]
  },
  {
   "cell_type": "code",
   "execution_count": 63,
   "metadata": {
    "collapsed": true
   },
   "outputs": [],
   "source": [
    "df36 = pd.DataFrame(oht_ary3, columns=oht.columns_)"
   ]
  },
  {
   "cell_type": "code",
   "execution_count": 64,
   "metadata": {},
   "outputs": [
    {
     "data": {
      "text/html": [
       "<div>\n",
       "<style>\n",
       "    .dataframe thead tr:only-child th {\n",
       "        text-align: right;\n",
       "    }\n",
       "\n",
       "    .dataframe thead th {\n",
       "        text-align: left;\n",
       "    }\n",
       "\n",
       "    .dataframe tbody tr th {\n",
       "        vertical-align: top;\n",
       "    }\n",
       "</style>\n",
       "<table border=\"1\" class=\"dataframe\">\n",
       "  <thead>\n",
       "    <tr style=\"text-align: right;\">\n",
       "      <th></th>\n",
       "      <th>support</th>\n",
       "      <th>itemsets</th>\n",
       "      <th>length</th>\n",
       "    </tr>\n",
       "  </thead>\n",
       "  <tbody>\n",
       "    <tr>\n",
       "      <th>5</th>\n",
       "      <td>0.359882</td>\n",
       "      <td>[Banana, Eggs]</td>\n",
       "      <td>2</td>\n",
       "    </tr>\n",
       "    <tr>\n",
       "      <th>7</th>\n",
       "      <td>0.117994</td>\n",
       "      <td>[Eggs, Roma Tomato]</td>\n",
       "      <td>2</td>\n",
       "    </tr>\n",
       "    <tr>\n",
       "      <th>6</th>\n",
       "      <td>0.109145</td>\n",
       "      <td>[Eggs, Large Lemon]</td>\n",
       "      <td>2</td>\n",
       "    </tr>\n",
       "    <tr>\n",
       "      <th>8</th>\n",
       "      <td>0.100295</td>\n",
       "      <td>[Eggs, White Onion]</td>\n",
       "      <td>2</td>\n",
       "    </tr>\n",
       "  </tbody>\n",
       "</table>\n",
       "</div>"
      ],
      "text/plain": [
       "    support             itemsets  length\n",
       "5  0.359882       [Banana, Eggs]       2\n",
       "7  0.117994  [Eggs, Roma Tomato]       2\n",
       "6  0.109145  [Eggs, Large Lemon]       2\n",
       "8  0.100295  [Eggs, White Onion]       2"
      ]
     },
     "execution_count": 64,
     "metadata": {},
     "output_type": "execute_result"
    }
   ],
   "source": [
    "frequent_itemsets3 = apriori(df36, min_support=0.09, use_colnames=True)\n",
    "frequent_itemsets3['length'] = frequent_itemsets3['itemsets'].apply(lambda x: len(x))\n",
    "frequent_itemsets3[frequent_itemsets3['length']> 1].sort_values('support', ascending = False)"
   ]
  }
 ],
 "metadata": {
  "kernelspec": {
   "display_name": "Python 2",
   "language": "python",
   "name": "python2"
  },
  "language_info": {
   "codemirror_mode": {
    "name": "ipython",
    "version": 2
   },
   "file_extension": ".py",
   "mimetype": "text/x-python",
   "name": "python",
   "nbconvert_exporter": "python",
   "pygments_lexer": "ipython2",
   "version": "2.7.13"
  }
 },
 "nbformat": 4,
 "nbformat_minor": 2
}
