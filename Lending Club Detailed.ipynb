{
 "cells": [
  {
   "cell_type": "markdown",
   "metadata": {},
   "source": [
    "# Data clean up"
   ]
  },
  {
   "cell_type": "markdown",
   "metadata": {},
   "source": [
    "The loan status column has the below values. We are interested in loans with the status values of 'Fully Paid' and 'Charged Off'.<br>\n",
    "We will remove rows with loans that are current, Late, In Grace Period since we are only concerned with\n",
    "the loans that were either fully paid or charged off and loans that are no longer current."
   ]
  },
  {
   "cell_type": "code",
   "execution_count": 17,
   "metadata": {
    "scrolled": false
   },
   "outputs": [
    {
     "data": {
      "text/plain": [
       "Fully Paid                                             493262\n",
       "Current                                                247233\n",
       "Charged Off                                            125307\n",
       "Late (31-120 days)                                       9822\n",
       "In Grace Period                                          6575\n",
       "Late (16-30 days)                                        2465\n",
       "Does not meet the credit policy. Status:Fully Paid       1988\n",
       "Does not meet the credit policy. Status:Charged Off       761\n",
       "Default                                                    12\n",
       "Name: loan_status, dtype: int64"
      ]
     },
     "execution_count": 17,
     "metadata": {},
     "output_type": "execute_result"
    }
   ],
   "source": [
    "# The loan status column specifies the outcome or current status of the loan\n",
    "data['loan_status'].value_counts()"
   ]
  },
  {
   "cell_type": "code",
   "execution_count": 18,
   "metadata": {
    "collapsed": true
   },
   "outputs": [],
   "source": [
    "# Any rows with loan status containing the string 'Does not meet the credit policy.' will be dropped\n",
    "# We will also drop rows with loans that are current, Late, In Grace Period since we are only concerned with\n",
    "# the loans that were either fully paid or charged off\n",
    "\n",
    "data = data[data['loan_status'].isin(['Fully Paid','Charged Off'])]"
   ]
  },
  {
   "cell_type": "code",
   "execution_count": 19,
   "metadata": {
    "scrolled": false
   },
   "outputs": [
    {
     "data": {
      "text/plain": [
       "Fully Paid     493262\n",
       "Charged Off    125307\n",
       "Name: loan_status, dtype: int64"
      ]
     },
     "execution_count": 19,
     "metadata": {},
     "output_type": "execute_result"
    }
   ],
   "source": [
    "data['loan_status'].value_counts()"
   ]
  },
  {
   "cell_type": "code",
   "execution_count": 20,
   "metadata": {
    "collapsed": true
   },
   "outputs": [],
   "source": [
    "# We should also transform this column into a categorical variable where the Status Fully Paid will be 1\n",
    "# The status not Fully Paid (Charged Off) will be 0\n",
    "data['loan_status_num'] = data['loan_status'].map({'Fully Paid':1, 'Charged Off':0})"
   ]
  },
  {
   "cell_type": "code",
   "execution_count": 21,
   "metadata": {
    "scrolled": true
   },
   "outputs": [
    {
     "data": {
      "text/plain": [
       "1    493262\n",
       "0    125307\n",
       "Name: loan_status_num, dtype: int64"
      ]
     },
     "execution_count": 21,
     "metadata": {},
     "output_type": "execute_result"
    }
   ],
   "source": [
    "data['loan_status_num'].value_counts()"
   ]
  },
  {
   "cell_type": "markdown",
   "metadata": {},
   "source": [
    "## Data Visualization"
   ]
  },
  {
   "cell_type": "markdown",
   "metadata": {},
   "source": [
    "### EDA and Data Visualization on Overall Data"
   ]
  },
  {
   "cell_type": "markdown",
   "metadata": {},
   "source": [
    "In this section we will look at the trend of the overall data:\n",
    "    - Loan growth over the past few years\n",
    "    - Fully Paid Loans vs Default Loans\n",
    "    - Loans Issued across the different states"
   ]
  },
  {
   "cell_type": "markdown",
   "metadata": {
    "collapsed": true
   },
   "source": [
    "#### Number of loans issued over the past years.\n",
    "Let's start with the number of loans over the past years."
   ]
  },
  {
   "cell_type": "markdown",
   "metadata": {},
   "source": [
    "Below we see the trend of the number of loans over the past years (2007-2016). The number of loans issued since 2007 is increasing very rapidly."
   ]
  },
  {
   "cell_type": "code",
   "execution_count": 46,
   "metadata": {},
   "outputs": [
    {
     "data": {
      "image/png": "[encoded data removed]",
      "text/plain": [
       "<matplotlib.figure.Figure at 0x1266a7810>"
      ]
     },
     "metadata": {},
     "output_type": "display_data"
    }
   ],
   "source": [
    "data2016['issue_d'].dt.year.value_counts().sort_index().plot(style = 'go-', ms = 10, figsize = (12,6),\n",
    "                                                             xlim = (2006,2017), title = 'Number of Loans 2007-2016');"
   ]
  },
  {
   "cell_type": "raw",
   "metadata": {},
   "source": []
  },
  {
   "cell_type": "markdown",
   "metadata": {},
   "source": [
    "#### Fully Paid vs Default Loans"
   ]
  },
  {
   "cell_type": "markdown",
   "metadata": {
    "collapsed": true
   },
   "source": [
    "Let's look at the percentage of Fully paid loans vs Default Loans"
   ]
  },
  {
   "cell_type": "code",
   "execution_count": 49,
   "metadata": {},
   "outputs": [
    {
     "data": {
      "text/html": [
       "<div>\n",
       "<style>\n",
       "    .dataframe thead tr:only-child th {\n",
       "        text-align: right;\n",
       "    }\n",
       "\n",
       "    .dataframe thead th {\n",
       "        text-align: left;\n",
       "    }\n",
       "\n",
       "    .dataframe tbody tr th {\n",
       "        vertical-align: top;\n",
       "    }\n",
       "</style>\n",
       "<table border=\"1\" class=\"dataframe\">\n",
       "  <thead>\n",
       "    <tr style=\"text-align: right;\">\n",
       "      <th></th>\n",
       "      <th>loan_status</th>\n",
       "    </tr>\n",
       "  </thead>\n",
       "  <tbody>\n",
       "    <tr>\n",
       "      <th>Fully Paid</th>\n",
       "      <td>79.742403</td>\n",
       "    </tr>\n",
       "    <tr>\n",
       "      <th>Charged Off</th>\n",
       "      <td>20.257597</td>\n",
       "    </tr>\n",
       "  </tbody>\n",
       "</table>\n",
       "</div>"
      ],
      "text/plain": [
       "             loan_status\n",
       "Fully Paid     79.742403\n",
       "Charged Off    20.257597"
      ]
     },
     "execution_count": 49,
     "metadata": {},
     "output_type": "execute_result"
    }
   ],
   "source": [
    "pd.DataFrame(data['loan_status'].value_counts(normalize = True)*100)"
   ]
  },
  {
   "cell_type": "code",
   "execution_count": 50,
   "metadata": {},
   "outputs": [
    {
     "data": {
      "image/png": "[encoded data removed]",
      "text/plain": [
       "<matplotlib.figure.Figure at 0x114954950>"
      ]
     },
     "metadata": {},
     "output_type": "display_data"
    }
   ],
   "source": [
    "from matplotlib.ticker import FuncFormatter\n",
    "ax = data['loan_status'].value_counts(normalize = True).plot(kind = 'bar', \n",
    "                                                              title = 'Percent of Fully Paid vs Default Loans',\n",
    "figsize = (8,6), rot = 0);\n",
    "\n",
    "ax.yaxis.set_major_formatter(FuncFormatter(lambda y, _: '{:.0%}'.format(y))) "
   ]
  },
  {
   "cell_type": "markdown",
   "metadata": {
    "collapsed": true
   },
   "source": [
    "Overall 79% of loans are fully paid. "
   ]
  },
  {
   "cell_type": "markdown",
   "metadata": {
    "collapsed": true
   },
   "source": [
    "Let's look at the percentages per year"
   ]
  },
  {
   "cell_type": "code",
   "execution_count": 52,
   "metadata": {},
   "outputs": [
    {
     "data": {
      "text/html": [
       "<div>\n",
       "<style>\n",
       "    .dataframe thead tr:only-child th {\n",
       "        text-align: right;\n",
       "    }\n",
       "\n",
       "    .dataframe thead th {\n",
       "        text-align: left;\n",
       "    }\n",
       "\n",
       "    .dataframe tbody tr th {\n",
       "        vertical-align: top;\n",
       "    }\n",
       "</style>\n",
       "<table border=\"1\" class=\"dataframe\">\n",
       "  <thead>\n",
       "    <tr style=\"text-align: right;\">\n",
       "      <th>loan_status</th>\n",
       "      <th>Charged Off</th>\n",
       "      <th>Fully Paid</th>\n",
       "    </tr>\n",
       "    <tr>\n",
       "      <th>issue_d</th>\n",
       "      <th></th>\n",
       "      <th></th>\n",
       "    </tr>\n",
       "  </thead>\n",
       "  <tbody>\n",
       "    <tr>\n",
       "      <th>2007</th>\n",
       "      <td>0.179283</td>\n",
       "      <td>0.820717</td>\n",
       "    </tr>\n",
       "    <tr>\n",
       "      <th>2008</th>\n",
       "      <td>0.158131</td>\n",
       "      <td>0.841869</td>\n",
       "    </tr>\n",
       "    <tr>\n",
       "      <th>2009</th>\n",
       "      <td>0.125954</td>\n",
       "      <td>0.874046</td>\n",
       "    </tr>\n",
       "    <tr>\n",
       "      <th>2010</th>\n",
       "      <td>0.128901</td>\n",
       "      <td>0.871099</td>\n",
       "    </tr>\n",
       "    <tr>\n",
       "      <th>2011</th>\n",
       "      <td>0.151796</td>\n",
       "      <td>0.848204</td>\n",
       "    </tr>\n",
       "    <tr>\n",
       "      <th>2012</th>\n",
       "      <td>0.162912</td>\n",
       "      <td>0.837088</td>\n",
       "    </tr>\n",
       "    <tr>\n",
       "      <th>2013</th>\n",
       "      <td>0.161293</td>\n",
       "      <td>0.838707</td>\n",
       "    </tr>\n",
       "    <tr>\n",
       "      <th>2014</th>\n",
       "      <td>0.189144</td>\n",
       "      <td>0.810856</td>\n",
       "    </tr>\n",
       "    <tr>\n",
       "      <th>2015</th>\n",
       "      <td>0.263405</td>\n",
       "      <td>0.736595</td>\n",
       "    </tr>\n",
       "  </tbody>\n",
       "</table>\n",
       "</div>"
      ],
      "text/plain": [
       "loan_status  Charged Off  Fully Paid\n",
       "issue_d                             \n",
       "2007            0.179283    0.820717\n",
       "2008            0.158131    0.841869\n",
       "2009            0.125954    0.874046\n",
       "2010            0.128901    0.871099\n",
       "2011            0.151796    0.848204\n",
       "2012            0.162912    0.837088\n",
       "2013            0.161293    0.838707\n",
       "2014            0.189144    0.810856\n",
       "2015            0.263405    0.736595"
      ]
     },
     "execution_count": 52,
     "metadata": {},
     "output_type": "execute_result"
    }
   ],
   "source": [
    "data['loan_status'].groupby(data['issue_d'].dt.year).value_counts(normalize = True).unstack()"
   ]
  },
  {
   "cell_type": "code",
   "execution_count": 53,
   "metadata": {
    "scrolled": false
   },
   "outputs": [
    {
     "data": {
      "image/png": "[encoded data removed]",
      "text/plain": [
       "<matplotlib.figure.Figure at 0x1149671d0>"
      ]
     },
     "metadata": {},
     "output_type": "display_data"
    },
    {
     "data": {
      "image/png": "[encoded data removed]",
      "text/plain": [
       "<matplotlib.figure.Figure at 0x122f1f350>"
      ]
     },
     "metadata": {},
     "output_type": "display_data"
    }
   ],
   "source": [
    "bx = data['loan_status'].groupby(data['issue_d'].dt.year).value_counts(normalize = True).unstack().plot(kind = 'bar',\n",
    "                            figsize = (12,5), rot = 0, title = 'Percent of Paid vs Default Loans per year');\n",
    "\n",
    "bx.yaxis.set_major_formatter(FuncFormatter(lambda y, _: '{:.0%}'.format(y))) \n",
    "\n",
    "cx = data['loan_status'].groupby(data['issue_d'].dt.year).value_counts(normalize = True).unstack().plot(kind = 'line',\n",
    "                            figsize = (12,5), rot = 0, title = 'Percent of Paid vs Default Loans per year');\n",
    "\n",
    "cx.yaxis.set_major_formatter(FuncFormatter(lambda y, _: '{:.0%}'.format(y))) "
   ]
  },
  {
   "cell_type": "markdown",
   "metadata": {},
   "source": [
    "The repayment rate is almost always over 80% every year."
   ]
  },
  {
   "cell_type": "markdown",
   "metadata": {},
   "source": [
    "#### Loans across the different states"
   ]
  },
  {
   "cell_type": "markdown",
   "metadata": {},
   "source": [
    "Below we look at the repayment rate by state. First let's look at the number of issued loans by state.<br> We can see that some states have very few issued loans, so we can't really compare the repayment rates between states."
   ]
  },
  {
   "cell_type": "code",
   "execution_count": 279,
   "metadata": {},
   "outputs": [
    {
     "data": {
      "text/html": [
       "<div>\n",
       "<style>\n",
       "    .dataframe thead tr:only-child th {\n",
       "        text-align: right;\n",
       "    }\n",
       "\n",
       "    .dataframe thead th {\n",
       "        text-align: left;\n",
       "    }\n",
       "\n",
       "    .dataframe tbody tr th {\n",
       "        vertical-align: top;\n",
       "    }\n",
       "</style>\n",
       "<table border=\"1\" class=\"dataframe\">\n",
       "  <thead>\n",
       "    <tr style=\"text-align: right;\">\n",
       "      <th>loan_status</th>\n",
       "      <th>Charged Off</th>\n",
       "      <th>Fully Paid</th>\n",
       "    </tr>\n",
       "    <tr>\n",
       "      <th>addr_state</th>\n",
       "      <th></th>\n",
       "      <th></th>\n",
       "    </tr>\n",
       "  </thead>\n",
       "  <tbody>\n",
       "    <tr>\n",
       "      <th>IA</th>\n",
       "      <td>1</td>\n",
       "      <td>6</td>\n",
       "    </tr>\n",
       "    <tr>\n",
       "      <th>ID</th>\n",
       "      <td>1</td>\n",
       "      <td>8</td>\n",
       "    </tr>\n",
       "    <tr>\n",
       "      <th>ND</th>\n",
       "      <td>51</td>\n",
       "      <td>141</td>\n",
       "    </tr>\n",
       "    <tr>\n",
       "      <th>ME</th>\n",
       "      <td>32</td>\n",
       "      <td>148</td>\n",
       "    </tr>\n",
       "    <tr>\n",
       "      <th>NE</th>\n",
       "      <td>169</td>\n",
       "      <td>371</td>\n",
       "    </tr>\n",
       "    <tr>\n",
       "      <th>VT</th>\n",
       "      <td>175</td>\n",
       "      <td>985</td>\n",
       "    </tr>\n",
       "    <tr>\n",
       "      <th>SD</th>\n",
       "      <td>295</td>\n",
       "      <td>997</td>\n",
       "    </tr>\n",
       "    <tr>\n",
       "      <th>WY</th>\n",
       "      <td>243</td>\n",
       "      <td>1184</td>\n",
       "    </tr>\n",
       "    <tr>\n",
       "      <th>AK</th>\n",
       "      <td>320</td>\n",
       "      <td>1308</td>\n",
       "    </tr>\n",
       "    <tr>\n",
       "      <th>DE</th>\n",
       "      <td>351</td>\n",
       "      <td>1319</td>\n",
       "    </tr>\n",
       "  </tbody>\n",
       "</table>\n",
       "</div>"
      ],
      "text/plain": [
       "loan_status  Charged Off  Fully Paid\n",
       "addr_state                          \n",
       "IA                     1           6\n",
       "ID                     1           8\n",
       "ND                    51         141\n",
       "ME                    32         148\n",
       "NE                   169         371\n",
       "VT                   175         985\n",
       "SD                   295         997\n",
       "WY                   243        1184\n",
       "AK                   320        1308\n",
       "DE                   351        1319"
      ]
     },
     "execution_count": 279,
     "metadata": {},
     "output_type": "execute_result"
    }
   ],
   "source": [
    "data['loan_status'].groupby(data['addr_state']).value_counts().unstack().sort_values('Fully Paid').head(10)"
   ]
  },
  {
   "cell_type": "code",
   "execution_count": 280,
   "metadata": {},
   "outputs": [
    {
     "data": {
      "text/html": [
       "<div>\n",
       "<style>\n",
       "    .dataframe thead tr:only-child th {\n",
       "        text-align: right;\n",
       "    }\n",
       "\n",
       "    .dataframe thead th {\n",
       "        text-align: left;\n",
       "    }\n",
       "\n",
       "    .dataframe tbody tr th {\n",
       "        vertical-align: top;\n",
       "    }\n",
       "</style>\n",
       "<table border=\"1\" class=\"dataframe\">\n",
       "  <thead>\n",
       "    <tr style=\"text-align: right;\">\n",
       "      <th>loan_status</th>\n",
       "      <th>Charged Off</th>\n",
       "      <th>Fully Paid</th>\n",
       "    </tr>\n",
       "    <tr>\n",
       "      <th>addr_state</th>\n",
       "      <th></th>\n",
       "      <th></th>\n",
       "    </tr>\n",
       "  </thead>\n",
       "  <tbody>\n",
       "    <tr>\n",
       "      <th>NE</th>\n",
       "      <td>0.312963</td>\n",
       "      <td>0.687037</td>\n",
       "    </tr>\n",
       "    <tr>\n",
       "      <th>MS</th>\n",
       "      <td>0.285307</td>\n",
       "      <td>0.714693</td>\n",
       "    </tr>\n",
       "    <tr>\n",
       "      <th>ND</th>\n",
       "      <td>0.265625</td>\n",
       "      <td>0.734375</td>\n",
       "    </tr>\n",
       "    <tr>\n",
       "      <th>AL</th>\n",
       "      <td>0.245562</td>\n",
       "      <td>0.754438</td>\n",
       "    </tr>\n",
       "    <tr>\n",
       "      <th>OK</th>\n",
       "      <td>0.240855</td>\n",
       "      <td>0.759145</td>\n",
       "    </tr>\n",
       "    <tr>\n",
       "      <th>TN</th>\n",
       "      <td>0.236505</td>\n",
       "      <td>0.763495</td>\n",
       "    </tr>\n",
       "    <tr>\n",
       "      <th>AR</th>\n",
       "      <td>0.235938</td>\n",
       "      <td>0.764062</td>\n",
       "    </tr>\n",
       "    <tr>\n",
       "      <th>NV</th>\n",
       "      <td>0.234289</td>\n",
       "      <td>0.765711</td>\n",
       "    </tr>\n",
       "    <tr>\n",
       "      <th>LA</th>\n",
       "      <td>0.230642</td>\n",
       "      <td>0.769358</td>\n",
       "    </tr>\n",
       "    <tr>\n",
       "      <th>SD</th>\n",
       "      <td>0.228328</td>\n",
       "      <td>0.771672</td>\n",
       "    </tr>\n",
       "  </tbody>\n",
       "</table>\n",
       "</div>"
      ],
      "text/plain": [
       "loan_status  Charged Off  Fully Paid\n",
       "addr_state                          \n",
       "NE              0.312963    0.687037\n",
       "MS              0.285307    0.714693\n",
       "ND              0.265625    0.734375\n",
       "AL              0.245562    0.754438\n",
       "OK              0.240855    0.759145\n",
       "TN              0.236505    0.763495\n",
       "AR              0.235938    0.764062\n",
       "NV              0.234289    0.765711\n",
       "LA              0.230642    0.769358\n",
       "SD              0.228328    0.771672"
      ]
     },
     "execution_count": 280,
     "metadata": {},
     "output_type": "execute_result"
    }
   ],
   "source": [
    "data['loan_status'].groupby(data['addr_state']).value_counts(normalize = True).unstack().sort_values('Fully Paid').head(10)"
   ]
  },
  {
   "cell_type": "markdown",
   "metadata": {},
   "source": [
    "The repayment rate varies from 68% in Nebraska to 88% in Idaho. With Idaho having less than 10 loans issued over the past 10 years, and Nebraska having around 500 loans issued, we can't really compare their repayment rate.<br>\n",
    "Also, states like Texas, New York, and California have more than 35,000 issued loans over the past 10 years, with a repayment rate of around 80%. <br>\n",
    "Given the variation of the loan volume across the different states, we will not compare the loan repayment based on the state."
   ]
  },
  {
   "cell_type": "code",
   "execution_count": 57,
   "metadata": {
    "collapsed": true
   },
   "outputs": [],
   "source": [
    "df = pd.DataFrame(data['addr_state'].value_counts(dropna = False))"
   ]
  },
  {
   "cell_type": "code",
   "execution_count": 258,
   "metadata": {
    "collapsed": true
   },
   "outputs": [],
   "source": [
    "import plotly \n",
    "plotly.tools.set_credentials_file(username='sarahb0789', api_key='t0QTAWDQLgrYa4KAYslb')"
   ]
  },
  {
   "cell_type": "code",
   "execution_count": 259,
   "metadata": {
    "collapsed": true
   },
   "outputs": [],
   "source": [
    "import plotly.plotly as py"
   ]
  },
  {
   "cell_type": "code",
   "execution_count": 260,
   "metadata": {},
   "outputs": [
    {
     "name": "stdout",
     "output_type": "stream",
     "text": [
      "High five! You successfully sent some data to your account on plotly. View your plot in your browser at https://plot.ly/~sarahb0789/0 or inside your plot.ly account where it is named 'd3-cloropleth-map'\n"
     ]
    },
    {
     "data": {
      "text/html": [
       "<iframe id=\"igraph\" scrolling=\"no\" style=\"border:none;\" seamless=\"seamless\" src=\"https://plot.ly/~sarahb0789/0.embed\" height=\"525px\" width=\"100%\"></iframe>"
      ],
      "text/plain": [
       "<plotly.tools.PlotlyDisplay object>"
      ]
     },
     "execution_count": 260,
     "metadata": {},
     "output_type": "execute_result"
    }
   ],
   "source": [
    "scl = [[0.0, 'rgb(255,255,255)'],[0.2, 'rgb(255,229,204)'],[0.4, 'rgb(255,204,153)'],\n",
    "            [0.6, 'rgb(255,178,102)'],[0.8, 'rgb(255,128,0)'],[1.0, 'rgb(204,102,0)']]\n",
    "#rgb(255,204,153)\n",
    "\n",
    "mapdata = [ dict(\n",
    "        type='choropleth', locationmode = 'USA-states', locations = df.index,\n",
    "        z = df['addr_state'].astype(float), colorscale = scl,\n",
    "        autocolorscale = False, hoverinfo = 'all',\n",
    "        marker = dict(\n",
    "            line = dict (color = 'rgb(0,0,0)', width = 1)),\n",
    "        colorbar = dict(\n",
    "            title = \"Number of Loans\",\n",
    "            xanchor = 'right', ticks = 'inside', nticks = 6, ticklen = 30, tickwidth = 3))];\n",
    "\n",
    "\n",
    "layout = dict(title = '2007-2016 Number of Issued Loans by State',\n",
    "        geo = dict(scope='usa', projection=dict(type='albers usa' )))\n",
    "    \n",
    "fig = dict( data=mapdata, layout=layout )\n",
    "py.iplot( fig, filename='d3-cloropleth-map')"
   ]
  },
  {
   "cell_type": "markdown",
   "metadata": {},
   "source": [
    "### EDA and Data Visualization on Specific Variables"
   ]
  },
  {
   "cell_type": "markdown",
   "metadata": {},
   "source": [
    "In this section, we will look at the relationship between some of the variables as well as their relationship with the loan status (whether there is a relationship between the variable and a loan being fully paid)."
   ]
  },
  {
   "cell_type": "markdown",
   "metadata": {},
   "source": [
    "#### Grade vs SubGrade Variable"
   ]
  },
  {
   "cell_type": "markdown",
   "metadata": {
    "collapsed": true
   },
   "source": [
    "Let's look at the relationship between the Lending Club Assigned Grade and the Loan Status\n",
    "The loan status can be either 0 for Charged Off or 1 for Fully Paid (Updated above during data clean up)\n",
    "Let's look at the percentage of loans in each category by grade"
   ]
  },
  {
   "cell_type": "code",
   "execution_count": 261,
   "metadata": {},
   "outputs": [
    {
     "data": {
      "text/html": [
       "<div>\n",
       "<style>\n",
       "    .dataframe thead tr:only-child th {\n",
       "        text-align: right;\n",
       "    }\n",
       "\n",
       "    .dataframe thead th {\n",
       "        text-align: left;\n",
       "    }\n",
       "\n",
       "    .dataframe tbody tr th {\n",
       "        vertical-align: top;\n",
       "    }\n",
       "</style>\n",
       "<table border=\"1\" class=\"dataframe\">\n",
       "  <thead>\n",
       "    <tr style=\"text-align: right;\">\n",
       "      <th>loan_status</th>\n",
       "      <th>Charged Off</th>\n",
       "      <th>Fully Paid</th>\n",
       "    </tr>\n",
       "    <tr>\n",
       "      <th>grade</th>\n",
       "      <th></th>\n",
       "      <th></th>\n",
       "    </tr>\n",
       "  </thead>\n",
       "  <tbody>\n",
       "    <tr>\n",
       "      <th>A</th>\n",
       "      <td>6.448177</td>\n",
       "      <td>93.551823</td>\n",
       "    </tr>\n",
       "    <tr>\n",
       "      <th>B</th>\n",
       "      <td>13.176307</td>\n",
       "      <td>86.823693</td>\n",
       "    </tr>\n",
       "    <tr>\n",
       "      <th>C</th>\n",
       "      <td>22.331030</td>\n",
       "      <td>77.668970</td>\n",
       "    </tr>\n",
       "    <tr>\n",
       "      <th>D</th>\n",
       "      <td>30.124823</td>\n",
       "      <td>69.875177</td>\n",
       "    </tr>\n",
       "    <tr>\n",
       "      <th>E</th>\n",
       "      <td>38.645394</td>\n",
       "      <td>61.354606</td>\n",
       "    </tr>\n",
       "    <tr>\n",
       "      <th>F</th>\n",
       "      <td>44.064527</td>\n",
       "      <td>55.935473</td>\n",
       "    </tr>\n",
       "    <tr>\n",
       "      <th>G</th>\n",
       "      <td>48.931001</td>\n",
       "      <td>51.068999</td>\n",
       "    </tr>\n",
       "  </tbody>\n",
       "</table>\n",
       "</div>"
      ],
      "text/plain": [
       "loan_status  Charged Off  Fully Paid\n",
       "grade                               \n",
       "A               6.448177   93.551823\n",
       "B              13.176307   86.823693\n",
       "C              22.331030   77.668970\n",
       "D              30.124823   69.875177\n",
       "E              38.645394   61.354606\n",
       "F              44.064527   55.935473\n",
       "G              48.931001   51.068999"
      ]
     },
     "execution_count": 261,
     "metadata": {},
     "output_type": "execute_result"
    }
   ],
   "source": [
    "# The percent of paid loans vs Default loans by grade. \n",
    "(data['loan_status'].groupby(data['grade']).value_counts(normalize = True)*100).unstack()"
   ]
  },
  {
   "cell_type": "code",
   "execution_count": 63,
   "metadata": {},
   "outputs": [
    {
     "data": {
      "image/png": "[encoded data removed]",
      "text/plain": [
       "<matplotlib.figure.Figure at 0x1266d0090>"
      ]
     },
     "metadata": {},
     "output_type": "display_data"
    }
   ],
   "source": [
    "# Let's visualize the above percentages\n",
    "dx = data['loan_status'].groupby(data['grade']).value_counts(normalize = True).unstack().plot(kind = 'bar' ,\n",
    "                                            rot = 0, title = 'Percent of Paid vs Default Loans by Grade');\n",
    "dx.yaxis.set_major_formatter(FuncFormatter(lambda y, _: '{:.0%}'.format(y))) "
   ]
  },
  {
   "cell_type": "markdown",
   "metadata": {},
   "source": [
    "Looking at the plot above, we can see that there is a relationship between grade and loan payment. <br>\n",
    "Loans with higher grades have a higher full repayment rate. <br>\n",
    "As the grade decreases from A to G, the loan repayment rate decreases<br>\n",
    "As the grade decreases from A to G, the loan default rate increses i.e. Applicants with lower grades tend to default more"
   ]
  },
  {
   "cell_type": "markdown",
   "metadata": {
    "collapsed": true
   },
   "source": [
    "Next we'll look at the subgrade. The subgrade is basically a more divided category than the grade."
   ]
  },
  {
   "cell_type": "code",
   "execution_count": 65,
   "metadata": {},
   "outputs": [
    {
     "data": {
      "text/html": [
       "<div>\n",
       "<style>\n",
       "    .dataframe thead tr:only-child th {\n",
       "        text-align: right;\n",
       "    }\n",
       "\n",
       "    .dataframe thead th {\n",
       "        text-align: left;\n",
       "    }\n",
       "\n",
       "    .dataframe tbody tr th {\n",
       "        vertical-align: top;\n",
       "    }\n",
       "</style>\n",
       "<table border=\"1\" class=\"dataframe\">\n",
       "  <thead>\n",
       "    <tr style=\"text-align: right;\">\n",
       "      <th>loan_status</th>\n",
       "      <th>Charged Off</th>\n",
       "      <th>Fully Paid</th>\n",
       "    </tr>\n",
       "    <tr>\n",
       "      <th>sub_grade</th>\n",
       "      <th></th>\n",
       "      <th></th>\n",
       "    </tr>\n",
       "  </thead>\n",
       "  <tbody>\n",
       "    <tr>\n",
       "      <th>A1</th>\n",
       "      <td>3.170331</td>\n",
       "      <td>96.829669</td>\n",
       "    </tr>\n",
       "    <tr>\n",
       "      <th>A2</th>\n",
       "      <td>4.862216</td>\n",
       "      <td>95.137784</td>\n",
       "    </tr>\n",
       "    <tr>\n",
       "      <th>A3</th>\n",
       "      <td>5.589080</td>\n",
       "      <td>94.410920</td>\n",
       "    </tr>\n",
       "    <tr>\n",
       "      <th>A4</th>\n",
       "      <td>7.080237</td>\n",
       "      <td>92.919763</td>\n",
       "    </tr>\n",
       "    <tr>\n",
       "      <th>A5</th>\n",
       "      <td>8.836922</td>\n",
       "      <td>91.163078</td>\n",
       "    </tr>\n",
       "    <tr>\n",
       "      <th>B1</th>\n",
       "      <td>10.271443</td>\n",
       "      <td>89.728557</td>\n",
       "    </tr>\n",
       "    <tr>\n",
       "      <th>B2</th>\n",
       "      <td>11.357848</td>\n",
       "      <td>88.642152</td>\n",
       "    </tr>\n",
       "    <tr>\n",
       "      <th>B3</th>\n",
       "      <td>12.796824</td>\n",
       "      <td>87.203176</td>\n",
       "    </tr>\n",
       "    <tr>\n",
       "      <th>B4</th>\n",
       "      <td>14.519299</td>\n",
       "      <td>85.480701</td>\n",
       "    </tr>\n",
       "    <tr>\n",
       "      <th>B5</th>\n",
       "      <td>16.508807</td>\n",
       "      <td>83.491193</td>\n",
       "    </tr>\n",
       "    <tr>\n",
       "      <th>C1</th>\n",
       "      <td>18.616342</td>\n",
       "      <td>81.383658</td>\n",
       "    </tr>\n",
       "    <tr>\n",
       "      <th>C2</th>\n",
       "      <td>20.590621</td>\n",
       "      <td>79.409379</td>\n",
       "    </tr>\n",
       "    <tr>\n",
       "      <th>C3</th>\n",
       "      <td>22.683972</td>\n",
       "      <td>77.316028</td>\n",
       "    </tr>\n",
       "    <tr>\n",
       "      <th>C4</th>\n",
       "      <td>25.202947</td>\n",
       "      <td>74.797053</td>\n",
       "    </tr>\n",
       "    <tr>\n",
       "      <th>C5</th>\n",
       "      <td>25.695083</td>\n",
       "      <td>74.304917</td>\n",
       "    </tr>\n",
       "    <tr>\n",
       "      <th>D1</th>\n",
       "      <td>27.707768</td>\n",
       "      <td>72.292232</td>\n",
       "    </tr>\n",
       "    <tr>\n",
       "      <th>D2</th>\n",
       "      <td>29.301429</td>\n",
       "      <td>70.698571</td>\n",
       "    </tr>\n",
       "    <tr>\n",
       "      <th>D3</th>\n",
       "      <td>29.580550</td>\n",
       "      <td>70.419450</td>\n",
       "    </tr>\n",
       "    <tr>\n",
       "      <th>D4</th>\n",
       "      <td>32.335128</td>\n",
       "      <td>67.664872</td>\n",
       "    </tr>\n",
       "    <tr>\n",
       "      <th>D5</th>\n",
       "      <td>33.337802</td>\n",
       "      <td>66.662198</td>\n",
       "    </tr>\n",
       "  </tbody>\n",
       "</table>\n",
       "</div>"
      ],
      "text/plain": [
       "loan_status  Charged Off  Fully Paid\n",
       "sub_grade                           \n",
       "A1              3.170331   96.829669\n",
       "A2              4.862216   95.137784\n",
       "A3              5.589080   94.410920\n",
       "A4              7.080237   92.919763\n",
       "A5              8.836922   91.163078\n",
       "B1             10.271443   89.728557\n",
       "B2             11.357848   88.642152\n",
       "B3             12.796824   87.203176\n",
       "B4             14.519299   85.480701\n",
       "B5             16.508807   83.491193\n",
       "C1             18.616342   81.383658\n",
       "C2             20.590621   79.409379\n",
       "C3             22.683972   77.316028\n",
       "C4             25.202947   74.797053\n",
       "C5             25.695083   74.304917\n",
       "D1             27.707768   72.292232\n",
       "D2             29.301429   70.698571\n",
       "D3             29.580550   70.419450\n",
       "D4             32.335128   67.664872\n",
       "D5             33.337802   66.662198"
      ]
     },
     "execution_count": 65,
     "metadata": {},
     "output_type": "execute_result"
    }
   ],
   "source": [
    "# The percent of paid loans vs Default loans by subgrade. \n",
    "(data['loan_status'].groupby(data['sub_grade']).value_counts(normalize = True)*100).unstack().head(20)"
   ]
  },
  {
   "cell_type": "code",
   "execution_count": 66,
   "metadata": {},
   "outputs": [
    {
     "data": {
      "image/png": "[encoded data removed]",
      "text/plain": [
       "<matplotlib.figure.Figure at 0x138705d50>"
      ]
     },
     "metadata": {},
     "output_type": "display_data"
    }
   ],
   "source": [
    "# Full Payment rate - Bar plot of the payment vs default rate by subgrade\n",
    "ex = data['loan_status'].groupby(data['sub_grade']).value_counts(normalize = True).unstack().plot(kind = 'bar', \n",
    "                                figsize = (12,10), title = 'Percent of Paid vs Default Loans per Subgrade');\n",
    "ex.yaxis.set_major_formatter(FuncFormatter(lambda y, _: '{:.0%}'.format(y))) "
   ]
  },
  {
   "cell_type": "markdown",
   "metadata": {},
   "source": [
    "Looking at the plot above, we can see that there is a difference between the subgrades. <br>\n",
    "As the subgrade decreases, the full repayment rate also decreases <br>\n",
    "The difference is about a 1% drop per subgrade."
   ]
  },
  {
   "cell_type": "markdown",
   "metadata": {},
   "source": [
    "#### Employment History Variable"
   ]
  },
  {
   "cell_type": "markdown",
   "metadata": {},
   "source": [
    "Borrowers with a full-time job, and guaranteed monthly income may be more reliable than borrowers with no income or no job. Let's look at the relationship between emplpyment history vs Loan Payment"
   ]
  },
  {
   "cell_type": "markdown",
   "metadata": {
    "collapsed": true
   },
   "source": [
    "The first column we can use for employment history is the employment length column<br>\n",
    "As part of the data cleanup this field was updated as follow:<br>\n",
    "        10+ years = 10, 9 years = 9, ..., 1 year = 1, <1 year: 0, n/a: 0"
   ]
  },
  {
   "cell_type": "code",
   "execution_count": 67,
   "metadata": {},
   "outputs": [
    {
     "data": {
      "text/html": [
       "<div>\n",
       "<style>\n",
       "    .dataframe thead tr:only-child th {\n",
       "        text-align: right;\n",
       "    }\n",
       "\n",
       "    .dataframe thead th {\n",
       "        text-align: left;\n",
       "    }\n",
       "\n",
       "    .dataframe tbody tr th {\n",
       "        vertical-align: top;\n",
       "    }\n",
       "</style>\n",
       "<table border=\"1\" class=\"dataframe\">\n",
       "  <thead>\n",
       "    <tr style=\"text-align: right;\">\n",
       "      <th>loan_status</th>\n",
       "      <th>Charged Off</th>\n",
       "      <th>Fully Paid</th>\n",
       "    </tr>\n",
       "    <tr>\n",
       "      <th>emp_length</th>\n",
       "      <th></th>\n",
       "      <th></th>\n",
       "    </tr>\n",
       "  </thead>\n",
       "  <tbody>\n",
       "    <tr>\n",
       "      <th>0</th>\n",
       "      <td>0.275379</td>\n",
       "      <td>0.724621</td>\n",
       "    </tr>\n",
       "    <tr>\n",
       "      <th>1</th>\n",
       "      <td>0.209275</td>\n",
       "      <td>0.790725</td>\n",
       "    </tr>\n",
       "    <tr>\n",
       "      <th>2</th>\n",
       "      <td>0.204555</td>\n",
       "      <td>0.795445</td>\n",
       "    </tr>\n",
       "    <tr>\n",
       "      <th>3</th>\n",
       "      <td>0.197275</td>\n",
       "      <td>0.802725</td>\n",
       "    </tr>\n",
       "    <tr>\n",
       "      <th>4</th>\n",
       "      <td>0.199222</td>\n",
       "      <td>0.800778</td>\n",
       "    </tr>\n",
       "    <tr>\n",
       "      <th>5</th>\n",
       "      <td>0.198174</td>\n",
       "      <td>0.801826</td>\n",
       "    </tr>\n",
       "    <tr>\n",
       "      <th>6</th>\n",
       "      <td>0.196050</td>\n",
       "      <td>0.803950</td>\n",
       "    </tr>\n",
       "    <tr>\n",
       "      <th>7</th>\n",
       "      <td>0.196547</td>\n",
       "      <td>0.803453</td>\n",
       "    </tr>\n",
       "    <tr>\n",
       "      <th>8</th>\n",
       "      <td>0.199180</td>\n",
       "      <td>0.800820</td>\n",
       "    </tr>\n",
       "    <tr>\n",
       "      <th>9</th>\n",
       "      <td>0.206980</td>\n",
       "      <td>0.793020</td>\n",
       "    </tr>\n",
       "    <tr>\n",
       "      <th>10</th>\n",
       "      <td>0.209330</td>\n",
       "      <td>0.790670</td>\n",
       "    </tr>\n",
       "    <tr>\n",
       "      <th>11</th>\n",
       "      <td>0.194051</td>\n",
       "      <td>0.805949</td>\n",
       "    </tr>\n",
       "  </tbody>\n",
       "</table>\n",
       "</div>"
      ],
      "text/plain": [
       "loan_status  Charged Off  Fully Paid\n",
       "emp_length                          \n",
       "0               0.275379    0.724621\n",
       "1               0.209275    0.790725\n",
       "2               0.204555    0.795445\n",
       "3               0.197275    0.802725\n",
       "4               0.199222    0.800778\n",
       "5               0.198174    0.801826\n",
       "6               0.196050    0.803950\n",
       "7               0.196547    0.803453\n",
       "8               0.199180    0.800820\n",
       "9               0.206980    0.793020\n",
       "10              0.209330    0.790670\n",
       "11              0.194051    0.805949"
      ]
     },
     "execution_count": 67,
     "metadata": {},
     "output_type": "execute_result"
    }
   ],
   "source": [
    "data['loan_status'].groupby(data['emp_length']).value_counts(normalize = True).unstack()"
   ]
  },
  {
   "cell_type": "code",
   "execution_count": 68,
   "metadata": {},
   "outputs": [
    {
     "data": {
      "image/png": "[encoded data removed]",
      "text/plain": [
       "<matplotlib.figure.Figure at 0x1386d0450>"
      ]
     },
     "metadata": {},
     "output_type": "display_data"
    }
   ],
   "source": [
    "fx = data['loan_status'].groupby(data['emp_length']).value_counts(normalize = True).unstack().plot(kind = 'bar',\n",
    "                                figsize = (14,6), title = 'Payment Rate based on Employment', ylim = (0,1), rot = 0);\n",
    "fx.yaxis.set_major_formatter(FuncFormatter(lambda y, _: '{:.0%}'.format(y))) \n",
    "fx.set_xlabel('Employment Length (months)');"
   ]
  },
  {
   "cell_type": "code",
   "execution_count": 69,
   "metadata": {},
   "outputs": [
    {
     "data": {
      "text/html": [
       "<div>\n",
       "<style>\n",
       "    .dataframe thead tr:only-child th {\n",
       "        text-align: right;\n",
       "    }\n",
       "\n",
       "    .dataframe thead th {\n",
       "        text-align: left;\n",
       "    }\n",
       "\n",
       "    .dataframe tbody tr th {\n",
       "        vertical-align: top;\n",
       "    }\n",
       "</style>\n",
       "<table border=\"1\" class=\"dataframe\">\n",
       "  <thead>\n",
       "    <tr style=\"text-align: right;\">\n",
       "      <th>loan_status</th>\n",
       "      <th>Charged Off</th>\n",
       "      <th>Fully Paid</th>\n",
       "    </tr>\n",
       "    <tr>\n",
       "      <th>emp_length_updated</th>\n",
       "      <th></th>\n",
       "      <th></th>\n",
       "    </tr>\n",
       "  </thead>\n",
       "  <tbody>\n",
       "    <tr>\n",
       "      <th>0</th>\n",
       "      <td>0.275379</td>\n",
       "      <td>0.724621</td>\n",
       "    </tr>\n",
       "    <tr>\n",
       "      <th>1</th>\n",
       "      <td>0.198902</td>\n",
       "      <td>0.801098</td>\n",
       "    </tr>\n",
       "  </tbody>\n",
       "</table>\n",
       "</div>"
      ],
      "text/plain": [
       "loan_status         Charged Off  Fully Paid\n",
       "emp_length_updated                         \n",
       "0                      0.275379    0.724621\n",
       "1                      0.198902    0.801098"
      ]
     },
     "execution_count": 69,
     "metadata": {},
     "output_type": "execute_result"
    }
   ],
   "source": [
    "# There is not much difference between in the repayment rate for any employment length greater than or equal to 1\n",
    "# Let's add a column to separate the employment length to 0 for n/a (no employment) and 1 for employed (any lenghth)\n",
    "data['emp_length_updated'] = np.where(data['emp_length'] == 0, 0, 1)\n",
    "data['loan_status'].groupby(data['emp_length_updated']).value_counts(normalize = True).unstack()"
   ]
  },
  {
   "cell_type": "code",
   "execution_count": 70,
   "metadata": {},
   "outputs": [
    {
     "data": {
      "image/png": "[encoded data removed]",
      "text/plain": [
       "<matplotlib.figure.Figure at 0x137509ed0>"
      ]
     },
     "metadata": {},
     "output_type": "display_data"
    }
   ],
   "source": [
    "gx = data['loan_status'].groupby(data['emp_length_updated']).value_counts(normalize = True).unstack().plot(kind = 'bar',\n",
    "                                figsize = (4,4), title = 'Payment Rate based on Employment',  rot = 0);\n",
    "gx.yaxis.set_major_formatter(FuncFormatter(lambda y, _: '{:.0%}'.format(y))) \n",
    "gx.set_xlabel('Employment Status');\n",
    "plt.xticks([0,1],['Unemployed','Employed']);\n",
    "plt.legend(bbox_to_anchor=(1.0, 1.0));"
   ]
  },
  {
   "cell_type": "markdown",
   "metadata": {},
   "source": [
    "Looking at the data and plots above, the Payment rate seems to be lower for no employment, but is around the same for any employement length from less than 1 year to 10 or more.  <br>\n",
    "\n",
    "The rate of repayment is around 80% for employment lengths of less than 1 year or more (i.e if the borrower is employed).<br>\n",
    "The rate of repayment is 8% lower for no employment.<br>\n"
   ]
  },
  {
   "cell_type": "markdown",
   "metadata": {},
   "source": [
    "#### Delinquent Accounts"
   ]
  },
  {
   "cell_type": "markdown",
   "metadata": {},
   "source": [
    "Borrowers with current unsettled debts, unpaid accounts, or other unpaid loans will appear riskier than borrowers with no unsettled debts. Using the Lending Club data, we can determine the relationship between delinquent accounts, and the likelihood of a loan to be repaid in full and on time."
   ]
  },
  {
   "cell_type": "markdown",
   "metadata": {},
   "source": [
    "We will look at the columns:\n",
    "- acc_now_delinq : The number of accounts on which the borrower is now delinquent.\n",
    "- mths_since_last_delinq: The number of months since the borrower's last delinquency."
   ]
  },
  {
   "cell_type": "markdown",
   "metadata": {},
   "source": [
    "##### Column acc_now_delinq"
   ]
  },
  {
   "cell_type": "markdown",
   "metadata": {},
   "source": [
    "Let's look at the relationship between delinquent accounts and loan repayment."
   ]
  },
  {
   "cell_type": "code",
   "execution_count": 73,
   "metadata": {},
   "outputs": [
    {
     "data": {
      "text/plain": [
       "0.0    616005\n",
       "1.0      2406\n",
       "2.0       126\n",
       "3.0        17\n",
       "4.0         6\n",
       "5.0         2\n",
       "6.0         1\n",
       "Name: acc_now_delinq, dtype: int64"
      ]
     },
     "execution_count": 73,
     "metadata": {},
     "output_type": "execute_result"
    }
   ],
   "source": [
    "data['acc_now_delinq'].value_counts()\n",
    "# It looks like the majority of borrowers do not have delinquent accounts"
   ]
  },
  {
   "cell_type": "markdown",
   "metadata": {},
   "source": [
    "Let's look at the data as follow instead:<br>\n",
    "Loan with 0 delinquent account vs loan with 1 or more delinquent account"
   ]
  },
  {
   "cell_type": "code",
   "execution_count": 74,
   "metadata": {
    "collapsed": true
   },
   "outputs": [],
   "source": [
    "# Let's add a column for delinq_acc as 0 for no delinquent account or 1 for 1 or more delinquent accounts\n",
    "# Let's then see the relationship between loan repayment and delinquent accounts"
   ]
  },
  {
   "cell_type": "code",
   "execution_count": 75,
   "metadata": {
    "collapsed": true
   },
   "outputs": [],
   "source": [
    "data['delinq_acc'] = data['acc_now_delinq'].map({0.0:'0', 1.0:'1+', 2.0:'1+', 3.0:'1+', 4.0:'1+', 5.0:'1+', 6.0:'1+'})"
   ]
  },
  {
   "cell_type": "code",
   "execution_count": 76,
   "metadata": {},
   "outputs": [
    {
     "data": {
      "text/html": [
       "<div>\n",
       "<style>\n",
       "    .dataframe thead tr:only-child th {\n",
       "        text-align: right;\n",
       "    }\n",
       "\n",
       "    .dataframe thead th {\n",
       "        text-align: left;\n",
       "    }\n",
       "\n",
       "    .dataframe tbody tr th {\n",
       "        vertical-align: top;\n",
       "    }\n",
       "</style>\n",
       "<table border=\"1\" class=\"dataframe\">\n",
       "  <thead>\n",
       "    <tr style=\"text-align: right;\">\n",
       "      <th>loan_status</th>\n",
       "      <th>Charged Off</th>\n",
       "      <th>Fully Paid</th>\n",
       "    </tr>\n",
       "    <tr>\n",
       "      <th>delinq_acc</th>\n",
       "      <th></th>\n",
       "      <th></th>\n",
       "    </tr>\n",
       "  </thead>\n",
       "  <tbody>\n",
       "    <tr>\n",
       "      <th>0</th>\n",
       "      <td>0.202393</td>\n",
       "      <td>0.797607</td>\n",
       "    </tr>\n",
       "    <tr>\n",
       "      <th>1+</th>\n",
       "      <td>0.246677</td>\n",
       "      <td>0.753323</td>\n",
       "    </tr>\n",
       "  </tbody>\n",
       "</table>\n",
       "</div>"
      ],
      "text/plain": [
       "loan_status  Charged Off  Fully Paid\n",
       "delinq_acc                          \n",
       "0               0.202393    0.797607\n",
       "1+              0.246677    0.753323"
      ]
     },
     "execution_count": 76,
     "metadata": {},
     "output_type": "execute_result"
    }
   ],
   "source": [
    "data['loan_status'].groupby(data['delinq_acc']).value_counts(normalize = True).unstack()"
   ]
  },
  {
   "cell_type": "code",
   "execution_count": 77,
   "metadata": {},
   "outputs": [
    {
     "data": {
      "image/png": "[encoded data removed]",
      "text/plain": [
       "<matplotlib.figure.Figure at 0x1374ee6d0>"
      ]
     },
     "metadata": {},
     "output_type": "display_data"
    }
   ],
   "source": [
    "ix = data['loan_status'].groupby(data['delinq_acc']).value_counts(normalize = True).unstack().plot(kind = 'bar', \n",
    "                    figsize = (7,4), title = 'Percent Paid vs Default Loans versus Delinquent Accountx', rot = 0);\n",
    "ix.yaxis.set_major_formatter(FuncFormatter(lambda y, _: '{:.0%}'.format(y))) \n",
    "ix.set_xlabel('Number of Delinquent Accounts');"
   ]
  },
  {
   "cell_type": "markdown",
   "metadata": {},
   "source": [
    "We can see that the repayment rate drops by almost 5% when there is 1 or more delinquent accounts. <br>\n",
    "The difference is not a significant difference."
   ]
  },
  {
   "cell_type": "markdown",
   "metadata": {},
   "source": [
    "##### Column mths_since_last_delinq"
   ]
  },
  {
   "cell_type": "code",
   "execution_count": 88,
   "metadata": {},
   "outputs": [
    {
     "data": {
      "text/plain": [
       "35836      NaN\n",
       "95665     41.0\n",
       "31601     64.0\n",
       "34158     58.0\n",
       "159966    26.0\n",
       "Name: mths_since_last_delinq, dtype: float64"
      ]
     },
     "execution_count": 88,
     "metadata": {},
     "output_type": "execute_result"
    }
   ],
   "source": [
    "data['mths_since_last_delinq'].head()"
   ]
  },
  {
   "cell_type": "code",
   "execution_count": 89,
   "metadata": {
    "scrolled": true
   },
   "outputs": [
    {
     "data": {
      "image/png": "[encoded data removed]",
      "text/plain": [
       "<matplotlib.figure.Figure at 0x139d625d0>"
      ]
     },
     "metadata": {},
     "output_type": "display_data"
    }
   ],
   "source": [
    "# Range of the Number of Months Since last Delinquent Account for Paid vs Default Loans\n",
    "ox = data[['mths_since_last_delinq','loan_status_num']].sort_values('mths_since_last_delinq').plot.scatter(\n",
    "    x = 'loan_status_num', y = 'mths_since_last_delinq', xticks = [0,1], alpha = 0.5,\n",
    "    title = 'Number of Months since Last Delinquent Account Per Loan Status');"
   ]
  },
  {
   "cell_type": "code",
   "execution_count": 90,
   "metadata": {},
   "outputs": [
    {
     "data": {
      "image/png": "[encoded data removed]",
      "text/plain": [
       "<matplotlib.figure.Figure at 0x13d10e710>"
      ]
     },
     "metadata": {},
     "output_type": "display_data"
    }
   ],
   "source": [
    "# Let's look at the relationship between months since last delinquent account and loan repayment\n",
    "# Percent of loan borrowers with delinquent accounts\n",
    "# We are using the percentage\n",
    "px = data['loan_status'].groupby(data['mths_since_last_delinq']).value_counts(normalize = True).unstack().plot(\n",
    "    kind = 'bar', figsize=(40,20));\n",
    "\n",
    "px.set_title('Percent of Paid Loans versus Months Since last Delinquent Account',fontsize= 40) # title of plot\n",
    "\n",
    "px.set_xlabel('Months Since Last Delinquent Account',fontsize = 30) #xlabel\n",
    "plt.yticks(fontsize=25)\n",
    "px.yaxis.set_major_formatter(FuncFormatter(lambda y, _: '{:.0%}'.format(y))) ;"
   ]
  },
  {
   "cell_type": "markdown",
   "metadata": {},
   "source": [
    "It looks like the repayment rate is aroun 80% whether the last delinquent account was less than a month ago or more than 10, 20, 30+ months"
   ]
  },
  {
   "cell_type": "raw",
   "metadata": {},
   "source": []
  },
  {
   "cell_type": "markdown",
   "metadata": {},
   "source": [
    "#### Debt to Income Ratio"
   ]
  },
  {
   "cell_type": "markdown",
   "metadata": {},
   "source": [
    "The debt to income ratio is the part of a borrower’s income used towards current debt such as mortgage, rent and credit cards. If a borrower’s debt-to-income ratio is high, then a large part of his income is currently going toward paying current debts. If a borrower is already using a large part of his income to pay current debts, then that might impact his ability to pay an additional loan. "
   ]
  },
  {
   "cell_type": "code",
   "execution_count": 93,
   "metadata": {
    "scrolled": true
   },
   "outputs": [
    {
     "data": {
      "text/html": [
       "<div>\n",
       "<style>\n",
       "    .dataframe thead tr:only-child th {\n",
       "        text-align: right;\n",
       "    }\n",
       "\n",
       "    .dataframe thead th {\n",
       "        text-align: left;\n",
       "    }\n",
       "\n",
       "    .dataframe tbody tr th {\n",
       "        vertical-align: top;\n",
       "    }\n",
       "</style>\n",
       "<table border=\"1\" class=\"dataframe\">\n",
       "  <thead>\n",
       "    <tr style=\"text-align: right;\">\n",
       "      <th></th>\n",
       "      <th>count</th>\n",
       "      <th>mean</th>\n",
       "      <th>std</th>\n",
       "      <th>min</th>\n",
       "      <th>25%</th>\n",
       "      <th>50%</th>\n",
       "      <th>75%</th>\n",
       "      <th>max</th>\n",
       "    </tr>\n",
       "    <tr>\n",
       "      <th>loan_status</th>\n",
       "      <th></th>\n",
       "      <th></th>\n",
       "      <th></th>\n",
       "      <th></th>\n",
       "      <th></th>\n",
       "      <th></th>\n",
       "      <th></th>\n",
       "      <th></th>\n",
       "    </tr>\n",
       "  </thead>\n",
       "  <tbody>\n",
       "    <tr>\n",
       "      <th>Charged Off</th>\n",
       "      <td>125306.0</td>\n",
       "      <td>19.696533</td>\n",
       "      <td>8.404940</td>\n",
       "      <td>0.0</td>\n",
       "      <td>13.49</td>\n",
       "      <td>19.49</td>\n",
       "      <td>25.76</td>\n",
       "      <td>67.50</td>\n",
       "    </tr>\n",
       "    <tr>\n",
       "      <th>Fully Paid</th>\n",
       "      <td>493257.0</td>\n",
       "      <td>17.090818</td>\n",
       "      <td>8.008968</td>\n",
       "      <td>0.0</td>\n",
       "      <td>11.12</td>\n",
       "      <td>16.62</td>\n",
       "      <td>22.63</td>\n",
       "      <td>380.53</td>\n",
       "    </tr>\n",
       "  </tbody>\n",
       "</table>\n",
       "</div>"
      ],
      "text/plain": [
       "                count       mean       std  min    25%    50%    75%     max\n",
       "loan_status                                                                 \n",
       "Charged Off  125306.0  19.696533  8.404940  0.0  13.49  19.49  25.76   67.50\n",
       "Fully Paid   493257.0  17.090818  8.008968  0.0  11.12  16.62  22.63  380.53"
      ]
     },
     "execution_count": 93,
     "metadata": {},
     "output_type": "execute_result"
    }
   ],
   "source": [
    "# Let's look at the relationship between debt to income ratio and loan repayment\n",
    "data.groupby('loan_status')['dti'].describe()"
   ]
  },
  {
   "cell_type": "code",
   "execution_count": 95,
   "metadata": {},
   "outputs": [
    {
     "data": {
      "text/plain": [
       "(-1, 50)"
      ]
     },
     "execution_count": 95,
     "metadata": {},
     "output_type": "execute_result"
    },
    {
     "data": {
      "image/png": "[encoded data removed]",
      "text/plain": [
       "<matplotlib.figure.Figure at 0x139bb1090>"
      ]
     },
     "metadata": {},
     "output_type": "display_data"
    }
   ],
   "source": [
    "# Let's look at the range of debt to income ratio groupe by loan status (Paid vs Default)\n",
    "sns.boxplot(x = 'loan_status', y = 'dti', data = data)\n",
    "plt.ylim(-1, 50)"
   ]
  },
  {
   "cell_type": "markdown",
   "metadata": {},
   "source": [
    "Based on the above data, and plots: we can see that loans that are charged off have a slightly higher debt to income ratio than loans that are fully paid.\n"
   ]
  },
  {
   "cell_type": "raw",
   "metadata": {},
   "source": []
  },
  {
   "cell_type": "markdown",
   "metadata": {},
   "source": [
    "#### Anual Income"
   ]
  },
  {
   "cell_type": "markdown",
   "metadata": {},
   "source": [
    "In this section we will look at the relationship between income and loan repayment.<br>\n",
    "Are higher income borrowers more reliable than lower income borrowers?"
   ]
  },
  {
   "cell_type": "code",
   "execution_count": 100,
   "metadata": {},
   "outputs": [
    {
     "data": {
      "text/plain": [
       "min       3000.0\n",
       "25%      45000.0\n",
       "50%      63300.0\n",
       "75%      90000.0\n",
       "max    8900060.0\n",
       "Name: annual_inc, dtype: float64"
      ]
     },
     "execution_count": 100,
     "metadata": {},
     "output_type": "execute_result"
    }
   ],
   "source": [
    "# Let's look at the relationship between annual income and loan payment\n",
    "# Let's first look at the income range\n",
    "data['annual_inc'].describe()[3:]"
   ]
  },
  {
   "cell_type": "code",
   "execution_count": 102,
   "metadata": {
    "collapsed": true
   },
   "outputs": [],
   "source": [
    "# Let's break down the income amounts by ranges\n",
    "data['annual_inc_range'] = data['inc_updated'].apply(lambda x:\n",
    "                                                        30000 if x < 30000 else (\n",
    "                                                        52000 if x < 52000 else (\n",
    "                                                        75000 if x < 75000 else (\n",
    "                                                        100000 if x < 100000 else (\n",
    "                                                        150000 if x < 150000 else (\n",
    "                                                        10000000))))))"
   ]
  },
  {
   "cell_type": "code",
   "execution_count": 103,
   "metadata": {
    "scrolled": true
   },
   "outputs": [
    {
     "data": {
      "text/html": [
       "<div>\n",
       "<style>\n",
       "    .dataframe thead tr:only-child th {\n",
       "        text-align: right;\n",
       "    }\n",
       "\n",
       "    .dataframe thead th {\n",
       "        text-align: left;\n",
       "    }\n",
       "\n",
       "    .dataframe tbody tr th {\n",
       "        vertical-align: top;\n",
       "    }\n",
       "</style>\n",
       "<table border=\"1\" class=\"dataframe\">\n",
       "  <thead>\n",
       "    <tr style=\"text-align: right;\">\n",
       "      <th></th>\n",
       "      <th>loan_status</th>\n",
       "      <th>Charged Off</th>\n",
       "      <th>Fully Paid</th>\n",
       "    </tr>\n",
       "    <tr>\n",
       "      <th>grade</th>\n",
       "      <th>annual_inc_range</th>\n",
       "      <th></th>\n",
       "      <th></th>\n",
       "    </tr>\n",
       "  </thead>\n",
       "  <tbody>\n",
       "    <tr>\n",
       "      <th rowspan=\"6\" valign=\"top\">A</th>\n",
       "      <th>30000</th>\n",
       "      <td>0.109828</td>\n",
       "      <td>0.890172</td>\n",
       "    </tr>\n",
       "    <tr>\n",
       "      <th>52000</th>\n",
       "      <td>0.083517</td>\n",
       "      <td>0.916483</td>\n",
       "    </tr>\n",
       "    <tr>\n",
       "      <th>75000</th>\n",
       "      <td>0.064673</td>\n",
       "      <td>0.935327</td>\n",
       "    </tr>\n",
       "    <tr>\n",
       "      <th>100000</th>\n",
       "      <td>0.057544</td>\n",
       "      <td>0.942456</td>\n",
       "    </tr>\n",
       "    <tr>\n",
       "      <th>150000</th>\n",
       "      <td>0.050445</td>\n",
       "      <td>0.949555</td>\n",
       "    </tr>\n",
       "    <tr>\n",
       "      <th>10000000</th>\n",
       "      <td>0.048594</td>\n",
       "      <td>0.951406</td>\n",
       "    </tr>\n",
       "    <tr>\n",
       "      <th rowspan=\"6\" valign=\"top\">B</th>\n",
       "      <th>30000</th>\n",
       "      <td>0.179540</td>\n",
       "      <td>0.820460</td>\n",
       "    </tr>\n",
       "    <tr>\n",
       "      <th>52000</th>\n",
       "      <td>0.147291</td>\n",
       "      <td>0.852709</td>\n",
       "    </tr>\n",
       "    <tr>\n",
       "      <th>75000</th>\n",
       "      <td>0.129985</td>\n",
       "      <td>0.870015</td>\n",
       "    </tr>\n",
       "    <tr>\n",
       "      <th>100000</th>\n",
       "      <td>0.118936</td>\n",
       "      <td>0.881064</td>\n",
       "    </tr>\n",
       "    <tr>\n",
       "      <th>150000</th>\n",
       "      <td>0.109443</td>\n",
       "      <td>0.890557</td>\n",
       "    </tr>\n",
       "    <tr>\n",
       "      <th>10000000</th>\n",
       "      <td>0.110653</td>\n",
       "      <td>0.889347</td>\n",
       "    </tr>\n",
       "    <tr>\n",
       "      <th rowspan=\"6\" valign=\"top\">C</th>\n",
       "      <th>30000</th>\n",
       "      <td>0.260146</td>\n",
       "      <td>0.739854</td>\n",
       "    </tr>\n",
       "    <tr>\n",
       "      <th>52000</th>\n",
       "      <td>0.244999</td>\n",
       "      <td>0.755001</td>\n",
       "    </tr>\n",
       "    <tr>\n",
       "      <th>75000</th>\n",
       "      <td>0.226697</td>\n",
       "      <td>0.773303</td>\n",
       "    </tr>\n",
       "    <tr>\n",
       "      <th>100000</th>\n",
       "      <td>0.204605</td>\n",
       "      <td>0.795395</td>\n",
       "    </tr>\n",
       "    <tr>\n",
       "      <th>150000</th>\n",
       "      <td>0.183874</td>\n",
       "      <td>0.816126</td>\n",
       "    </tr>\n",
       "    <tr>\n",
       "      <th>10000000</th>\n",
       "      <td>0.175316</td>\n",
       "      <td>0.824684</td>\n",
       "    </tr>\n",
       "    <tr>\n",
       "      <th rowspan=\"6\" valign=\"top\">D</th>\n",
       "      <th>30000</th>\n",
       "      <td>0.319507</td>\n",
       "      <td>0.680493</td>\n",
       "    </tr>\n",
       "    <tr>\n",
       "      <th>52000</th>\n",
       "      <td>0.325429</td>\n",
       "      <td>0.674571</td>\n",
       "    </tr>\n",
       "    <tr>\n",
       "      <th>75000</th>\n",
       "      <td>0.309160</td>\n",
       "      <td>0.690840</td>\n",
       "    </tr>\n",
       "    <tr>\n",
       "      <th>100000</th>\n",
       "      <td>0.280609</td>\n",
       "      <td>0.719391</td>\n",
       "    </tr>\n",
       "    <tr>\n",
       "      <th>150000</th>\n",
       "      <td>0.257660</td>\n",
       "      <td>0.742340</td>\n",
       "    </tr>\n",
       "    <tr>\n",
       "      <th>10000000</th>\n",
       "      <td>0.234975</td>\n",
       "      <td>0.765025</td>\n",
       "    </tr>\n",
       "    <tr>\n",
       "      <th rowspan=\"6\" valign=\"top\">E</th>\n",
       "      <th>30000</th>\n",
       "      <td>0.381279</td>\n",
       "      <td>0.618721</td>\n",
       "    </tr>\n",
       "    <tr>\n",
       "      <th>52000</th>\n",
       "      <td>0.418825</td>\n",
       "      <td>0.581175</td>\n",
       "    </tr>\n",
       "    <tr>\n",
       "      <th>75000</th>\n",
       "      <td>0.411435</td>\n",
       "      <td>0.588565</td>\n",
       "    </tr>\n",
       "    <tr>\n",
       "      <th>100000</th>\n",
       "      <td>0.361934</td>\n",
       "      <td>0.638066</td>\n",
       "    </tr>\n",
       "    <tr>\n",
       "      <th>150000</th>\n",
       "      <td>0.331218</td>\n",
       "      <td>0.668782</td>\n",
       "    </tr>\n",
       "    <tr>\n",
       "      <th>10000000</th>\n",
       "      <td>0.298008</td>\n",
       "      <td>0.701992</td>\n",
       "    </tr>\n",
       "    <tr>\n",
       "      <th rowspan=\"6\" valign=\"top\">F</th>\n",
       "      <th>30000</th>\n",
       "      <td>0.432034</td>\n",
       "      <td>0.567966</td>\n",
       "    </tr>\n",
       "    <tr>\n",
       "      <th>52000</th>\n",
       "      <td>0.480000</td>\n",
       "      <td>0.520000</td>\n",
       "    </tr>\n",
       "    <tr>\n",
       "      <th>75000</th>\n",
       "      <td>0.464972</td>\n",
       "      <td>0.535028</td>\n",
       "    </tr>\n",
       "    <tr>\n",
       "      <th>100000</th>\n",
       "      <td>0.417479</td>\n",
       "      <td>0.582521</td>\n",
       "    </tr>\n",
       "    <tr>\n",
       "      <th>150000</th>\n",
       "      <td>0.377569</td>\n",
       "      <td>0.622431</td>\n",
       "    </tr>\n",
       "    <tr>\n",
       "      <th>10000000</th>\n",
       "      <td>0.364435</td>\n",
       "      <td>0.635565</td>\n",
       "    </tr>\n",
       "    <tr>\n",
       "      <th rowspan=\"6\" valign=\"top\">G</th>\n",
       "      <th>30000</th>\n",
       "      <td>0.564286</td>\n",
       "      <td>0.435714</td>\n",
       "    </tr>\n",
       "    <tr>\n",
       "      <th>52000</th>\n",
       "      <td>0.528934</td>\n",
       "      <td>0.471066</td>\n",
       "    </tr>\n",
       "    <tr>\n",
       "      <th>75000</th>\n",
       "      <td>0.506383</td>\n",
       "      <td>0.493617</td>\n",
       "    </tr>\n",
       "    <tr>\n",
       "      <th>100000</th>\n",
       "      <td>0.514874</td>\n",
       "      <td>0.485126</td>\n",
       "    </tr>\n",
       "    <tr>\n",
       "      <th>150000</th>\n",
       "      <td>0.409509</td>\n",
       "      <td>0.590491</td>\n",
       "    </tr>\n",
       "    <tr>\n",
       "      <th>10000000</th>\n",
       "      <td>0.351724</td>\n",
       "      <td>0.648276</td>\n",
       "    </tr>\n",
       "  </tbody>\n",
       "</table>\n",
       "</div>"
      ],
      "text/plain": [
       "loan_status             Charged Off  Fully Paid\n",
       "grade annual_inc_range                         \n",
       "A     30000                0.109828    0.890172\n",
       "      52000                0.083517    0.916483\n",
       "      75000                0.064673    0.935327\n",
       "      100000               0.057544    0.942456\n",
       "      150000               0.050445    0.949555\n",
       "      10000000             0.048594    0.951406\n",
       "B     30000                0.179540    0.820460\n",
       "      52000                0.147291    0.852709\n",
       "      75000                0.129985    0.870015\n",
       "      100000               0.118936    0.881064\n",
       "      150000               0.109443    0.890557\n",
       "      10000000             0.110653    0.889347\n",
       "C     30000                0.260146    0.739854\n",
       "      52000                0.244999    0.755001\n",
       "      75000                0.226697    0.773303\n",
       "      100000               0.204605    0.795395\n",
       "      150000               0.183874    0.816126\n",
       "      10000000             0.175316    0.824684\n",
       "D     30000                0.319507    0.680493\n",
       "      52000                0.325429    0.674571\n",
       "      75000                0.309160    0.690840\n",
       "      100000               0.280609    0.719391\n",
       "      150000               0.257660    0.742340\n",
       "      10000000             0.234975    0.765025\n",
       "E     30000                0.381279    0.618721\n",
       "      52000                0.418825    0.581175\n",
       "      75000                0.411435    0.588565\n",
       "      100000               0.361934    0.638066\n",
       "      150000               0.331218    0.668782\n",
       "      10000000             0.298008    0.701992\n",
       "F     30000                0.432034    0.567966\n",
       "      52000                0.480000    0.520000\n",
       "      75000                0.464972    0.535028\n",
       "      100000               0.417479    0.582521\n",
       "      150000               0.377569    0.622431\n",
       "      10000000             0.364435    0.635565\n",
       "G     30000                0.564286    0.435714\n",
       "      52000                0.528934    0.471066\n",
       "      75000                0.506383    0.493617\n",
       "      100000               0.514874    0.485126\n",
       "      150000               0.409509    0.590491\n",
       "      10000000             0.351724    0.648276"
      ]
     },
     "execution_count": 103,
     "metadata": {},
     "output_type": "execute_result"
    }
   ],
   "source": [
    "(data.groupby(['grade','annual_inc_range'])['loan_status'].value_counts(normalize = True)).unstack()"
   ]
  },
  {
   "cell_type": "code",
   "execution_count": 104,
   "metadata": {},
   "outputs": [
    {
     "data": {
      "image/png": "[encoded data removed]",
      "text/plain": [
       "<matplotlib.figure.Figure at 0x139d74110>"
      ]
     },
     "metadata": {},
     "output_type": "display_data"
    }
   ],
   "source": [
    "qx = data['loan_status'].groupby(data['annual_inc_range']).value_counts(normalize = True).unstack().plot(\n",
    "    kind = 'bar', figsize = (7,4), title = 'Percent of Paid vs Default Loans by Income');\n",
    "qx.yaxis.set_major_formatter(FuncFormatter(lambda y, _: '{:.0%}'.format(y))) ;"
   ]
  },
  {
   "cell_type": "markdown",
   "metadata": {},
   "source": [
    "Looking at the above analysis, the higher the annual income, the greater the percentage of fully paid loans.<br>\n",
    "When the income increases, the payment rate also increases<br>\n",
    "When the income increases, the default rate seems to decrease<br>\n",
    "So, borrowers with higher income tend to repay their loans at a higher rate than borrowers with lower income."
   ]
  },
  {
   "cell_type": "raw",
   "metadata": {
    "collapsed": true
   },
   "source": []
  },
  {
   "cell_type": "markdown",
   "metadata": {},
   "source": [
    "#### Home Ownership Status"
   ]
  },
  {
   "cell_type": "markdown",
   "metadata": {},
   "source": [
    "In this section, we will determine whether home ownership affects the likelihood of a borrower to pay loans"
   ]
  },
  {
   "cell_type": "code",
   "execution_count": 105,
   "metadata": {},
   "outputs": [
    {
     "data": {
      "text/plain": [
       "MORTGAGE    307976\n",
       "RENT        251645\n",
       "OWN          58755\n",
       "OTHER          143\n",
       "NONE            43\n",
       "ANY              1\n",
       "Name: home_ownership, dtype: int64"
      ]
     },
     "execution_count": 105,
     "metadata": {},
     "output_type": "execute_result"
    }
   ],
   "source": [
    "data['home_ownership'].value_counts()"
   ]
  },
  {
   "cell_type": "code",
   "execution_count": 106,
   "metadata": {
    "collapsed": true
   },
   "outputs": [],
   "source": [
    "# Let's group Other and Any into a single Group OTHER\n",
    "data['home_ownership_group'] = data['home_ownership'].map({\n",
    "    'MORTGAGE':'MORTGAGE','RENT':'RENT','OWN':'OWN','OTHER':'OTHER','NONE':'NONE','ANY':'OTHER'\n",
    "})"
   ]
  },
  {
   "cell_type": "code",
   "execution_count": 108,
   "metadata": {
    "scrolled": true
   },
   "outputs": [
    {
     "data": {
      "text/html": [
       "<div>\n",
       "<style>\n",
       "    .dataframe thead tr:only-child th {\n",
       "        text-align: right;\n",
       "    }\n",
       "\n",
       "    .dataframe thead th {\n",
       "        text-align: left;\n",
       "    }\n",
       "\n",
       "    .dataframe tbody tr th {\n",
       "        vertical-align: top;\n",
       "    }\n",
       "</style>\n",
       "<table border=\"1\" class=\"dataframe\">\n",
       "  <thead>\n",
       "    <tr style=\"text-align: right;\">\n",
       "      <th>loan_status</th>\n",
       "      <th>Charged Off</th>\n",
       "      <th>Fully Paid</th>\n",
       "    </tr>\n",
       "    <tr>\n",
       "      <th>home_ownership_group</th>\n",
       "      <th></th>\n",
       "      <th></th>\n",
       "    </tr>\n",
       "  </thead>\n",
       "  <tbody>\n",
       "    <tr>\n",
       "      <th>MORTGAGE</th>\n",
       "      <td>17.713069</td>\n",
       "      <td>82.286931</td>\n",
       "    </tr>\n",
       "    <tr>\n",
       "      <th>NONE</th>\n",
       "      <td>16.279070</td>\n",
       "      <td>83.720930</td>\n",
       "    </tr>\n",
       "    <tr>\n",
       "      <th>OTHER</th>\n",
       "      <td>18.750000</td>\n",
       "      <td>81.250000</td>\n",
       "    </tr>\n",
       "    <tr>\n",
       "      <th>OWN</th>\n",
       "      <td>21.436473</td>\n",
       "      <td>78.563527</td>\n",
       "    </tr>\n",
       "    <tr>\n",
       "      <th>RENT</th>\n",
       "      <td>23.098015</td>\n",
       "      <td>76.901985</td>\n",
       "    </tr>\n",
       "  </tbody>\n",
       "</table>\n",
       "</div>"
      ],
      "text/plain": [
       "loan_status           Charged Off  Fully Paid\n",
       "home_ownership_group                         \n",
       "MORTGAGE                17.713069   82.286931\n",
       "NONE                    16.279070   83.720930\n",
       "OTHER                   18.750000   81.250000\n",
       "OWN                     21.436473   78.563527\n",
       "RENT                    23.098015   76.901985"
      ]
     },
     "execution_count": 108,
     "metadata": {},
     "output_type": "execute_result"
    }
   ],
   "source": [
    "(data['loan_status'].groupby(data['home_ownership_group']).value_counts(normalize = True)*100).unstack()"
   ]
  },
  {
   "cell_type": "code",
   "execution_count": 110,
   "metadata": {},
   "outputs": [
    {
     "data": {
      "image/png": "[encoded data removed]",
      "text/plain": [
       "<matplotlib.figure.Figure at 0x18fd80990>"
      ]
     },
     "metadata": {},
     "output_type": "display_data"
    }
   ],
   "source": [
    "rx = data['loan_status'].groupby(data['home_ownership_group']).value_counts(normalize = True).unstack().plot(\n",
    "    kind = 'bar', figsize = (18,4));\n",
    "rx.yaxis.set_major_formatter(FuncFormatter(lambda y, _: '{:.0%}'.format(y))) ;"
   ]
  },
  {
   "cell_type": "markdown",
   "metadata": {},
   "source": [
    "It looks like borrowers who rent have the lowest full repayment rate at 76% compared to borrowers who have a mortgage at 82%"
   ]
  },
  {
   "cell_type": "markdown",
   "metadata": {},
   "source": [
    "#### Loan Amount"
   ]
  },
  {
   "cell_type": "markdown",
   "metadata": {},
   "source": [
    "In this section we will determine if there is any relationship between the loan amount and the repayment rate<br>\n",
    "The variable that we will use is the funded amount which is the total amount commited to the loan<br>\n",
    "This could be equal to or lower than the amount requested by the borrower<br>"
   ]
  },
  {
   "cell_type": "code",
   "execution_count": 111,
   "metadata": {},
   "outputs": [
    {
     "data": {
      "text/plain": [
       "mean    14205.10041\n",
       "min       500.00000\n",
       "25%      8000.00000\n",
       "50%     12000.00000\n",
       "75%     20000.00000\n",
       "max     35000.00000\n",
       "Name: funded_amnt, dtype: float64"
      ]
     },
     "execution_count": 111,
     "metadata": {},
     "output_type": "execute_result"
    }
   ],
   "source": [
    "data['funded_amnt'].describe()[[1,3,4,5,6,7]]"
   ]
  },
  {
   "cell_type": "code",
   "execution_count": 112,
   "metadata": {
    "collapsed": true
   },
   "outputs": [],
   "source": [
    "# Let's break down the amounts by ranges\n",
    "data['funded_range'] = data['funded_amnt'].apply(lambda x:\n",
    "                                                    15000 if x <= 15000 else (\n",
    "                                                    25000 if x <= 25000 else (\n",
    "                                                    35000)))"
   ]
  },
  {
   "cell_type": "code",
   "execution_count": 114,
   "metadata": {
    "scrolled": true
   },
   "outputs": [
    {
     "data": {
      "text/html": [
       "<div>\n",
       "<style>\n",
       "    .dataframe thead tr:only-child th {\n",
       "        text-align: right;\n",
       "    }\n",
       "\n",
       "    .dataframe thead th {\n",
       "        text-align: left;\n",
       "    }\n",
       "\n",
       "    .dataframe tbody tr th {\n",
       "        vertical-align: top;\n",
       "    }\n",
       "</style>\n",
       "<table border=\"1\" class=\"dataframe\">\n",
       "  <thead>\n",
       "    <tr style=\"text-align: right;\">\n",
       "      <th>loan_status</th>\n",
       "      <th>Charged Off</th>\n",
       "      <th>Fully Paid</th>\n",
       "    </tr>\n",
       "    <tr>\n",
       "      <th>funded_range</th>\n",
       "      <th></th>\n",
       "      <th></th>\n",
       "    </tr>\n",
       "  </thead>\n",
       "  <tbody>\n",
       "    <tr>\n",
       "      <th>15000</th>\n",
       "      <td>0.184359</td>\n",
       "      <td>0.815641</td>\n",
       "    </tr>\n",
       "    <tr>\n",
       "      <th>25000</th>\n",
       "      <td>0.230110</td>\n",
       "      <td>0.769890</td>\n",
       "    </tr>\n",
       "    <tr>\n",
       "      <th>35000</th>\n",
       "      <td>0.242585</td>\n",
       "      <td>0.757415</td>\n",
       "    </tr>\n",
       "  </tbody>\n",
       "</table>\n",
       "</div>"
      ],
      "text/plain": [
       "loan_status   Charged Off  Fully Paid\n",
       "funded_range                         \n",
       "15000            0.184359    0.815641\n",
       "25000            0.230110    0.769890\n",
       "35000            0.242585    0.757415"
      ]
     },
     "execution_count": 114,
     "metadata": {},
     "output_type": "execute_result"
    }
   ],
   "source": [
    "data['loan_status'].groupby(data['funded_range']).value_counts(normalize = True).unstack()"
   ]
  },
  {
   "cell_type": "markdown",
   "metadata": {},
   "source": [
    "We can see that the higher the loan amount, the lower the repayment rate, however the difference is not too significant."
   ]
  },
  {
   "cell_type": "markdown",
   "metadata": {},
   "source": [
    "#### Other Open Accounts and Credit Lines"
   ]
  },
  {
   "cell_type": "markdown",
   "metadata": {},
   "source": [
    "In this section we will determine if there is a relationship between the number of open accounts or credit lines and the Repayment Rate"
   ]
  },
  {
   "cell_type": "markdown",
   "metadata": {},
   "source": [
    "We will look at the following variables:\n",
    "    open_acc : number of open credit lines\n",
    "    open_acc_6m : number of open credit lines in the past 6 months\n",
    "    open_il_12m: number of installment accounts in the past 12 months\n",
    "    open_rv_12m: number of revolving trades opened in past 12 months"
   ]
  },
  {
   "cell_type": "code",
   "execution_count": 127,
   "metadata": {
    "scrolled": true
   },
   "outputs": [
    {
     "data": {
      "image/png": "[encoded data removed]",
      "text/plain": [
       "<matplotlib.figure.Figure at 0x137e3b190>"
      ]
     },
     "metadata": {},
     "output_type": "display_data"
    }
   ],
   "source": [
    "# Let's plot the number of open accounts by loan status\n",
    "sns.stripplot(x = 'loan_status', y = 'open_acc', data = data, alpha = 0.5);\n"
   ]
  },
  {
   "cell_type": "markdown",
   "metadata": {},
   "source": [
    "There is almost no correlation existing between the number of open accounts and loan repayment"
   ]
  },
  {
   "cell_type": "markdown",
   "metadata": {},
   "source": [
    "#### Loan Term"
   ]
  },
  {
   "cell_type": "markdown",
   "metadata": {},
   "source": [
    "In this section we answern the following question:<br>\n",
    "    are longer term loans safer than shorter term ones?"
   ]
  },
  {
   "cell_type": "code",
   "execution_count": 129,
   "metadata": {},
   "outputs": [
    {
     "data": {
      "text/html": [
       "<div>\n",
       "<style>\n",
       "    .dataframe thead tr:only-child th {\n",
       "        text-align: right;\n",
       "    }\n",
       "\n",
       "    .dataframe thead th {\n",
       "        text-align: left;\n",
       "    }\n",
       "\n",
       "    .dataframe tbody tr th {\n",
       "        vertical-align: top;\n",
       "    }\n",
       "</style>\n",
       "<table border=\"1\" class=\"dataframe\">\n",
       "  <thead>\n",
       "    <tr style=\"text-align: right;\">\n",
       "      <th>loan_status</th>\n",
       "      <th>Charged Off</th>\n",
       "      <th>Fully Paid</th>\n",
       "    </tr>\n",
       "    <tr>\n",
       "      <th>term</th>\n",
       "      <th></th>\n",
       "      <th></th>\n",
       "    </tr>\n",
       "  </thead>\n",
       "  <tbody>\n",
       "    <tr>\n",
       "      <th>36 months</th>\n",
       "      <td>15.866737</td>\n",
       "      <td>84.133263</td>\n",
       "    </tr>\n",
       "    <tr>\n",
       "      <th>60 months</th>\n",
       "      <td>34.110266</td>\n",
       "      <td>65.889734</td>\n",
       "    </tr>\n",
       "  </tbody>\n",
       "</table>\n",
       "</div>"
      ],
      "text/plain": [
       "loan_status  Charged Off  Fully Paid\n",
       "term                                \n",
       " 36 months     15.866737   84.133263\n",
       " 60 months     34.110266   65.889734"
      ]
     },
     "execution_count": 129,
     "metadata": {},
     "output_type": "execute_result"
    }
   ],
   "source": [
    "(data['loan_status'].groupby(data['term']).value_counts(normalize = True)*100).unstack()"
   ]
  },
  {
   "cell_type": "code",
   "execution_count": 130,
   "metadata": {},
   "outputs": [
    {
     "data": {
      "image/png": "[encoded data removed]",
      "text/plain": [
       "<matplotlib.figure.Figure at 0x1268ad550>"
      ]
     },
     "metadata": {},
     "output_type": "display_data"
    }
   ],
   "source": [
    "vx = data['loan_status'].groupby(data['term']).value_counts(normalize = True).unstack().plot(kind = 'bar',\n",
    "                                        title = 'Percent of Paid vs Default Loans by Term Length', rot = 0);\n",
    "vx.yaxis.set_major_formatter(FuncFormatter(lambda y, _: '{:.0%}'.format(y))) ;"
   ]
  },
  {
   "cell_type": "markdown",
   "metadata": {},
   "source": [
    "It looks like longer term loans are riskier than shorter loans.<br>"
   ]
  },
  {
   "cell_type": "code",
   "execution_count": 132,
   "metadata": {},
   "outputs": [
    {
     "data": {
      "text/plain": [
       "(0, 50)"
      ]
     },
     "execution_count": 132,
     "metadata": {},
     "output_type": "execute_result"
    },
    {
     "data": {
      "image/png": "[encoded data removed]",
      "text/plain": [
       "<matplotlib.figure.Figure at 0x1392df9d0>"
      ]
     },
     "metadata": {},
     "output_type": "display_data"
    }
   ],
   "source": [
    "# Let's look at the interest rate and loan term\n",
    "sns.boxplot(x = 'term', y = 'int_rate', data = data)\n",
    "plt.ylim(0, 50)"
   ]
  },
  {
   "cell_type": "markdown",
   "metadata": {},
   "source": [
    "Longer term loans have higher interest rates than shorter term loans<br>\n",
    "This might be why longer term loans have a lower repayment rate than shorter term loans<br>"
   ]
  },
  {
   "cell_type": "markdown",
   "metadata": {},
   "source": [
    "#### Interest Rate"
   ]
  },
  {
   "cell_type": "code",
   "execution_count": 134,
   "metadata": {},
   "outputs": [
    {
     "data": {
      "text/plain": [
       "<matplotlib.text.Text at 0x1272894d0>"
      ]
     },
     "execution_count": 134,
     "metadata": {},
     "output_type": "execute_result"
    },
    {
     "data": {
      "image/png": "[encoded data removed]",
      "text/plain": [
       "<matplotlib.figure.Figure at 0x1276c6950>"
      ]
     },
     "metadata": {},
     "output_type": "display_data"
    }
   ],
   "source": [
    "# Let's look at interest rate by grade\n",
    "sns.boxplot(x = 'grade', y = 'int_rate', data = data.sort_values('grade'))\n",
    "plt.ylim(0, 30)\n",
    "plt.title('Grade vs Interest Rate')"
   ]
  },
  {
   "cell_type": "markdown",
   "metadata": {},
   "source": [
    "The lower the grade, the higher the interest rate."
   ]
  },
  {
   "cell_type": "markdown",
   "metadata": {},
   "source": [
    "Below, we look at the interest rate by grade with the interest rate grouped by Loan Status. This is to see if Default Loans have higher interest rates by grade."
   ]
  },
  {
   "cell_type": "code",
   "execution_count": 135,
   "metadata": {
    "scrolled": false
   },
   "outputs": [
    {
     "data": {
      "image/png": "[encoded data removed]",
      "text/plain": [
       "<matplotlib.figure.Figure at 0x12766df50>"
      ]
     },
     "metadata": {},
     "output_type": "display_data"
    }
   ],
   "source": [
    "# Interest rates grouped by grade and loan status\n",
    "fig, ax = plt.subplots()\n",
    "fig.set_size_inches(6, 5)\n",
    "sns.boxplot(x = 'grade', y = 'int_rate', hue = 'loan_status', data = data.sort_values('grade'), ax = ax)\n",
    "plt.ylim(5, 30)\n",
    "plt.title( 'Interest Rates Grouped by Grade and Loan Status');"
   ]
  },
  {
   "cell_type": "markdown",
   "metadata": {},
   "source": [
    "Apart for grade A, there is not much difference interest rates for Paid vs Default Loans"
   ]
  },
  {
   "cell_type": "markdown",
   "metadata": {},
   "source": [
    "#### Loan Term"
   ]
  },
  {
   "cell_type": "markdown",
   "metadata": {},
   "source": [
    "Below, we look at the relationship between loan term and loan repayment."
   ]
  },
  {
   "cell_type": "code",
   "execution_count": 136,
   "metadata": {
    "scrolled": true
   },
   "outputs": [
    {
     "data": {
      "text/html": [
       "<div>\n",
       "<style>\n",
       "    .dataframe thead tr:only-child th {\n",
       "        text-align: right;\n",
       "    }\n",
       "\n",
       "    .dataframe thead th {\n",
       "        text-align: left;\n",
       "    }\n",
       "\n",
       "    .dataframe tbody tr th {\n",
       "        vertical-align: top;\n",
       "    }\n",
       "</style>\n",
       "<table border=\"1\" class=\"dataframe\">\n",
       "  <thead>\n",
       "    <tr style=\"text-align: right;\">\n",
       "      <th></th>\n",
       "      <th>loan_status</th>\n",
       "      <th>Charged Off</th>\n",
       "      <th>Fully Paid</th>\n",
       "    </tr>\n",
       "    <tr>\n",
       "      <th>grade</th>\n",
       "      <th>term</th>\n",
       "      <th></th>\n",
       "      <th></th>\n",
       "    </tr>\n",
       "  </thead>\n",
       "  <tbody>\n",
       "    <tr>\n",
       "      <th rowspan=\"2\" valign=\"top\">A</th>\n",
       "      <th>36 months</th>\n",
       "      <td>6.385088</td>\n",
       "      <td>93.614912</td>\n",
       "    </tr>\n",
       "    <tr>\n",
       "      <th>60 months</th>\n",
       "      <td>9.216193</td>\n",
       "      <td>90.783807</td>\n",
       "    </tr>\n",
       "    <tr>\n",
       "      <th rowspan=\"2\" valign=\"top\">B</th>\n",
       "      <th>36 months</th>\n",
       "      <td>12.485114</td>\n",
       "      <td>87.514886</td>\n",
       "    </tr>\n",
       "    <tr>\n",
       "      <th>60 months</th>\n",
       "      <td>18.826691</td>\n",
       "      <td>81.173309</td>\n",
       "    </tr>\n",
       "    <tr>\n",
       "      <th rowspan=\"2\" valign=\"top\">C</th>\n",
       "      <th>36 months</th>\n",
       "      <td>20.224246</td>\n",
       "      <td>79.775754</td>\n",
       "    </tr>\n",
       "    <tr>\n",
       "      <th>60 months</th>\n",
       "      <td>28.376808</td>\n",
       "      <td>71.623192</td>\n",
       "    </tr>\n",
       "    <tr>\n",
       "      <th rowspan=\"2\" valign=\"top\">D</th>\n",
       "      <th>36 months</th>\n",
       "      <td>25.890257</td>\n",
       "      <td>74.109743</td>\n",
       "    </tr>\n",
       "    <tr>\n",
       "      <th>60 months</th>\n",
       "      <td>37.366122</td>\n",
       "      <td>62.633878</td>\n",
       "    </tr>\n",
       "    <tr>\n",
       "      <th rowspan=\"2\" valign=\"top\">E</th>\n",
       "      <th>36 months</th>\n",
       "      <td>31.597302</td>\n",
       "      <td>68.402698</td>\n",
       "    </tr>\n",
       "    <tr>\n",
       "      <th>60 months</th>\n",
       "      <td>42.644006</td>\n",
       "      <td>57.355994</td>\n",
       "    </tr>\n",
       "    <tr>\n",
       "      <th rowspan=\"2\" valign=\"top\">F</th>\n",
       "      <th>36 months</th>\n",
       "      <td>34.531416</td>\n",
       "      <td>65.468584</td>\n",
       "    </tr>\n",
       "    <tr>\n",
       "      <th>60 months</th>\n",
       "      <td>46.746050</td>\n",
       "      <td>53.253950</td>\n",
       "    </tr>\n",
       "    <tr>\n",
       "      <th rowspan=\"2\" valign=\"top\">G</th>\n",
       "      <th>36 months</th>\n",
       "      <td>43.488372</td>\n",
       "      <td>56.511628</td>\n",
       "    </tr>\n",
       "    <tr>\n",
       "      <th>60 months</th>\n",
       "      <td>49.565925</td>\n",
       "      <td>50.434075</td>\n",
       "    </tr>\n",
       "  </tbody>\n",
       "</table>\n",
       "</div>"
      ],
      "text/plain": [
       "loan_status       Charged Off  Fully Paid\n",
       "grade term                               \n",
       "A      36 months     6.385088   93.614912\n",
       "       60 months     9.216193   90.783807\n",
       "B      36 months    12.485114   87.514886\n",
       "       60 months    18.826691   81.173309\n",
       "C      36 months    20.224246   79.775754\n",
       "       60 months    28.376808   71.623192\n",
       "D      36 months    25.890257   74.109743\n",
       "       60 months    37.366122   62.633878\n",
       "E      36 months    31.597302   68.402698\n",
       "       60 months    42.644006   57.355994\n",
       "F      36 months    34.531416   65.468584\n",
       "       60 months    46.746050   53.253950\n",
       "G      36 months    43.488372   56.511628\n",
       "       60 months    49.565925   50.434075"
      ]
     },
     "execution_count": 136,
     "metadata": {},
     "output_type": "execute_result"
    }
   ],
   "source": [
    "(data.groupby(['grade','term'])['loan_status'].value_counts(normalize = True)*100).unstack()"
   ]
  },
  {
   "cell_type": "markdown",
   "metadata": {},
   "source": [
    "Below plot shows the percent of repaid loans by loan term. It is visible that the longer loan term of 60 months has a lower repayment rate than the shoter loan term of 36 months."
   ]
  },
  {
   "cell_type": "code",
   "execution_count": 137,
   "metadata": {
    "scrolled": true
   },
   "outputs": [
    {
     "data": {
      "text/plain": [
       "<matplotlib.axes._subplots.AxesSubplot at 0x13837a3d0>"
      ]
     },
     "execution_count": 137,
     "metadata": {},
     "output_type": "execute_result"
    },
    {
     "data": {
      "image/png": "[encoded data removed]",
      "text/plain": [
       "<matplotlib.figure.Figure at 0x160308590>"
      ]
     },
     "metadata": {},
     "output_type": "display_data"
    }
   ],
   "source": [
    "a = (data.groupby(['grade','term'])['loan_status'].value_counts(normalize = True)*100).unstack()\n",
    "a['Fully Paid'].unstack().plot(kind = 'bar', figsize = (10,6), rot = 0, title = 'Loan Repayment Rate by Term, Per Grade')"
   ]
  },
  {
   "cell_type": "markdown",
   "metadata": {},
   "source": [
    "Below plot shows both the Repayment and Default rates for each grade, term."
   ]
  },
  {
   "cell_type": "code",
   "execution_count": 138,
   "metadata": {
    "scrolled": false
   },
   "outputs": [
    {
     "data": {
      "image/png": "[encoded data removed]",
      "text/plain": [
       "<matplotlib.figure.Figure at 0x152918b10>"
      ]
     },
     "metadata": {},
     "output_type": "display_data"
    }
   ],
   "source": [
    "wx = (data.groupby(['grade','term'])['loan_status'].value_counts(normalize = True)*100).unstack().plot(\n",
    "    kind = 'bar', figsize = (10,6), title = 'Paid vs Default % by Term, Per Grade')"
   ]
  },
  {
   "cell_type": "markdown",
   "metadata": {
    "collapsed": true
   },
   "source": [
    "We can see that longer term loans have a lower repayment rate by grade than shorter term loans.<br>\n",
    "Also, we notice that grade G loans have about a 50-50 chance of getting paid or charged off when the loan term is 60 months."
   ]
  },
  {
   "cell_type": "raw",
   "metadata": {},
   "source": []
  },
  {
   "cell_type": "markdown",
   "metadata": {},
   "source": [
    "## Data Modeling"
   ]
  },
  {
   "cell_type": "markdown",
   "metadata": {},
   "source": [
    "In this section, we will build a model that will help us predict if a loan will be fully repaid by the end of the loan term. This is to determine how safe it is for an investor to borrow his money. <br>\n",
    "Logistic Regression<br>\n",
    "\n",
    "We selected the best model based on Train Test Split and Cross Validation.<br>\n",
    "\n",
    "Variables used for the following linear regression:<br>\n",
    "<br>\n",
    "•\tGrade<br>\n",
    "•\tEmployment Status (Employed vs Unemployed)<br>\n",
    "•\tLoan Term (36-month vs 60-month)<br>\n",
    "•\tDebt to Income Ratio (The debt to income ratio is the part of a borrower’s income used towards current debt such as mortgage, rent and credit cards. If a borrower’s debt-to-income ratio is high, then a large part of his income is currently going toward paying current debts. If a borrower is already using a large part of his income to pay current debts, then that might impact his ability to pay an additional loan)<br>\n",
    "•\tHome ownership status (Mortgage, Own, Rent or None)<br>\n",
    "•\tLoan Purpose<br>\n",
    "•\tAnnual Income <br>\n",
    "•\tRatio of Loan Installment to Monthly Income (This represents the ratio of the monthly income used toward paying the loan installment every month. If a very large amount of the monthly income is used, analysis shows that the borrower will have difficulty paying back the loan)<br>\n",
    "\n"
   ]
  },
  {
   "cell_type": "markdown",
   "metadata": {},
   "source": [
    "#### Additional Data Prep"
   ]
  },
  {
   "cell_type": "markdown",
   "metadata": {},
   "source": [
    "In the following section, we will clean up and prep any columns that were not prepped during the first part of the project. This will mostly include transforming categorical columns into dummy variales so we can use them for logistic regression."
   ]
  },
  {
   "cell_type": "markdown",
   "metadata": {},
   "source": [
    "#### Variable Grade<br>"
   ]
  },
  {
   "cell_type": "markdown",
   "metadata": {},
   "source": [
    "We will update the grade into an ordered categorical value as follow:<br>\n",
    "A:7 > B:6 > C:5 > D:4 > E:3 > F:2 > G:1"
   ]
  },
  {
   "cell_type": "code",
   "execution_count": 141,
   "metadata": {
    "collapsed": true
   },
   "outputs": [],
   "source": [
    "data['grade_num'] = data['grade'].map({\n",
    "    'A':7, 'B':6, 'C':5, 'D':4, 'E':3, 'F':2, 'G':1\n",
    "})"
   ]
  },
  {
   "cell_type": "markdown",
   "metadata": {},
   "source": [
    "#### Employment Length"
   ]
  },
  {
   "cell_type": "markdown",
   "metadata": {},
   "source": [
    "Employment Length<br>\n",
    "We will classify the Employment Length into two values:<br>\n",
    "0 for not employed, and 1 for employed (i.e. any employment length)"
   ]
  },
  {
   "cell_type": "code",
   "execution_count": 147,
   "metadata": {
    "collapsed": true
   },
   "outputs": [],
   "source": [
    "data['employed'] = pd.get_dummies(data['emp_length_updated'], drop_first = True)"
   ]
  },
  {
   "cell_type": "markdown",
   "metadata": {},
   "source": [
    "#### Debt to Income Ratio"
   ]
  },
  {
   "cell_type": "markdown",
   "metadata": {},
   "source": [
    "Debt to Income Ratio will be broken by ranges:<br>\n",
    "(0,10), (10,20), (20,30), and (30, 30+).<br>\n",
    "\n",
    "<br>\n",
    "The debt to income ratio column will then be converted into dummy variables."
   ]
  },
  {
   "cell_type": "code",
   "execution_count": 148,
   "metadata": {
    "collapsed": true
   },
   "outputs": [],
   "source": [
    "data['dti_range'] = data['dti'].apply(lambda x:\n",
    "                                                    10 if x < 10 else (\n",
    "                                                        20 if x < 20 else (\n",
    "                                                        30 if x < 30 else (\n",
    "                                                        '30 +'))))"
   ]
  },
  {
   "cell_type": "code",
   "execution_count": 150,
   "metadata": {
    "collapsed": true
   },
   "outputs": [],
   "source": [
    "dti_dummies = pd.get_dummies(data['dti_range'], prefix = 'dti', drop_first = True)"
   ]
  },
  {
   "cell_type": "code",
   "execution_count": 262,
   "metadata": {},
   "outputs": [
    {
     "data": {
      "text/html": [
       "<div>\n",
       "<style>\n",
       "    .dataframe thead tr:only-child th {\n",
       "        text-align: right;\n",
       "    }\n",
       "\n",
       "    .dataframe thead th {\n",
       "        text-align: left;\n",
       "    }\n",
       "\n",
       "    .dataframe tbody tr th {\n",
       "        vertical-align: top;\n",
       "    }\n",
       "</style>\n",
       "<table border=\"1\" class=\"dataframe\">\n",
       "  <thead>\n",
       "    <tr style=\"text-align: right;\">\n",
       "      <th></th>\n",
       "      <th>dti_20</th>\n",
       "      <th>dti_30</th>\n",
       "      <th>dti_30 +</th>\n",
       "    </tr>\n",
       "  </thead>\n",
       "  <tbody>\n",
       "    <tr>\n",
       "      <th>35836</th>\n",
       "      <td>1</td>\n",
       "      <td>0</td>\n",
       "      <td>0</td>\n",
       "    </tr>\n",
       "    <tr>\n",
       "      <th>95665</th>\n",
       "      <td>1</td>\n",
       "      <td>0</td>\n",
       "      <td>0</td>\n",
       "    </tr>\n",
       "  </tbody>\n",
       "</table>\n",
       "</div>"
      ],
      "text/plain": [
       "       dti_20  dti_30  dti_30 +\n",
       "35836       1       0         0\n",
       "95665       1       0         0"
      ]
     },
     "execution_count": 262,
     "metadata": {},
     "output_type": "execute_result"
    }
   ],
   "source": [
    "dti_dummies.head(2)"
   ]
  },
  {
   "cell_type": "markdown",
   "metadata": {},
   "source": [
    "#### Annual Income"
   ]
  },
  {
   "cell_type": "markdown",
   "metadata": {},
   "source": [
    "The annual income column is converted into dummy variables."
   ]
  },
  {
   "cell_type": "code",
   "execution_count": 151,
   "metadata": {
    "collapsed": true,
    "scrolled": true
   },
   "outputs": [],
   "source": [
    "inc_dummies = pd.get_dummies(data['annual_inc_range'], prefix = 'income')"
   ]
  },
  {
   "cell_type": "code",
   "execution_count": 152,
   "metadata": {
    "collapsed": true
   },
   "outputs": [],
   "source": [
    "inc_dummies.drop('income_10000000', axis = 1, inplace = True)"
   ]
  },
  {
   "cell_type": "code",
   "execution_count": 153,
   "metadata": {},
   "outputs": [
    {
     "data": {
      "text/html": [
       "<div>\n",
       "<style>\n",
       "    .dataframe thead tr:only-child th {\n",
       "        text-align: right;\n",
       "    }\n",
       "\n",
       "    .dataframe thead th {\n",
       "        text-align: left;\n",
       "    }\n",
       "\n",
       "    .dataframe tbody tr th {\n",
       "        vertical-align: top;\n",
       "    }\n",
       "</style>\n",
       "<table border=\"1\" class=\"dataframe\">\n",
       "  <thead>\n",
       "    <tr style=\"text-align: right;\">\n",
       "      <th></th>\n",
       "      <th>income_30000</th>\n",
       "      <th>income_52000</th>\n",
       "      <th>income_75000</th>\n",
       "      <th>income_100000</th>\n",
       "      <th>income_150000</th>\n",
       "    </tr>\n",
       "  </thead>\n",
       "  <tbody>\n",
       "    <tr>\n",
       "      <th>35836</th>\n",
       "      <td>0</td>\n",
       "      <td>0</td>\n",
       "      <td>0</td>\n",
       "      <td>1</td>\n",
       "      <td>0</td>\n",
       "    </tr>\n",
       "    <tr>\n",
       "      <th>95665</th>\n",
       "      <td>0</td>\n",
       "      <td>0</td>\n",
       "      <td>1</td>\n",
       "      <td>0</td>\n",
       "      <td>0</td>\n",
       "    </tr>\n",
       "    <tr>\n",
       "      <th>31601</th>\n",
       "      <td>0</td>\n",
       "      <td>0</td>\n",
       "      <td>1</td>\n",
       "      <td>0</td>\n",
       "      <td>0</td>\n",
       "    </tr>\n",
       "    <tr>\n",
       "      <th>34158</th>\n",
       "      <td>0</td>\n",
       "      <td>1</td>\n",
       "      <td>0</td>\n",
       "      <td>0</td>\n",
       "      <td>0</td>\n",
       "    </tr>\n",
       "    <tr>\n",
       "      <th>159966</th>\n",
       "      <td>0</td>\n",
       "      <td>0</td>\n",
       "      <td>1</td>\n",
       "      <td>0</td>\n",
       "      <td>0</td>\n",
       "    </tr>\n",
       "  </tbody>\n",
       "</table>\n",
       "</div>"
      ],
      "text/plain": [
       "        income_30000  income_52000  income_75000  income_100000  income_150000\n",
       "35836              0             0             0              1              0\n",
       "95665              0             0             1              0              0\n",
       "31601              0             0             1              0              0\n",
       "34158              0             1             0              0              0\n",
       "159966             0             0             1              0              0"
      ]
     },
     "execution_count": 153,
     "metadata": {},
     "output_type": "execute_result"
    }
   ],
   "source": [
    "inc_dummies.head()"
   ]
  },
  {
   "cell_type": "markdown",
   "metadata": {},
   "source": [
    "#### Home Ownership Status"
   ]
  },
  {
   "cell_type": "markdown",
   "metadata": {},
   "source": [
    "Home Ownership column is converted into dummy variables."
   ]
  },
  {
   "cell_type": "code",
   "execution_count": 154,
   "metadata": {
    "collapsed": true
   },
   "outputs": [],
   "source": [
    "home_dummies = pd.get_dummies(data['home_ownership_group'], prefix = 'home')"
   ]
  },
  {
   "cell_type": "code",
   "execution_count": 155,
   "metadata": {
    "collapsed": true
   },
   "outputs": [],
   "source": [
    "home_dummies.drop('home_NONE', axis = 1, inplace = True)\n",
    "home_dummies.drop('home_OTHER', axis = 1, inplace = True)"
   ]
  },
  {
   "cell_type": "code",
   "execution_count": 263,
   "metadata": {},
   "outputs": [
    {
     "data": {
      "text/html": [
       "<div>\n",
       "<style>\n",
       "    .dataframe thead tr:only-child th {\n",
       "        text-align: right;\n",
       "    }\n",
       "\n",
       "    .dataframe thead th {\n",
       "        text-align: left;\n",
       "    }\n",
       "\n",
       "    .dataframe tbody tr th {\n",
       "        vertical-align: top;\n",
       "    }\n",
       "</style>\n",
       "<table border=\"1\" class=\"dataframe\">\n",
       "  <thead>\n",
       "    <tr style=\"text-align: right;\">\n",
       "      <th></th>\n",
       "      <th>home_MORTGAGE</th>\n",
       "      <th>home_OWN</th>\n",
       "      <th>home_RENT</th>\n",
       "    </tr>\n",
       "  </thead>\n",
       "  <tbody>\n",
       "    <tr>\n",
       "      <th>35836</th>\n",
       "      <td>0</td>\n",
       "      <td>0</td>\n",
       "      <td>1</td>\n",
       "    </tr>\n",
       "    <tr>\n",
       "      <th>95665</th>\n",
       "      <td>0</td>\n",
       "      <td>0</td>\n",
       "      <td>1</td>\n",
       "    </tr>\n",
       "  </tbody>\n",
       "</table>\n",
       "</div>"
      ],
      "text/plain": [
       "       home_MORTGAGE  home_OWN  home_RENT\n",
       "35836              0         0          1\n",
       "95665              0         0          1"
      ]
     },
     "execution_count": 263,
     "metadata": {},
     "output_type": "execute_result"
    }
   ],
   "source": [
    "home_dummies.head(2)"
   ]
  },
  {
   "cell_type": "markdown",
   "metadata": {},
   "source": [
    "#### Loan Term"
   ]
  },
  {
   "cell_type": "markdown",
   "metadata": {},
   "source": [
    "Loan Term<br>\n",
    "The loan term will be converted in a categorical value as follow:<br>\n",
    "36-month term vs 60-month term"
   ]
  },
  {
   "cell_type": "code",
   "execution_count": 159,
   "metadata": {
    "collapsed": true
   },
   "outputs": [],
   "source": [
    "data['term_60'] = pd.get_dummies(data['term'], drop_first = True)"
   ]
  },
  {
   "cell_type": "markdown",
   "metadata": {},
   "source": [
    "#### Purpose"
   ]
  },
  {
   "cell_type": "markdown",
   "metadata": {},
   "source": [
    "Purpose column is converted into dummy variables."
   ]
  },
  {
   "cell_type": "code",
   "execution_count": 163,
   "metadata": {},
   "outputs": [
    {
     "data": {
      "image/png": "[encoded data removed]",
      "text/plain": [
       "<matplotlib.figure.Figure at 0x1269a1a10>"
      ]
     },
     "metadata": {},
     "output_type": "display_data"
    }
   ],
   "source": [
    "df10 = data['loan_status'].groupby(data['purpose']).value_counts(normalize = True).unstack().sort_values('Fully Paid').plot(kind = 'barh',\n",
    "                                        title = 'Percent of Paid vs Default Loans by Purpose', rot =0,\n",
    "                                        figsize = (7,5));\n",
    "df10.xaxis.set_major_formatter(FuncFormatter(lambda x, _: '{:.0%}'.format(x))) ;\n",
    "plt.legend(bbox_to_anchor=(1.0, 1.0));\n",
    "                                                        \n"
   ]
  },
  {
   "cell_type": "code",
   "execution_count": 164,
   "metadata": {
    "collapsed": true
   },
   "outputs": [],
   "source": [
    "purpose_dummies = pd.get_dummies(data['purpose'], prefix = 'purpose', drop_first = True)"
   ]
  },
  {
   "cell_type": "code",
   "execution_count": 265,
   "metadata": {},
   "outputs": [
    {
     "data": {
      "text/html": [
       "<div>\n",
       "<style>\n",
       "    .dataframe thead tr:only-child th {\n",
       "        text-align: right;\n",
       "    }\n",
       "\n",
       "    .dataframe thead th {\n",
       "        text-align: left;\n",
       "    }\n",
       "\n",
       "    .dataframe tbody tr th {\n",
       "        vertical-align: top;\n",
       "    }\n",
       "</style>\n",
       "<table border=\"1\" class=\"dataframe\">\n",
       "  <thead>\n",
       "    <tr style=\"text-align: right;\">\n",
       "      <th></th>\n",
       "      <th>purpose_credit_card</th>\n",
       "      <th>purpose_debt_consolidation</th>\n",
       "      <th>purpose_educational</th>\n",
       "      <th>purpose_home_improvement</th>\n",
       "      <th>purpose_house</th>\n",
       "      <th>purpose_major_purchase</th>\n",
       "      <th>purpose_medical</th>\n",
       "      <th>purpose_moving</th>\n",
       "      <th>purpose_other</th>\n",
       "      <th>purpose_renewable_energy</th>\n",
       "      <th>purpose_small_business</th>\n",
       "      <th>purpose_vacation</th>\n",
       "      <th>purpose_wedding</th>\n",
       "    </tr>\n",
       "  </thead>\n",
       "  <tbody>\n",
       "    <tr>\n",
       "      <th>35836</th>\n",
       "      <td>0</td>\n",
       "      <td>1</td>\n",
       "      <td>0</td>\n",
       "      <td>0</td>\n",
       "      <td>0</td>\n",
       "      <td>0</td>\n",
       "      <td>0</td>\n",
       "      <td>0</td>\n",
       "      <td>0</td>\n",
       "      <td>0</td>\n",
       "      <td>0</td>\n",
       "      <td>0</td>\n",
       "      <td>0</td>\n",
       "    </tr>\n",
       "    <tr>\n",
       "      <th>95665</th>\n",
       "      <td>0</td>\n",
       "      <td>1</td>\n",
       "      <td>0</td>\n",
       "      <td>0</td>\n",
       "      <td>0</td>\n",
       "      <td>0</td>\n",
       "      <td>0</td>\n",
       "      <td>0</td>\n",
       "      <td>0</td>\n",
       "      <td>0</td>\n",
       "      <td>0</td>\n",
       "      <td>0</td>\n",
       "      <td>0</td>\n",
       "    </tr>\n",
       "  </tbody>\n",
       "</table>\n",
       "</div>"
      ],
      "text/plain": [
       "       purpose_credit_card  purpose_debt_consolidation  purpose_educational  \\\n",
       "35836                    0                           1                    0   \n",
       "95665                    0                           1                    0   \n",
       "\n",
       "       purpose_home_improvement  purpose_house  purpose_major_purchase  \\\n",
       "35836                         0              0                       0   \n",
       "95665                         0              0                       0   \n",
       "\n",
       "       purpose_medical  purpose_moving  purpose_other  \\\n",
       "35836                0               0              0   \n",
       "95665                0               0              0   \n",
       "\n",
       "       purpose_renewable_energy  purpose_small_business  purpose_vacation  \\\n",
       "35836                         0                       0                 0   \n",
       "95665                         0                       0                 0   \n",
       "\n",
       "       purpose_wedding  \n",
       "35836                0  \n",
       "95665                0  "
      ]
     },
     "execution_count": 265,
     "metadata": {},
     "output_type": "execute_result"
    }
   ],
   "source": [
    "purpose_dummies.head(2)"
   ]
  },
  {
   "cell_type": "markdown",
   "metadata": {
    "collapsed": true
   },
   "source": [
    "#### Installment to Monthly Income Ratio"
   ]
  },
  {
   "cell_type": "code",
   "execution_count": 165,
   "metadata": {
    "collapsed": true
   },
   "outputs": [],
   "source": [
    "data['monthly_ratio'] = (data['installment']/(data['annual_inc']/12))*100"
   ]
  },
  {
   "cell_type": "code",
   "execution_count": 166,
   "metadata": {
    "collapsed": true
   },
   "outputs": [],
   "source": [
    "data['monthly_ratio_range'] = data['monthly_ratio'].apply(lambda x:\n",
    "                                                    5 if x < 5 else (\n",
    "                                                    10 if x < 10 else (\n",
    "                                                        20)))"
   ]
  },
  {
   "cell_type": "code",
   "execution_count": 167,
   "metadata": {
    "collapsed": true
   },
   "outputs": [],
   "source": [
    "monthly_ratio_dummies = pd.get_dummies(data['monthly_ratio_range'], prefix = 'monthly_ratio', drop_first= True)"
   ]
  },
  {
   "cell_type": "code",
   "execution_count": 266,
   "metadata": {},
   "outputs": [
    {
     "data": {
      "text/html": [
       "<div>\n",
       "<style>\n",
       "    .dataframe thead tr:only-child th {\n",
       "        text-align: right;\n",
       "    }\n",
       "\n",
       "    .dataframe thead th {\n",
       "        text-align: left;\n",
       "    }\n",
       "\n",
       "    .dataframe tbody tr th {\n",
       "        vertical-align: top;\n",
       "    }\n",
       "</style>\n",
       "<table border=\"1\" class=\"dataframe\">\n",
       "  <thead>\n",
       "    <tr style=\"text-align: right;\">\n",
       "      <th></th>\n",
       "      <th>monthly_ratio_10</th>\n",
       "      <th>monthly_ratio_20</th>\n",
       "    </tr>\n",
       "  </thead>\n",
       "  <tbody>\n",
       "    <tr>\n",
       "      <th>35836</th>\n",
       "      <td>0</td>\n",
       "      <td>1</td>\n",
       "    </tr>\n",
       "    <tr>\n",
       "      <th>95665</th>\n",
       "      <td>0</td>\n",
       "      <td>1</td>\n",
       "    </tr>\n",
       "  </tbody>\n",
       "</table>\n",
       "</div>"
      ],
      "text/plain": [
       "       monthly_ratio_10  monthly_ratio_20\n",
       "35836                 0                 1\n",
       "95665                 0                 1"
      ]
     },
     "execution_count": 266,
     "metadata": {},
     "output_type": "execute_result"
    }
   ],
   "source": [
    "monthly_ratio_dummies.head(2)"
   ]
  },
  {
   "cell_type": "code",
   "execution_count": null,
   "metadata": {
    "collapsed": true
   },
   "outputs": [],
   "source": []
  },
  {
   "cell_type": "markdown",
   "metadata": {},
   "source": [
    "#### Logistic Regression - MODEL 5\n",
    "#### With grade as a categorical variable"
   ]
  },
  {
   "cell_type": "code",
   "execution_count": 188,
   "metadata": {
    "collapsed": true
   },
   "outputs": [],
   "source": [
    "# Add all columns chosen for the model\n",
    "datax = pd.concat([data[['grade_num','employed','term_60']],\n",
    "                   dti_dummies, home_dummies, inc_dummies, \n",
    "                   purpose_dummies, monthly_ratio_dummies, data['loan_status_num']], axis = 1)"
   ]
  },
  {
   "cell_type": "code",
   "execution_count": 211,
   "metadata": {
    "collapsed": true
   },
   "outputs": [],
   "source": [
    "# Add grade as dummy variables\n",
    "datax = pd.concat([datax, pd.get_dummies(datax['grade_num'], prefix = 'grade', drop_first = True)], axis = 1)"
   ]
  },
  {
   "cell_type": "code",
   "execution_count": 214,
   "metadata": {},
   "outputs": [
    {
     "name": "stdout",
     "output_type": "stream",
     "text": [
      "0.800602686222\n"
     ]
    }
   ],
   "source": [
    "from sklearn.linear_model import LogisticRegression\n",
    "logreg = LogisticRegression()\n",
    "X = datax.drop(['grade_num','loan_status_num'], axis = 1)\n",
    "y = datax['loan_status_num']\n",
    "\n",
    "from sklearn.model_selection import train_test_split\n",
    "X_train, X_test, y_train, y_test = train_test_split(X,y, random_state = 1)\n",
    "\n",
    "logreg.fit(X_train, y_train)\n",
    "\n",
    "y_pred = logreg.predict(X_test)\n",
    "\n",
    "print logreg.score(X_test, y_test)\n",
    "y_pred_prob = logreg.predict_proba(X_test)[:, 1]"
   ]
  },
  {
   "cell_type": "code",
   "execution_count": 276,
   "metadata": {},
   "outputs": [
    {
     "data": {
      "text/plain": [
       "array([[  2116,  29216],\n",
       "       [  1619, 121690]])"
      ]
     },
     "execution_count": 276,
     "metadata": {},
     "output_type": "execute_result"
    }
   ],
   "source": [
    "from sklearn import metrics\n",
    "metrics.confusion_matrix(y_true=y_test, y_pred=logreg.predict(X_test))"
   ]
  },
  {
   "cell_type": "code",
   "execution_count": 215,
   "metadata": {
    "collapsed": true
   },
   "outputs": [],
   "source": [
    "y_base = []\n",
    "for n in enumerate(y_pred):\n",
    "    y_base.append(1)"
   ]
  },
  {
   "cell_type": "code",
   "execution_count": 216,
   "metadata": {},
   "outputs": [
    {
     "name": "stdout",
     "output_type": "stream",
     "text": [
      "0.797388790812\n"
     ]
    }
   ],
   "source": [
    "from sklearn import metrics\n",
    "\n",
    "print metrics.accuracy_score(y_test, y_base)"
   ]
  },
  {
   "cell_type": "code",
   "execution_count": 218,
   "metadata": {},
   "outputs": [
    {
     "data": {
      "text/plain": [
       "array([[     0,  31332],\n",
       "       [     0, 123309]])"
      ]
     },
     "execution_count": 218,
     "metadata": {},
     "output_type": "execute_result"
    }
   ],
   "source": [
    "from sklearn import metrics\n",
    "metrics.confusion_matrix(y_true=y_test, y_pred=y_base)"
   ]
  },
  {
   "cell_type": "code",
   "execution_count": 278,
   "metadata": {},
   "outputs": [
    {
     "name": "stdout",
     "output_type": "stream",
     "text": [
      "[[ 0.08733606  0.91266394]]\n",
      "0.912663940011\n"
     ]
    },
    {
     "name": "stderr",
     "output_type": "stream",
     "text": [
      "/anaconda/lib/python2.7/site-packages/sklearn/utils/validation.py:395: DeprecationWarning:\n",
      "\n",
      "Passing 1d arrays as data is deprecated in 0.17 and will raise ValueError in 0.19. Reshape your data either using X.reshape(-1, 1) if your data has a single feature or X.reshape(1, -1) if it contains a single sample.\n",
      "\n"
     ]
    }
   ],
   "source": [
    "#Grade A\n",
    "p = logreg.predict_proba([1,0,0,0,1,0,0,1,0,0,0,0,1,0,1,0,0,0,0,0,0,0,0,0,0,0,0,0,0,0,0,0,0,1])\n",
    "print p\n",
    "print p[0][1]"
   ]
  },
  {
   "cell_type": "code",
   "execution_count": 227,
   "metadata": {},
   "outputs": [
    {
     "name": "stdout",
     "output_type": "stream",
     "text": [
      "~~~~ CROSS VALIDATION each fold ~~~~\n",
      "Model 1\n",
      "MSE: 0.200657974506\n",
      "R2: 0.800088269101\n",
      "[[ 0.40238876 -0.59795328 -0.17066188 -0.38864879 -0.61974247  0.32949185\n",
      "   0.17203457  0.02567096 -0.1812425  -0.15223646 -0.07922582  0.01591878\n",
      "   0.0678443  -0.12017668 -0.14626539 -0.39804378 -0.19033457 -0.01810329\n",
      "  -0.12974714 -0.18324449 -0.19199323 -0.11840281 -0.32271841 -0.51629579\n",
      "  -0.14026992  0.37979091 -0.13527037 -0.27505728  0.1728337   0.29645406\n",
      "   0.51438604  0.81005186  1.30493794  1.94073735]]\n",
      "Model 2\n",
      "MSE: 0.199211077251\n",
      "R2: 0.800140001908\n",
      "[[  4.15327385e-01  -5.98076219e-01  -1.60609270e-01  -3.81558653e-01\n",
      "   -5.98491853e-01   2.64367404e-01   1.05342036e-01  -4.35680703e-02\n",
      "   -1.90550820e-01  -1.60577239e-01  -8.66864124e-02  -1.76773557e-03\n",
      "    5.65784176e-02  -1.46564661e-01  -1.72584504e-01  -2.54492875e-01\n",
      "   -2.28487054e-01  -3.75522931e-02  -1.66455455e-01  -2.52273605e-01\n",
      "   -2.29180950e-01  -1.44233266e-01  -3.23312151e-01  -5.38701175e-01\n",
      "   -1.71866290e-01   4.24412953e-01  -1.45613430e-01  -2.80092624e-01\n",
      "    9.30970647e-02   2.38966696e-01   4.54736508e-01   7.45052364e-01\n",
      "    1.24045108e+00   1.86996121e+00]]\n",
      "Model 3\n",
      "MSE: 0.199049412754\n",
      "R2: 0.800201434615\n",
      "[[ 0.41134795 -0.59344823 -0.1556873  -0.38066762 -0.59973712  0.13942254\n",
      "  -0.00232223 -0.16409972 -0.20229758 -0.15673663 -0.08356665  0.00792815\n",
      "   0.07096163 -0.08394601 -0.11186111 -0.46873016 -0.16585823 -0.04765649\n",
      "  -0.10954063 -0.18388204 -0.13660079 -0.08629482 -0.15367407 -0.48072893\n",
      "  -0.13925053  0.47363507 -0.14466797 -0.28039756  0.12960918  0.2743095\n",
      "   0.48475726  0.77959802  1.27593131  1.9171894 ]]\n",
      "Model 4\n",
      "MSE: 0.200853595447\n",
      "R2: 0.800059169397\n",
      "[[ 0.40770784 -0.58937302 -0.16480416 -0.38761716 -0.6051482   0.3149313\n",
      "   0.15775439  0.01111654 -0.18364976 -0.15056177 -0.06821552  0.01652826\n",
      "   0.0714412  -0.07474404 -0.10046003 -0.2134322  -0.15883323 -0.05603041\n",
      "  -0.09183574 -0.16758852 -0.17609675 -0.07374649 -0.29464963 -0.49395964\n",
      "  -0.07218019  0.45009757 -0.14510759 -0.27798387  0.13908919  0.27648493\n",
      "   0.48359492  0.79025165  1.27887675  1.91068138]]\n",
      "Model 5\n",
      "MSE: 0.199988683394\n",
      "R2: 0.800162635011\n",
      "[[  4.17314240e-01  -5.93791437e-01  -1.58155699e-01  -3.78833408e-01\n",
      "   -6.20126221e-01   2.60938540e-01   1.03466839e-01  -5.44222845e-02\n",
      "   -1.86100330e-01  -1.50618484e-01  -7.65286374e-02   5.07068978e-04\n",
      "    5.88236569e-02  -1.71761226e-01  -2.02867082e-01  -2.16536123e-01\n",
      "   -2.65970361e-01  -7.98589142e-02  -1.79399724e-01  -2.62423625e-01\n",
      "   -2.49131113e-01  -1.67470164e-01  -4.07756140e-01  -5.70469251e-01\n",
      "   -2.03280753e-01   3.17579185e-01  -1.42063303e-01  -2.82220913e-01\n",
      "    1.08073742e-01   2.47221403e-01   4.65445513e-01   7.61435909e-01\n",
      "    1.25687472e+00   1.88821646e+00]]\n",
      "~~~~ SUMMARY OF CROSS VALIDATION ~~~~\n",
      "Mean of MSE for all folds: 0.19995214867\n",
      "Mean of R2 for all folds: 0.800130302006\n"
     ]
    }
   ],
   "source": [
    "from sklearn import model_selection\n",
    "kf = model_selection.KFold(n_splits=5, shuffle=True)\n",
    "\n",
    "mse_values = []\n",
    "scores = []\n",
    "n= 0\n",
    "\n",
    "X = datax.drop(['grade_num','loan_status_num'], axis = 1)\n",
    "y = datax['loan_status_num']\n",
    "\n",
    "print \"~~~~ CROSS VALIDATION each fold ~~~~\"\n",
    "for train_index, test_index in kf.split(X, y):\n",
    "    logr = LogisticRegression()\n",
    "    logr.fit(X.iloc[train_index], y.iloc[train_index])\n",
    "    mse_values.append(metrics.mean_squared_error(y.iloc[test_index], logr.predict(X.iloc[test_index])))\n",
    "    scores.append(logr.score(X, y))\n",
    "    n+=1\n",
    "    print 'Model', n\n",
    "    print 'MSE:', mse_values[n-1]\n",
    "    print 'R2:', scores[n-1]\n",
    "    print logr.coef_\n",
    "\n",
    "\n",
    "print \"~~~~ SUMMARY OF CROSS VALIDATION ~~~~\"\n",
    "print 'Mean of MSE for all folds:', np.mean(mse_values)\n",
    "print 'Mean of R2 for all folds:', np.mean(scores)\n",
    "\n"
   ]
  },
  {
   "cell_type": "code",
   "execution_count": 228,
   "metadata": {},
   "outputs": [
    {
     "name": "stdout",
     "output_type": "stream",
     "text": [
      "0.199908494996\n",
      "0.800064019282\n"
     ]
    }
   ],
   "source": [
    "from sklearn.model_selection import cross_val_score\n",
    "kf = model_selection.KFold(n_splits=5, shuffle=True)\n",
    "print np.mean(-cross_val_score(logr, X, y, cv=kf, scoring='neg_mean_squared_error'))\n",
    "print np.mean(cross_val_score(logr, X, y, cv=kf))"
   ]
  },
  {
   "cell_type": "markdown",
   "metadata": {},
   "source": [
    "## Historical Return on Investment"
   ]
  },
  {
   "cell_type": "code",
   "execution_count": 234,
   "metadata": {
    "collapsed": true
   },
   "outputs": [],
   "source": [
    "data['return_inv'] = ((data['total_pymnt_inv']/data['funded_amnt_inv'])-1)*100"
   ]
  },
  {
   "cell_type": "code",
   "execution_count": 236,
   "metadata": {
    "collapsed": true,
    "scrolled": true
   },
   "outputs": [],
   "source": [
    "# table of avg return per grade when fully paid\n",
    "# and then you can say 90% chance that grade loan A will have an estimate avg return of x based on the table\n",
    "\n",
    "efg = data[(data['loan_status_num']==1)&(data['issue_d'].dt.year >= 2007)&\n",
    "     (data['issue_d'].dt.year <= 2014)].groupby('grade')['return_inv'].describe()"
   ]
  },
  {
   "cell_type": "code",
   "execution_count": 237,
   "metadata": {},
   "outputs": [
    {
     "data": {
      "image/png": "[encoded data removed]",
      "text/plain": [
       "<matplotlib.figure.Figure at 0x13cd93410>"
      ]
     },
     "metadata": {},
     "output_type": "display_data"
    }
   ],
   "source": [
    "fig, ax = plt.subplots()\n",
    "#rects1 = ax.bar([1,2,3,4,5,6,7], abc['75%'], alpha = 0.5, width = 0.5, align = 'edge'); #['A','B','C','D','E','F','G']\n",
    "rects2 = ax.bar([1,2,3,4,5,6,7], efg['mean'], width =0.6, color = ['y','g','g','g','r','r','c']); #['A','B','C','D','E','F','G']\n",
    "\n",
    "plt.xticks([1,2,3,4,5,6,7],('A', 'B', 'C', 'D', 'E', 'F', 'G'));\n",
    "plt.yticks(range(0, 51, 10), [str(x) + \"%\" for x in range(0, 51, 10)])  ;\n",
    "plt.title('Average Historical Return on Loans by Grade when Fully Paid');\n",
    "#plt.xticks(fontsize=12)    \n",
    "plt.ylim(0, 45)  ;\n",
    "#plt.figure(figsize=(20,20));\n",
    "\n",
    "def autolabel(rects):\n",
    "    \"\"\"\n",
    "    Attach a text label above each bar displaying its height\n",
    "    \"\"\"\n",
    "    for rect in rects:\n",
    "        height = rect.get_height()\n",
    "        ax.text((rect.get_x() + rect.get_width()/2.), 1.05*(height),\n",
    "                '%2.2f' % float(height) + '%',  fontsize = 10, #color = 'green',\n",
    "        ha='center', va='bottom')\n",
    "autolabel(rects2);\n",
    "\n",
    "\n",
    "plt.show();\n"
   ]
  },
  {
   "cell_type": "code",
   "execution_count": 240,
   "metadata": {
    "collapsed": true
   },
   "outputs": [],
   "source": [
    "abc = data[(data['issue_d'].dt.year >= 2007)&(data['issue_d'].dt.year <= 2014)].groupby('grade')['return_inv'].describe()"
   ]
  },
  {
   "cell_type": "code",
   "execution_count": 242,
   "metadata": {},
   "outputs": [
    {
     "data": {
      "text/html": [
       "<div>\n",
       "<style>\n",
       "    .dataframe thead tr:only-child th {\n",
       "        text-align: right;\n",
       "    }\n",
       "\n",
       "    .dataframe thead th {\n",
       "        text-align: left;\n",
       "    }\n",
       "\n",
       "    .dataframe tbody tr th {\n",
       "        vertical-align: top;\n",
       "    }\n",
       "</style>\n",
       "<table border=\"1\" class=\"dataframe\">\n",
       "  <thead>\n",
       "    <tr style=\"text-align: right;\">\n",
       "      <th></th>\n",
       "      <th>count</th>\n",
       "      <th>mean</th>\n",
       "      <th>std</th>\n",
       "      <th>min</th>\n",
       "      <th>25%</th>\n",
       "      <th>50%</th>\n",
       "      <th>75%</th>\n",
       "      <th>max</th>\n",
       "    </tr>\n",
       "    <tr>\n",
       "      <th>grade</th>\n",
       "      <th></th>\n",
       "      <th></th>\n",
       "      <th></th>\n",
       "      <th></th>\n",
       "      <th></th>\n",
       "      <th></th>\n",
       "      <th></th>\n",
       "      <th></th>\n",
       "    </tr>\n",
       "  </thead>\n",
       "  <tbody>\n",
       "    <tr>\n",
       "      <th>A</th>\n",
       "      <td>71430.0</td>\n",
       "      <td>7.225784</td>\n",
       "      <td>13.299520</td>\n",
       "      <td>-99.432432</td>\n",
       "      <td>7.527427</td>\n",
       "      <td>10.283400</td>\n",
       "      <td>12.260943</td>\n",
       "      <td>25.071923</td>\n",
       "    </tr>\n",
       "    <tr>\n",
       "      <th>B</th>\n",
       "      <td>128088.0</td>\n",
       "      <td>9.701005</td>\n",
       "      <td>20.029075</td>\n",
       "      <td>-100.000000</td>\n",
       "      <td>9.895133</td>\n",
       "      <td>15.797615</td>\n",
       "      <td>19.004857</td>\n",
       "      <td>41.463158</td>\n",
       "    </tr>\n",
       "    <tr>\n",
       "      <th>C</th>\n",
       "      <td>108440.0</td>\n",
       "      <td>9.107053</td>\n",
       "      <td>27.307443</td>\n",
       "      <td>-100.000000</td>\n",
       "      <td>7.769682</td>\n",
       "      <td>19.721407</td>\n",
       "      <td>23.897467</td>\n",
       "      <td>50.210078</td>\n",
       "    </tr>\n",
       "    <tr>\n",
       "      <th>D</th>\n",
       "      <td>64782.0</td>\n",
       "      <td>8.096520</td>\n",
       "      <td>33.176934</td>\n",
       "      <td>-100.000000</td>\n",
       "      <td>2.322701</td>\n",
       "      <td>21.443306</td>\n",
       "      <td>29.480392</td>\n",
       "      <td>72.106730</td>\n",
       "    </tr>\n",
       "    <tr>\n",
       "      <th>E</th>\n",
       "      <td>29178.0</td>\n",
       "      <td>6.502445</td>\n",
       "      <td>39.488183</td>\n",
       "      <td>-100.000000</td>\n",
       "      <td>-22.259202</td>\n",
       "      <td>20.233498</td>\n",
       "      <td>34.936069</td>\n",
       "      <td>67.556111</td>\n",
       "    </tr>\n",
       "    <tr>\n",
       "      <th>F</th>\n",
       "      <td>11030.0</td>\n",
       "      <td>6.558417</td>\n",
       "      <td>43.826225</td>\n",
       "      <td>-100.000000</td>\n",
       "      <td>-29.812859</td>\n",
       "      <td>19.356472</td>\n",
       "      <td>40.657914</td>\n",
       "      <td>74.691930</td>\n",
       "    </tr>\n",
       "    <tr>\n",
       "      <th>G</th>\n",
       "      <td>2608.0</td>\n",
       "      <td>2.029098</td>\n",
       "      <td>46.494196</td>\n",
       "      <td>-100.000000</td>\n",
       "      <td>-40.800327</td>\n",
       "      <td>12.045704</td>\n",
       "      <td>40.621289</td>\n",
       "      <td>75.981903</td>\n",
       "    </tr>\n",
       "  </tbody>\n",
       "</table>\n",
       "</div>"
      ],
      "text/plain": [
       "          count      mean        std         min        25%        50%  \\\n",
       "grade                                                                    \n",
       "A       71430.0  7.225784  13.299520  -99.432432   7.527427  10.283400   \n",
       "B      128088.0  9.701005  20.029075 -100.000000   9.895133  15.797615   \n",
       "C      108440.0  9.107053  27.307443 -100.000000   7.769682  19.721407   \n",
       "D       64782.0  8.096520  33.176934 -100.000000   2.322701  21.443306   \n",
       "E       29178.0  6.502445  39.488183 -100.000000 -22.259202  20.233498   \n",
       "F       11030.0  6.558417  43.826225 -100.000000 -29.812859  19.356472   \n",
       "G        2608.0  2.029098  46.494196 -100.000000 -40.800327  12.045704   \n",
       "\n",
       "             75%        max  \n",
       "grade                        \n",
       "A      12.260943  25.071923  \n",
       "B      19.004857  41.463158  \n",
       "C      23.897467  50.210078  \n",
       "D      29.480392  72.106730  \n",
       "E      34.936069  67.556111  \n",
       "F      40.657914  74.691930  \n",
       "G      40.621289  75.981903  "
      ]
     },
     "execution_count": 242,
     "metadata": {},
     "output_type": "execute_result"
    }
   ],
   "source": [
    "abc"
   ]
  },
  {
   "cell_type": "code",
   "execution_count": 244,
   "metadata": {
    "scrolled": true
   },
   "outputs": [
    {
     "data": {
      "image/png": "[encoded data removed]",
      "text/plain": [
       "<matplotlib.figure.Figure at 0x19380a050>"
      ]
     },
     "metadata": {},
     "output_type": "display_data"
    }
   ],
   "source": [
    "fig, ax = plt.subplots()\n",
    "rects1 = ax.bar([1,2,3,4,5,6,7], abc['75%'], alpha = 0.5, width = 0.5, align = 'edge'); #['A','B','C','D','E','F','G']\n",
    "rects2 = ax.bar([1,2,3,4,5,6,7], abc['mean'], width =0.6, color = ['y','g','g','g','r','r','c']); #['A','B','C','D','E','F','G']\n",
    "\n",
    "plt.xticks([1,2,3,4,5,6,7],('A', 'B', 'C', 'D', 'E', 'F', 'G'));\n",
    "plt.yticks(range(0, 51, 10), [str(x) + \"%\" for x in range(0, 51, 10)])  ;\n",
    "plt.title('Average Historical Return on Loans by Grade');\n",
    "#plt.xticks(fontsize=12)    \n",
    "plt.ylim(0, 45)  ;\n",
    "#plt.figure(figsize=(20,20));\n",
    "\n",
    "def autolabel(rects):\n",
    "    \"\"\"\n",
    "    Attach a text label above each bar displaying its height\n",
    "    \"\"\"\n",
    "    for rect in rects:\n",
    "        height = rect.get_height()\n",
    "        ax.text((rect.get_x() + rect.get_width()/2.), 1.05*(height),\n",
    "                '%2.2f' % float(height) + '%',  fontsize = 10, #color = 'green',\n",
    "        ha='center', va='bottom')\n",
    "autolabel(rects2);\n",
    "\n",
    "\n",
    "plt.show();\n"
   ]
  },
  {
   "cell_type": "code",
   "execution_count": 246,
   "metadata": {},
   "outputs": [
    {
     "data": {
      "image/png": "[encoded data removed]",
      "text/plain": [
       "<matplotlib.figure.Figure at 0x1930925d0>"
      ]
     },
     "metadata": {},
     "output_type": "display_data"
    }
   ],
   "source": [
    "fig, ax = plt.subplots()\n",
    "rects3 = ax.bar([1,2,3,4,5,6,7], abc['mean'], width =0.6, color = 'red'); #['A','B','C','D','E','F','G']\n",
    "\n",
    "plt.xticks([1,2,3,4,5,6,7],('A', 'B', 'C', 'D', 'E', 'F', 'G'));\n",
    "plt.yticks(range(0, 51, 5), [str(x) + \"%\" for x in range(0, 51, 5)])  \n",
    "plt.title('Average Historical Return on Loans by Grade')\n",
    "plt.ylim(0, 15)  \n",
    "plt.xticks([1,2,3,4,5,6,7],('A', 'B', 'C', 'D', 'E', 'F', 'G'));\n",
    "def autolabel(rects):\n",
    "    \"\"\"\n",
    "    Attach a text label above each bar displaying its height\n",
    "    \"\"\"\n",
    "    for rect in rects:\n",
    "        height = rect.get_height()\n",
    "        ax.text((rect.get_x() + rect.get_width()/2.), 1.02*(height),\n",
    "                '%2.2f' % float(height) + '%',  fontsize = 10, \n",
    "        ha='center', va='bottom')\n",
    "autolabel(rects3)\n",
    "plt.show()"
   ]
  },
  {
   "cell_type": "markdown",
   "metadata": {},
   "source": [
    "## FORMULA - EXPECTED RETURN"
   ]
  },
  {
   "cell_type": "code",
   "execution_count": 247,
   "metadata": {
    "collapsed": true
   },
   "outputs": [],
   "source": [
    "# Return Percentage - Ratio of Total Payment over the Funded Amount\n",
    "data['ratio_inv'] = (data['total_pymnt_inv']/data['funded_amnt_inv'])*100"
   ]
  },
  {
   "cell_type": "code",
   "execution_count": 248,
   "metadata": {
    "collapsed": true,
    "scrolled": false
   },
   "outputs": [],
   "source": [
    "c = (data[(data['loan_status_num']== 1)].groupby(['grade','term'])['ratio_inv']).describe()"
   ]
  },
  {
   "cell_type": "code",
   "execution_count": 250,
   "metadata": {
    "collapsed": true
   },
   "outputs": [],
   "source": [
    "d = (data[(data['loan_status_num']== 0)].groupby(['grade','term'])['ratio_inv']).describe()"
   ]
  },
  {
   "cell_type": "code",
   "execution_count": 253,
   "metadata": {
    "collapsed": true
   },
   "outputs": [],
   "source": [
    "def exp_return(grade_num,term,p):\n",
    "    if grade_num == 7 and term == 36:\n",
    "        return (p*(((c['mean']['A'][0])/100)-1)) + ((1-p)*(((d['mean']['A'][0])/100)-1))\n",
    "    elif grade_num == 7 and term == 60:\n",
    "        return (p*(((c['mean']['A'][1])/100)-1)) + ((1-p)*(((d['mean']['A'][1])/100)-1))\n",
    "    elif grade_num == 6 and term == 36:\n",
    "        return (p*(((c['mean']['B'][0])/100)-1)) + ((1-p)*(((d['mean']['B'][0])/100)-1))\n",
    "    elif grade_num == 6 and term == 60:\n",
    "        return (p*(((c['mean']['B'][1])/100)-1)) + ((1-p)*(((d['mean']['B'][1])/100)-1))\n",
    "    elif grade_num == 5 and term == 36:\n",
    "        return (p*(((c['mean']['C'][0])/100)-1)) + ((1-p)*(((d['mean']['C'][0])/100)-1))\n",
    "    elif grade_num == 5 and term == 60:\n",
    "        return (p*(((c['mean']['C'][1])/100)-1)) + ((1-p)*(((d['mean']['C'][1])/100)-1))\n",
    "    elif grade_num == 4 and term == 36:\n",
    "        return (p*(((c['mean']['D'][0])/100)-1)) + ((1-p)*(((d['mean']['D'][0])/100)-1))\n",
    "    elif grade_num == 4 and term == 60:\n",
    "        return (p*(((c['mean']['D'][1])/100)-1)) + ((1-p)*(((d['mean']['D'][1])/100)-1))\n",
    "    elif grade_num == 3 and term == 36:\n",
    "        return (p*(((c['mean']['E'][0])/100)-1)) + ((1-p)*(((d['mean']['E'][0])/100)-1))\n",
    "    elif grade_num == 3 and term == 60:\n",
    "        return (p*(((c['mean']['E'][1])/100)-1)) + ((1-p)*(((d['mean']['E'][1])/100)-1))\n",
    "    elif grade_num == 2 and term == 36:\n",
    "        return (p*(((c['mean']['F'][0])/100)-1)) + ((1-p)*(((d['mean']['F'][0])/100)-1))\n",
    "    elif grade_num == 2 and term == 60:\n",
    "        return (p*(((c['mean']['F'][1])/100)-1)) + ((1-p)*(((d['mean']['F'][1])/100)-1))\n",
    "    elif grade_num == 1 and term == 36:\n",
    "        return (p*(((c['mean']['G'][0])/100)-1)) + ((1-p)*(((d['mean']['G'][0])/100)-1))\n",
    "    else: #grade_num == 1 and term == 60:\n",
    "        return (p*(((c['mean']['G'][1])/100)-1)) + ((1-p)*(((d['mean']['G'][1])/100)-1))"
   ]
  },
  {
   "cell_type": "code",
   "execution_count": 273,
   "metadata": {
    "scrolled": false
   },
   "outputs": [
    {
     "name": "stdout",
     "output_type": "stream",
     "text": [
      "0.95690304967\n"
     ]
    },
    {
     "name": "stderr",
     "output_type": "stream",
     "text": [
      "/anaconda/lib/python2.7/site-packages/sklearn/utils/validation.py:395: DeprecationWarning:\n",
      "\n",
      "Passing 1d arrays as data is deprecated in 0.17 and will raise ValueError in 0.19. Reshape your data either using X.reshape(-1, 1) if your data has a single feature or X.reshape(1, -1) if it contains a single sample.\n",
      "\n"
     ]
    }
   ],
   "source": [
    "#Grade A\n",
    "p = logreg.predict_proba([1,0,1,0,0,1,0,0,0,0,0,0,1,0,1,0,0,0,0,0,0,0,0,0,0,0,0,0,0,0,0,0,0,1])\n",
    "p= p[0][1]\n",
    "print p"
   ]
  },
  {
   "cell_type": "code",
   "execution_count": 274,
   "metadata": {},
   "outputs": [
    {
     "data": {
      "text/plain": [
       "0.11532379357024183"
      ]
     },
     "execution_count": 274,
     "metadata": {},
     "output_type": "execute_result"
    }
   ],
   "source": [
    "(exp_return(6,36,p))"
   ]
  }
 ],
 "metadata": {
  "kernelspec": {
   "display_name": "Python 2",
   "language": "python",
   "name": "python2"
  },
  "language_info": {
   "codemirror_mode": {
    "name": "ipython",
    "version": 2
   },
   "file_extension": ".py",
   "mimetype": "text/x-python",
   "name": "python",
   "nbconvert_exporter": "python",
   "pygments_lexer": "ipython2",
   "version": "2.7.13"
  }
 },
 "nbformat": 4,
 "nbformat_minor": 2
}
